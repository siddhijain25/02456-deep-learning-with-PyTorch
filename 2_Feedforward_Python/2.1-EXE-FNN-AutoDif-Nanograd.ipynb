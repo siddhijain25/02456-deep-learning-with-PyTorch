{
  "cells": [
    {
      "cell_type": "markdown",
      "metadata": {
        "id": "HAva8TnYFtFu"
      },
      "source": [
        "# Contents and why we need this lab\n",
        "\n",
        "This lab is about implementing neural networks yourself before we start using other frameworks that hide some of the computation from you. It builds on the first lab, where you derived the equations for neural network forward and backward propagation and gradient descent parameter updates. \n",
        "\n",
        "All the frameworks for deep learning you will meet from now on use automatic differentiation (autodiff), so you do not have to code the backward step yourself. In this version of this lab, you will develop your own autodif implementation. We also have an optional [version](https://github.com/DeepLearningDTU/02456-deep-learning-with-PyTorch/blob/master/2_Feedforward_Python/2.2-FNN-NumPy.ipynb) of this lab where you have to code the backward pass explicitly in Numpy."
      ]
    },
    {
      "cell_type": "markdown",
      "metadata": {
        "id": "sCa7HzwpFtFy"
      },
      "source": [
        "# External sources of information\n",
        "\n",
        "1. Jupyter notebook. You can find more information about Jupyter notebooks [here](https://jupyter.org/). It will come as part of the [Anaconda](https://www.anaconda.com/) Python installation. \n",
        "2. [NumPy](https://numpy.org/). Part of Anaconda distribution.  If you already know how to program, most things about Python and NumPy can be found with Google searches.\n",
        "3. [Nanograd](https://github.com/rasmusbergpalm/nanograd) is a minimalistic version of autodiff developed by Rasmus Berg Palm that we use for our framework.\n"
      ]
    },
    {
      "cell_type": "markdown",
      "metadata": {
        "id": "1SjiIp-TFtF0"
      },
      "source": [
        "# This notebook will follow the next steps:\n",
        "\n",
        "1. Nanograd automatic differentiation framework\n",
        "2. Finite difference method\n",
        "3. Data generation\n",
        "4. Defining and initializing the network\n",
        "5. Forward pass\n",
        "6. Training loop \n",
        "7. Testing your model\n",
        "8. Further extensions"
      ]
    },
    {
      "cell_type": "markdown",
      "metadata": {
        "id": "OyXeAA-HuT7s"
      },
      "source": [
        "# Nanograd automatic differention framework"
      ]
    },
    {
      "cell_type": "markdown",
      "metadata": {
        "id": "k6UWKCLKubgA"
      },
      "source": [
        "The [Nanograd](https://github.com/rasmusbergpalm/nanograd) framework defines a class Var which both holds a value and gradient value that we can use to store the intermediate values when we apply the chain rule of differentiation."
      ]
    },
    {
      "cell_type": "code",
      "execution_count": 42,
      "metadata": {
        "id": "Jd4CoEBNzNWS"
      },
      "outputs": [],
      "source": [
        "# Copy and pasted from https://github.com/rasmusbergpalm/nanograd/blob/3a1bf9e9e724da813bfccf91a6f309abdade9f39/nanograd.py\n",
        "\n",
        "from math import exp, log\n",
        "\n",
        "class Var:\n",
        "    \"\"\"\n",
        "    A variable which holds a float and enables gradient computations.\n",
        "    \"\"\"\n",
        "\n",
        "    def __init__(self, val: float, grad_fn=lambda: []):\n",
        "        assert type(val) == float\n",
        "        self.v = val\n",
        "        self.grad_fn = grad_fn\n",
        "        self.grad = 0.0\n",
        "\n",
        "    def backprop(self, bp):\n",
        "        self.grad += bp\n",
        "        for input, grad in self.grad_fn():\n",
        "            input.backprop(grad * bp)\n",
        "\n",
        "    def backward(self):\n",
        "        self.backprop(1.0)\n",
        "\n",
        "    def __add__(self: 'Var', other: 'Var') -> 'Var':\n",
        "        return Var(self.v + other.v, lambda: [(self, 1.0), (other, 1.0)])\n",
        "\n",
        "    def __mul__(self: 'Var', other: 'Var') -> 'Var':\n",
        "        return Var(self.v * other.v, lambda: [(self, other.v), (other, self.v)])\n",
        "\n",
        "    def __pow__(self, power):\n",
        "        assert type(power) in {float, int}, \"power must be float or int\"\n",
        "        return Var(self.v ** power, lambda: [(self, power * self.v ** (power - 1))])\n",
        "\n",
        "    def __neg__(self: 'Var') -> 'Var':\n",
        "        return Var(-1.0) * self\n",
        "\n",
        "    def __sub__(self: 'Var', other: 'Var') -> 'Var':\n",
        "        return self + (-other)\n",
        "\n",
        "    def __truediv__(self: 'Var', other: 'Var') -> 'Var':\n",
        "        return self * other ** -1\n",
        "\n",
        "    def __repr__(self):\n",
        "        return \"Var(v=%.4f, grad=%.4f)\" % (self.v, self.grad)\n",
        "\n",
        "    def relu(self):\n",
        "        return Var(self.v if self.v > 0.0 else 0.0, lambda: [(self, 1.0 if self.v > 0.0 else 0.0)])\n",
        "\n",
        "#### Activation functions\n",
        "    def identity(self):\n",
        "        return self\n",
        "    \n",
        "    def tanh(self):\n",
        "        return Var(float(np.tanh(self.v)), lambda : 1-np.tanh(self.grad)**2)\n",
        "    \n",
        "    def sigmoid(self):\n",
        "        sig_x = 1/(1.0+exp(-self.v))\n",
        "        return Var(sig_x, lambda: [(self, sig_x*(1-sig_x))])\n",
        "\n",
        "#### For Loss entropy\n",
        "    def exp(self):\n",
        "        return Var(exp(self.v), lambda: [(self, exp(self.v))])\n",
        "\n",
        "    def log(self):\n",
        "        return Var(log(self.v), lambda: [(self, self.v ** -1)])"
      ]
    },
    {
      "cell_type": "markdown",
      "metadata": {
        "id": "yDX67D6jzcte"
      },
      "source": [
        "A few examples illustrate how we can use this:"
      ]
    },
    {
      "cell_type": "code",
      "execution_count": 43,
      "metadata": {
        "colab": {
          "base_uri": "https://localhost:8080/"
        },
        "id": "xk6PeLc3zwPT",
        "outputId": "ffb6fc27-e20d-4fb4-d912-cb11f28acb23"
      },
      "outputs": [
        {
          "output_type": "stream",
          "name": "stdout",
          "text": [
            "Var(v=3.0000, grad=5.0000)\n",
            "Var(v=5.0000, grad=3.0000)\n",
            "Var(v=15.0000, grad=1.0000)\n"
          ]
        }
      ],
      "source": [
        "a = Var(3.0)\n",
        "b = Var(5.0)\n",
        "f = a * b\n",
        "\n",
        "f.backward()\n",
        "\n",
        "for v in [a, b, f]:\n",
        "    print(v)"
      ]
    },
    {
      "cell_type": "code",
      "execution_count": 44,
      "metadata": {
        "colab": {
          "base_uri": "https://localhost:8080/"
        },
        "id": "JmKhYgsY0g_o",
        "outputId": "cb152033-61d8-4545-b0bb-53b1aa744daa"
      },
      "outputs": [
        {
          "output_type": "stream",
          "name": "stdout",
          "text": [
            "Var(v=3.0000, grad=14.0000)\n",
            "Var(v=5.0000, grad=3.0000)\n",
            "Var(v=15.0000, grad=1.0000)\n",
            "Var(v=9.0000, grad=3.0000)\n",
            "Var(v=27.0000, grad=1.0000)\n",
            "Var(v=42.0000, grad=1.0000)\n"
          ]
        }
      ],
      "source": [
        "a = Var(3.0)\n",
        "b = Var(5.0)\n",
        "c = a * b\n",
        "d = Var(9.0)\n",
        "e = a * d\n",
        "f = c + e\n",
        "\n",
        "f.backward()\n",
        "\n",
        "for v in [a, b, c, d, e, f]:\n",
        "    print(v)"
      ]
    },
    {
      "cell_type": "markdown",
      "metadata": {
        "id": "Fe3B6uEH140p"
      },
      "source": [
        "## Exercise a) What is being calculated?\n",
        "\n",
        "Explain briefly the output of the code? What is the expression we differentiate and with respect to what variables?"
      ]
    },
    {
      "cell_type": "markdown",
      "source": [
        "#**Answer**:\n",
        "The output that is being calculated is the grdient of the function f in relation to the value v \\\\\n",
        "$$ \\frac{\\partial f(f)}{\\partial v} $$ \\\\\n",
        "where $\\partial f(f)$ is the final function f in each case, and $ \\partial v $ are the values of each of the variables (a,b,c,...)\n",
        "For example,\\\n",
        "$$\\frac{\\partial f(a*b)}{\\partial a} = \\frac{\\partial f(15)}{\\partial 3} = 5\n",
        "$$\n",
        "Hence the **gradient**=5\n",
        "\n"
      ],
      "metadata": {
        "id": "K5BeETnT9BWd"
      }
    },
    {
      "cell_type": "markdown",
      "metadata": {
        "id": "q8_Q0t2I3Ruj"
      },
      "source": [
        "## Exercise b) How does the backward function work?\n",
        "\n",
        "You need to understand how the backward function calculates the gradients. We can use the two examples above to help with that.\n",
        "\n",
        "Go through the following four steps and answer the questions on the way:\n",
        "\n",
        "1. We represent the two expressions as graphs as shown below. Fill in the missing expressions for the different derivatives.\n",
        "\n",
        "2. In the remainder consider the first expression. Make a schematic of the data structure which is generated when we define the expression for f. \n",
        "\n",
        "3. Then execute the backward function by hand to convince yourself that it indeed calculates the gradients with respect to the variables. \n",
        "\n",
        "4. Write down the sequence of calls to backprop."
      ]
    },
    {
      "cell_type": "code",
      "execution_count": 45,
      "metadata": {
        "id": "idGr71jYXl26"
      },
      "outputs": [],
      "source": [
        "# import logging\n",
        "import graphviz\n",
        "\n",
        "#logging.basicConfig(format='[%(levelname)s@%(name)s] %(message)s', level=logging.DEBUG)\n",
        "\n",
        "#graphviz.__version__, graphviz.version()"
      ]
    },
    {
      "cell_type": "code",
      "execution_count": 46,
      "metadata": {
        "colab": {
          "base_uri": "https://localhost:8080/",
          "height": 152
        },
        "outputId": "51d7f47e-c1e1-4b1d-a7ff-7d73d71e1c3f",
        "id": "CEi-w_r7sjKQ"
      },
      "outputs": [
        {
          "output_type": "execute_result",
          "data": {
            "text/plain": [
              "<graphviz.dot.Digraph at 0x7f928b197a90>"
            ],
            "image/svg+xml": "<?xml version=\"1.0\" encoding=\"UTF-8\" standalone=\"no\"?>\n<!DOCTYPE svg PUBLIC \"-//W3C//DTD SVG 1.1//EN\"\n \"http://www.w3.org/Graphics/SVG/1.1/DTD/svg11.dtd\">\n<!-- Generated by graphviz version 2.40.1 (20161225.0304)\n -->\n<!-- Title: first expression Pages: 1 -->\n<svg width=\"163pt\" height=\"98pt\"\n viewBox=\"0.00 0.00 163.00 98.00\" xmlns=\"http://www.w3.org/2000/svg\" xmlns:xlink=\"http://www.w3.org/1999/xlink\">\n<g id=\"graph0\" class=\"graph\" transform=\"scale(1 1) rotate(0) translate(4 94)\">\n<title>first expression</title>\n<polygon fill=\"#ffffff\" stroke=\"transparent\" points=\"-4,4 -4,-94 159,-94 159,4 -4,4\"/>\n<!-- a -->\n<g id=\"node1\" class=\"node\">\n<title>a</title>\n<ellipse fill=\"none\" stroke=\"#000000\" cx=\"18\" cy=\"-72\" rx=\"18\" ry=\"18\"/>\n<text text-anchor=\"middle\" x=\"18\" y=\"-68.3\" font-family=\"Times,serif\" font-size=\"14.00\" fill=\"#000000\">a</text>\n</g>\n<!-- f -->\n<g id=\"node2\" class=\"node\">\n<title>f</title>\n<ellipse fill=\"none\" stroke=\"#000000\" cx=\"137\" cy=\"-45\" rx=\"18\" ry=\"18\"/>\n<text text-anchor=\"middle\" x=\"137\" y=\"-41.3\" font-family=\"Times,serif\" font-size=\"14.00\" fill=\"#000000\">f</text>\n</g>\n<!-- a&#45;&gt;f -->\n<g id=\"edge1\" class=\"edge\">\n<title>a&#45;&gt;f</title>\n<path fill=\"none\" stroke=\"#000000\" d=\"M35.5589,-68.0161C55.0696,-63.5892 86.8223,-56.3849 109.6075,-51.2151\"/>\n<polygon fill=\"#000000\" stroke=\"#000000\" points=\"110.3914,-54.6263 119.3691,-49.0003 108.8425,-47.7998 110.3914,-54.6263\"/>\n<text text-anchor=\"middle\" x=\"77.5\" y=\"-66.8\" font-family=\"Times,serif\" font-size=\"14.00\" fill=\"#000000\">df/da=5</text>\n</g>\n<!-- b -->\n<g id=\"node3\" class=\"node\">\n<title>b</title>\n<ellipse fill=\"none\" stroke=\"#000000\" cx=\"18\" cy=\"-18\" rx=\"18\" ry=\"18\"/>\n<text text-anchor=\"middle\" x=\"18\" y=\"-14.3\" font-family=\"Times,serif\" font-size=\"14.00\" fill=\"#000000\">b</text>\n</g>\n<!-- b&#45;&gt;f -->\n<g id=\"edge2\" class=\"edge\">\n<title>b&#45;&gt;f</title>\n<path fill=\"none\" stroke=\"#000000\" d=\"M35.9295,-20.8903C52.8213,-23.7466 78.7823,-28.4807 101,-34 104.0107,-34.7479 107.1426,-35.5967 110.2474,-36.4832\"/>\n<polygon fill=\"#000000\" stroke=\"#000000\" points=\"109.3072,-39.8551 119.8907,-39.3663 111.3124,-33.1484 109.3072,-39.8551\"/>\n<text text-anchor=\"middle\" x=\"77.5\" y=\"-37.8\" font-family=\"Times,serif\" font-size=\"14.00\" fill=\"#000000\">df/db=3</text>\n</g>\n</g>\n</svg>\n"
          },
          "metadata": {},
          "execution_count": 46
        }
      ],
      "source": [
        "e1 = graphviz.Digraph('first expression', filename='fsm.gv')\n",
        "\n",
        "e1.attr(rankdir='LR', size='8,5')\n",
        "\n",
        "e1.attr('node', shape='circle')\n",
        "e1.edge('a', 'f', label='df/da=5')\n",
        "e1.edge('b', 'f', label='df/db=3')\n",
        "\n",
        "e1"
      ]
    },
    {
      "cell_type": "code",
      "execution_count": 47,
      "metadata": {
        "colab": {
          "base_uri": "https://localhost:8080/",
          "height": 232
        },
        "id": "0nittR-mZFeX",
        "outputId": "43585cbb-996e-4340-c9c8-db092da40d89"
      },
      "outputs": [
        {
          "output_type": "execute_result",
          "data": {
            "text/plain": [
              "<graphviz.dot.Digraph at 0x7f928ae9cb50>"
            ],
            "image/svg+xml": "<?xml version=\"1.0\" encoding=\"UTF-8\" standalone=\"no\"?>\n<!DOCTYPE svg PUBLIC \"-//W3C//DTD SVG 1.1//EN\"\n \"http://www.w3.org/Graphics/SVG/1.1/DTD/svg11.dtd\">\n<!-- Generated by graphviz version 2.40.1 (20161225.0304)\n -->\n<!-- Title: second expression Pages: 1 -->\n<svg width=\"283pt\" height=\"158pt\"\n viewBox=\"0.00 0.00 283.00 158.00\" xmlns=\"http://www.w3.org/2000/svg\" xmlns:xlink=\"http://www.w3.org/1999/xlink\">\n<g id=\"graph0\" class=\"graph\" transform=\"scale(1 1) rotate(0) translate(4 154)\">\n<title>second expression</title>\n<polygon fill=\"#ffffff\" stroke=\"transparent\" points=\"-4,4 -4,-154 279,-154 279,4 -4,4\"/>\n<!-- a -->\n<g id=\"node1\" class=\"node\">\n<title>a</title>\n<ellipse fill=\"none\" stroke=\"#000000\" cx=\"18\" cy=\"-75\" rx=\"18\" ry=\"18\"/>\n<text text-anchor=\"middle\" x=\"18\" y=\"-71.3\" font-family=\"Times,serif\" font-size=\"14.00\" fill=\"#000000\">a</text>\n</g>\n<!-- c -->\n<g id=\"node2\" class=\"node\">\n<title>c</title>\n<ellipse fill=\"none\" stroke=\"#000000\" cx=\"139\" cy=\"-102\" rx=\"18\" ry=\"18\"/>\n<text text-anchor=\"middle\" x=\"139\" y=\"-98.3\" font-family=\"Times,serif\" font-size=\"14.00\" fill=\"#000000\">c</text>\n</g>\n<!-- a&#45;&gt;c -->\n<g id=\"edge1\" class=\"edge\">\n<title>a&#45;&gt;c</title>\n<path fill=\"none\" stroke=\"#000000\" d=\"M35.5944,-78.926C55.4884,-83.3652 88.1343,-90.6498 111.4223,-95.8463\"/>\n<polygon fill=\"#000000\" stroke=\"#000000\" points=\"110.8621,-99.3073 121.3843,-98.0692 112.3866,-92.4753 110.8621,-99.3073\"/>\n<text text-anchor=\"middle\" x=\"78.5\" y=\"-96.8\" font-family=\"Times,serif\" font-size=\"14.00\" fill=\"#000000\">dc/da=5</text>\n</g>\n<!-- e -->\n<g id=\"node4\" class=\"node\">\n<title>e</title>\n<ellipse fill=\"none\" stroke=\"#000000\" cx=\"139\" cy=\"-48\" rx=\"18\" ry=\"18\"/>\n<text text-anchor=\"middle\" x=\"139\" y=\"-44.3\" font-family=\"Times,serif\" font-size=\"14.00\" fill=\"#000000\">e</text>\n</g>\n<!-- a&#45;&gt;e -->\n<g id=\"edge3\" class=\"edge\">\n<title>a&#45;&gt;e</title>\n<path fill=\"none\" stroke=\"#000000\" d=\"M35.1054,-69.3508C41.0478,-67.5012 47.781,-65.5305 54,-64 72.7788,-59.3786 94.1758,-55.3576 110.804,-52.5026\"/>\n<polygon fill=\"#000000\" stroke=\"#000000\" points=\"111.6826,-55.9042 120.9669,-50.8002 110.5261,-49.0004 111.6826,-55.9042\"/>\n<text text-anchor=\"middle\" x=\"78.5\" y=\"-67.8\" font-family=\"Times,serif\" font-size=\"14.00\" fill=\"#000000\">de/da=9</text>\n</g>\n<!-- f -->\n<g id=\"node6\" class=\"node\">\n<title>f</title>\n<ellipse fill=\"none\" stroke=\"#000000\" cx=\"257\" cy=\"-75\" rx=\"18\" ry=\"18\"/>\n<text text-anchor=\"middle\" x=\"257\" y=\"-71.3\" font-family=\"Times,serif\" font-size=\"14.00\" fill=\"#000000\">f</text>\n</g>\n<!-- c&#45;&gt;f -->\n<g id=\"edge5\" class=\"edge\">\n<title>c&#45;&gt;f</title>\n<path fill=\"none\" stroke=\"#000000\" d=\"M156.6658,-97.9578C175.8698,-93.5637 206.8151,-86.483 229.2661,-81.3459\"/>\n<polygon fill=\"#000000\" stroke=\"#000000\" points=\"230.2461,-84.7122 239.2134,-79.0698 228.6847,-77.8885 230.2461,-84.7122\"/>\n<text text-anchor=\"middle\" x=\"198\" y=\"-96.8\" font-family=\"Times,serif\" font-size=\"14.00\" fill=\"#000000\">df/dc=1</text>\n</g>\n<!-- b -->\n<g id=\"node3\" class=\"node\">\n<title>b</title>\n<ellipse fill=\"none\" stroke=\"#000000\" cx=\"18\" cy=\"-132\" rx=\"18\" ry=\"18\"/>\n<text text-anchor=\"middle\" x=\"18\" y=\"-128.3\" font-family=\"Times,serif\" font-size=\"14.00\" fill=\"#000000\">b</text>\n</g>\n<!-- b&#45;&gt;c -->\n<g id=\"edge2\" class=\"edge\">\n<title>b&#45;&gt;c</title>\n<path fill=\"none\" stroke=\"#000000\" d=\"M35.5944,-127.6377C55.4884,-122.7054 88.1343,-114.6113 111.4223,-108.8374\"/>\n<polygon fill=\"#000000\" stroke=\"#000000\" points=\"112.5205,-112.1712 121.3843,-106.3675 110.8359,-105.3769 112.5205,-112.1712\"/>\n<text text-anchor=\"middle\" x=\"78.5\" y=\"-125.8\" font-family=\"Times,serif\" font-size=\"14.00\" fill=\"#000000\">dc/db=3</text>\n</g>\n<!-- e&#45;&gt;f -->\n<g id=\"edge6\" class=\"edge\">\n<title>e&#45;&gt;f</title>\n<path fill=\"none\" stroke=\"#000000\" d=\"M157.0339,-50.9637C173.7278,-53.8381 199.1872,-58.555 221,-64 224.0098,-64.7513 227.1413,-65.6022 230.2457,-66.4899\"/>\n<polygon fill=\"#000000\" stroke=\"#000000\" points=\"229.3051,-69.8618 239.8887,-69.3744 231.3112,-63.1554 229.3051,-69.8618\"/>\n<text text-anchor=\"middle\" x=\"198\" y=\"-67.8\" font-family=\"Times,serif\" font-size=\"14.00\" fill=\"#000000\">df/de=1</text>\n</g>\n<!-- d -->\n<g id=\"node5\" class=\"node\">\n<title>d</title>\n<ellipse fill=\"none\" stroke=\"#000000\" cx=\"18\" cy=\"-18\" rx=\"18\" ry=\"18\"/>\n<text text-anchor=\"middle\" x=\"18\" y=\"-14.3\" font-family=\"Times,serif\" font-size=\"14.00\" fill=\"#000000\">d</text>\n</g>\n<!-- d&#45;&gt;e -->\n<g id=\"edge4\" class=\"edge\">\n<title>d&#45;&gt;e</title>\n<path fill=\"none\" stroke=\"#000000\" d=\"M36.0929,-20.8132C53.4278,-23.6971 80.2412,-28.6531 103,-35 106.0384,-35.8473 109.1877,-36.8274 112.3024,-37.8619\"/>\n<polygon fill=\"#000000\" stroke=\"#000000\" points=\"111.3612,-41.2409 121.956,-41.2558 113.6829,-34.6371 111.3612,-41.2409\"/>\n<text text-anchor=\"middle\" x=\"78.5\" y=\"-38.8\" font-family=\"Times,serif\" font-size=\"14.00\" fill=\"#000000\">de/dd=3</text>\n</g>\n</g>\n</svg>\n"
          },
          "metadata": {},
          "execution_count": 47
        }
      ],
      "source": [
        "e2 = graphviz.Digraph('second expression', filename='fsm.gv')\n",
        "\n",
        "e2.attr(rankdir='LR', size='8,5')\n",
        "\n",
        "e2.attr('node', shape='circle')\n",
        "e2.edge('a', 'c', label='dc/da=5')\n",
        "e2.edge('b', 'c', label='dc/db=3')\n",
        "e2.edge('a', 'e', label='de/da=9')\n",
        "e2.edge('d', 'e', label='de/dd=3')\n",
        "e2.edge('c', 'f', label='df/dc=1')\n",
        "e2.edge('e', 'f', label='df/de=1')\n",
        "\n",
        "e2"
      ]
    },
    {
      "cell_type": "markdown",
      "source": [
        "#**Answer:**\n",
        "\n",
        "###Example 1:\n",
        "We initialise \n",
        "$$ \\frac{\\partial f}{\\partial f} = 1$$\n",
        "then,\n",
        "$$ \\frac{\\partial f}{\\partial a} =  \\frac{\\partial (a*b)}{\\partial a} = \\frac{15}{3} = 5$$ \n",
        "and \n",
        "$$\\frac{\\partial f}{\\partial b} =  \\frac{\\partial (a*b)}{\\partial b} = \\frac{15}{5} = 3 $$\n",
        "\n",
        "###Example 2:\n",
        "\n",
        "We initialise \n",
        "$$ \\frac{\\partial f}{\\partial f} = 1$$\\\n",
        "then compute derivatives of $f$ with respect to $a,b,c,d,e,f$.\n",
        "Starting with from the output and going backwards,\\\n",
        "$$ \\begin{align}\n",
        "\\frac{\\partial f}{\\partial c} \n",
        "&= \\frac{\\partial \\text{add}(c,e)}{\\partial c} \\\\\n",
        "&= \\frac{\\partial c}{\\partial c} + \\frac{\\partial e}{\\partial c} \\\\\n",
        "&= 1 + 0  \\\\ \n",
        "&= 1\n",
        "\\end{align}\n",
        "$$\\\n",
        "$$ \\begin{align}\n",
        "\\frac{\\partial f}{\\partial e} \n",
        "&= \\frac{\\partial \\text{add}(c,e)}{\\partial e} \\\\\n",
        "&= \\frac{\\partial c}{\\partial e} + \\frac{\\partial e}{\\partial e} \\\\\n",
        "&= 0 + 1  \\\\ \n",
        "&= 1\n",
        "\\end{align}\n",
        "$$\n",
        "\n",
        "Then moving to the first set of nodes;\n",
        "$$ \\begin{align}\n",
        "\\frac{\\partial f}{\\partial b} \n",
        "&= \\frac{\\partial (c+e)}{\\partial b} \\\\\n",
        "&= \\frac{\\partial (a*b+e)}{\\partial b} \\\\\n",
        "&= \\frac{15}{5} + 0  \\\\ \n",
        "&= 3\n",
        "\\end{align}\n",
        "$$\n",
        "\n",
        "$$ \\begin{align}\n",
        "\\frac{\\partial f}{\\partial a} \n",
        "&= \\frac{\\partial (c+e)}{\\partial a} \\\\\n",
        "&= \\frac{\\partial (a*b+e)}{\\partial a} \\\\\n",
        "&= \\frac{15}{3} + 0  \\\\ \n",
        "&= 5\n",
        "\\end{align}\n",
        "$$\n",
        "\n",
        "$$ \\begin{align}\n",
        "\\frac{\\partial f}{\\partial d} \n",
        "&= \\frac{\\partial (c+e)}{\\partial d} \\\\\n",
        "&= \\frac{\\partial (c+a*d)}{\\partial d} \\\\\n",
        "&= 0 + \\frac{27}{9} \\\\ \n",
        "&= 3\n",
        "\\end{align}\n",
        "$$\n",
        "\n",
        "\n"
      ],
      "metadata": {
        "id": "_28Ugt96qruE"
      }
    },
    {
      "cell_type": "markdown",
      "metadata": {
        "id": "A5oi21W4gpeM"
      },
      "source": [
        "## Exercise c) What happens if we run backward again?\n",
        "\n",
        "Try to execute the code below. Explain what happens."
      ]
    },
    {
      "cell_type": "code",
      "execution_count": 48,
      "metadata": {
        "colab": {
          "base_uri": "https://localhost:8080/"
        },
        "id": "DCtpJyr-gyX1",
        "outputId": "88aae1b1-cf08-4ec8-9e85-db479f4e8ef2"
      },
      "outputs": [
        {
          "output_type": "stream",
          "name": "stdout",
          "text": [
            "Var(v=3.0000, grad=28.0000)\n",
            "Var(v=5.0000, grad=6.0000)\n",
            "Var(v=15.0000, grad=2.0000)\n",
            "Var(v=9.0000, grad=6.0000)\n",
            "Var(v=27.0000, grad=2.0000)\n",
            "Var(v=42.0000, grad=2.0000)\n"
          ]
        }
      ],
      "source": [
        "f.backward()\n",
        "\n",
        "for v in [a, b, c, d, e, f]:\n",
        "    print(v)"
      ]
    },
    {
      "cell_type": "markdown",
      "source": [
        "#**Answer:**\n",
        "Every time we run this code, the **grad** variable doubles, because the values are stored in the 'grad' variable in the 'Vars' class."
      ],
      "metadata": {
        "id": "x4LRtH-n0MSk"
      }
    },
    {
      "cell_type": "markdown",
      "metadata": {
        "id": "e8bPVq2VhsP-"
      },
      "source": [
        "## Exercise d) Zero gradient\n",
        "\n",
        "We can zero the gradient by backpropagating a -1.0 as is shown in the example below. (If you have run backward multiple time then you also have to run the cell below an equal amount of times.) Explain what is going on."
      ]
    },
    {
      "cell_type": "code",
      "execution_count": 49,
      "metadata": {
        "colab": {
          "base_uri": "https://localhost:8080/"
        },
        "id": "OnyPDQx9lJe0",
        "outputId": "bbc79d0a-d920-4edd-ad9c-44c578d9e84c"
      },
      "outputs": [
        {
          "output_type": "stream",
          "name": "stdout",
          "text": [
            "Var(v=2.0000, grad=0.0000)\n",
            "Var(v=5.0000, grad=6.0000)\n",
            "Var(v=15.0000, grad=2.0000)\n",
            "Var(v=9.0000, grad=6.0000)\n",
            "Var(v=27.0000, grad=2.0000)\n",
            "Var(v=42.0000, grad=2.0000)\n",
            "Var(v=2.0000, grad=0.0000)\n",
            "Var(v=5.0000, grad=3.0000)\n",
            "Var(v=15.0000, grad=1.0000)\n",
            "Var(v=9.0000, grad=3.0000)\n",
            "Var(v=27.0000, grad=1.0000)\n",
            "Var(v=42.0000, grad=1.0000)\n"
          ]
        }
      ],
      "source": [
        "a = Var(2.0)\n",
        "\n",
        "for v in [a, b, c, d, e, f]:\n",
        "    print(v)\n",
        "\n",
        "f.backprop(-1.0)\n",
        "\n",
        "for v in [a, b, c, d, e, f]:\n",
        "    print(v)"
      ]
    },
    {
      "cell_type": "markdown",
      "source": [
        "#**Answer:**\n",
        "Here, since we are decrementing the same number of times as we are incrementing, we decrease the 'grad' value by basically going in the opposite direction (-1). Hence gradients that are 0 remain 0. It is backpropagating a -1 so it is \"cancelling\" the results we had before."
      ],
      "metadata": {
        "id": "i8u93V--2WSo"
      }
    },
    {
      "cell_type": "markdown",
      "metadata": {
        "id": "U4057_ljNvWB"
      },
      "source": [
        "## Exercise e) Test correctness of derivatives with the finite difference method\n",
        "\n",
        "Write a small function that uses [the finite difference method](https://en.wikipedia.org/wiki/Finite_difference_method) to numerically test that backpropation implementation is working. In short we will use\n",
        "$$\n",
        "\\frac{\\partial f(a)}{\\partial a} \\approx \\frac{f(a+da)-f(a)}{da}\n",
        "$$\n",
        "for $da \\ll 1$.\n",
        "\n",
        "As an example, we could approximate the derivative of the function $f(a)=a^2$ in e.g. the value $a=4$ using the finite difference method. This amounts to inserting the relevant values and approximating the gradient $f'(4)$ with the fraction above. \n"
      ]
    },
    {
      "cell_type": "code",
      "execution_count": 50,
      "metadata": {
        "colab": {
          "base_uri": "https://localhost:8080/"
        },
        "id": "9TGil92lSXDN",
        "outputId": "addec417-5f4c-4d62-e647-099b7184f855"
      },
      "outputs": [
        {
          "output_type": "stream",
          "name": "stdout",
          "text": [
            "Var(v=3.0000, grad=5.0000)\n",
            "Var(v=5.0000, grad=3.0000)\n",
            "Var(v=15.0000, grad=1.0000)\n",
            "5.000000413701855\n"
          ]
        }
      ],
      "source": [
        "# f function - try to change the code to test other types of functions as well (such as different polynomials etc.)\n",
        "def f_function(a):\n",
        "  a = Var(a)\n",
        "  b = Var(5.0)\n",
        "  f = a * b\n",
        "  f.backward()\n",
        "  return a,b,f\n",
        "\n",
        "for v in f_function(3.0):\n",
        "  print(v)\n",
        "\n",
        "# Insert your finite difference code here\n",
        "def finite_difference(a=3.0,da=1e-10):\n",
        "    \"\"\"\n",
        "    This function compute the finite difference between\n",
        "    \n",
        "    Input:\n",
        "    da:          The finite difference                           (float)\n",
        "    \n",
        "    Output:\n",
        "    finite_difference: numerical approximation to the derivative (float) \n",
        "    \"\"\"\n",
        "    \n",
        "    fa_da = f_function(a+da)[-1].v           # <- Insert correct expression\n",
        "    fa = f_function(a)[-1].v                 # <- Insert correct expression\n",
        "\n",
        "    finite_difference = (fa_da - fa) / da\n",
        "    \n",
        "    return finite_difference\n",
        "\n",
        "print(finite_difference())"
      ]
    },
    {
      "cell_type": "markdown",
      "metadata": {
        "id": "6pZar5RKaUkg"
      },
      "source": [
        "# Create an artificial dataset to play with\n",
        "\n",
        "We create a non-linear 1d regression task. The generator supports various noise levels and it creates train, validation and test sets. You can modify it yourself if you want more or less challenging tasks."
      ]
    },
    {
      "cell_type": "code",
      "execution_count": 51,
      "metadata": {
        "id": "Y6yfMAQ8aduj"
      },
      "outputs": [],
      "source": [
        "import numpy as np\n",
        "import matplotlib.pyplot as plt\n",
        "\n",
        "np.random.seed(42)"
      ]
    },
    {
      "cell_type": "code",
      "execution_count": 52,
      "metadata": {
        "id": "4YabfD43ajNh"
      },
      "outputs": [],
      "source": [
        "def data_generator(noise=0.1, n_samples=300, D1=True):\n",
        "    # Create covariates and response variable\n",
        "    if D1:\n",
        "        X = np.linspace(-3, 3, num=n_samples).reshape(-1,1) # 1-D\n",
        "        np.random.shuffle(X)\n",
        "        y = np.random.normal((0.5*np.sin(X[:,0]*3) + X[:,0]), noise) # 1-D with trend\n",
        "    else:\n",
        "        X = np.random.multivariate_normal(np.zeros(3), noise*np.eye(3), size = n_samples) # 3-D\n",
        "        np.random.shuffle(X)    \n",
        "        y = np.sin(X[:,0]) - 5*(X[:,1]**2) + 0.5*X[:,2] # 3-D\n",
        "\n",
        "    # Stack them together vertically to split data set\n",
        "    data_set = np.vstack((X.T,y)).T\n",
        "    \n",
        "    train, validation, test = np.split(data_set, [int(0.35*n_samples), int(0.7*n_samples)], axis=0)\n",
        "    \n",
        "    # Standardization of the data, remember we do the standardization with the training set mean and standard deviation\n",
        "    train_mu = np.mean(train, axis=0)\n",
        "    train_sigma = np.std(train, axis=0)\n",
        "    \n",
        "    train = (train-train_mu)/train_sigma\n",
        "    validation = (validation-train_mu)/train_sigma\n",
        "    test = (test-train_mu)/train_sigma\n",
        "    \n",
        "    x_train, x_validation, x_test = train[:,:-1], validation[:,:-1], test[:,:-1]\n",
        "    y_train, y_validation, y_test = train[:,-1], validation[:,-1], test[:,-1]\n",
        "\n",
        "    return x_train, y_train,  x_validation, y_validation, x_test, y_test"
      ]
    },
    {
      "cell_type": "code",
      "execution_count": 53,
      "metadata": {
        "id": "u1oDngHLapIz"
      },
      "outputs": [],
      "source": [
        "D1 = True\n",
        "x_train, y_train,  x_validation, y_validation, x_test, y_test = data_generator(noise=0.5, D1=D1)"
      ]
    },
    {
      "cell_type": "code",
      "execution_count": 54,
      "metadata": {
        "colab": {
          "base_uri": "https://localhost:8080/",
          "height": 265
        },
        "id": "Ysfa3FsBavlm",
        "outputId": "ec5c1cda-75cd-4b3c-cd16-047635ccf27f"
      },
      "outputs": [
        {
          "output_type": "display_data",
          "data": {
            "text/plain": [
              "<Figure size 432x288 with 1 Axes>"
            ],
            "image/png": "[encoded data removed]"
          },
          "metadata": {
            "needs_background": "light"
          }
        }
      ],
      "source": [
        "if D1:\n",
        "    plt.scatter(x_train[:,0], y_train);\n",
        "    plt.scatter(x_validation[:,0], y_validation);\n",
        "    plt.scatter(x_test[:,0], y_test);\n",
        "else:\n",
        "    plt.scatter(x_train[:,1], y_train);\n",
        "    plt.scatter(x_validation[:,1], y_validation);\n",
        "    plt.scatter(x_test[:,1], y_test);\n",
        "plt.show()"
      ]
    },
    {
      "cell_type": "code",
      "execution_count": 55,
      "metadata": {
        "id": "zac2HHNlgbpm"
      },
      "outputs": [],
      "source": [
        "# convert from nparray to Var\n",
        "def nparray_to_Var(x):\n",
        "  if x.ndim==1:\n",
        "    y = [[Var(float(x[i]))] for i in range(x.shape[0])] # always work with list of list\n",
        "  else:\n",
        "    y = [[Var(float(x[i,j])) for j in range(x.shape[1])] for i in range(x.shape[0])]\n",
        "  return y\n",
        "   \n",
        "x_train = nparray_to_Var(x_train)\n",
        "y_train = nparray_to_Var(y_train)\n",
        "x_validation = nparray_to_Var(x_validation)\n",
        "y_validation = nparray_to_Var(y_validation)\n",
        "x_test = nparray_to_Var(x_test)\n",
        "y_test = nparray_to_Var(y_test)\n"
      ]
    },
    {
      "cell_type": "markdown",
      "metadata": {
        "id": "VbjrqcpVFtGe"
      },
      "source": [
        "# Defining and initializing the network\n",
        "\n",
        "The steps to create a feed forward neural network are the following:\n",
        "\n",
        "1. **Number of hidden layer and hidden units**. We have to define the number of hidden units in each layer. The number of features in X and the output dimensionality (the size of Y) are given but the numbers in between are set by the researcher. Remember that for each unit in each layer beside in the input has a bias term.\n",
        "2. **Activation functions** for each hidden layer. Each hidden layer in your list must have an activation function (it can also be the linear activation which is equivalent to identity function). The power of neural networks comes from non-linear activation functions that learn representations (features) from the data allowing us to learn from it. \n",
        "3. **Parameter initialization**. We will initialize the weights to have random values. This is done in practice by drawing pseudo random numbers from a Gaussian or uniform distribution. It turns out that for deeper models we have to be careful about how we scale the random numbers. This will be the topic of the exercise below. For now we will just use unit variance Gaussians.  \n",
        "\n",
        "In order to make life easier for ourselves we define a DenseLayer class that takes care of initialization and the forward pass. We can also extend it later with print and advanced initialization capabilities. For the latter we have introduced a Initializer class.\n",
        "\n",
        "Note that we use Sequence in the code below. A Sequence is an ordered list. This means the order we insert and access items are the same."
      ]
    },
    {
      "cell_type": "code",
      "execution_count": 56,
      "metadata": {
        "id": "ij_ieRsAt7Xt"
      },
      "outputs": [],
      "source": [
        "class Initializer:\n",
        "\n",
        "  def init_weights(self, n_in, n_out):\n",
        "    raise NotImplementedError\n",
        "\n",
        "  def init_bias(self, n_out):\n",
        "    raise NotImplementedError"
      ]
    },
    {
      "cell_type": "code",
      "execution_count": 57,
      "metadata": {
        "id": "eb18N5phuIha"
      },
      "outputs": [],
      "source": [
        "import random\n",
        "\n",
        "class NormalInitializer(Initializer):\n",
        "\n",
        "  def __init__(self, mean=0, std=0.1):\n",
        "    self.mean = mean\n",
        "    self.std = std\n",
        "\n",
        "  def init_weights(self, n_in, n_out):\n",
        "    return [[Var(random.gauss(self.mean, self.std)) for _ in range(n_out)] for _ in range(n_in)]\n",
        "\n",
        "  def init_bias(self, n_out):\n",
        "    return [Var(0.0) for _ in range(n_out)]\n",
        "\n",
        "class ConstantInitializer(Initializer):\n",
        "\n",
        "  def __init__(self, weight=1.0, bias=0.0):\n",
        "    self.weight = weight\n",
        "    self.bias = bias\n",
        "\n",
        "  def init_weights(self, n_in, n_out):\n",
        "    return [[Var(self.weight) for _ in range(n_out)] for _ in range(n_in)]\n",
        "\n",
        "  def init_bias(self, n_out):\n",
        "    return [Var(self.bias) for _ in range(n_out)]"
      ]
    },
    {
      "cell_type": "code",
      "execution_count": 58,
      "metadata": {
        "id": "jOLYGnZKuM6W"
      },
      "outputs": [],
      "source": [
        "from typing import Sequence\n",
        "\n",
        "class DenseLayer:\n",
        "    def __init__(self, n_in: int, n_out: int, act_fn, initializer = NormalInitializer()):\n",
        "        self.weights = initializer.init_weights(n_in, n_out)\n",
        "        self.bias = initializer.init_bias(n_out)\n",
        "        self.act_fn = act_fn\n",
        "    \n",
        "    def __repr__(self):    \n",
        "        return 'Weights: ' + repr(self.weights) + ' Biases: ' + repr(self.bias)\n",
        "\n",
        "    def parameters(self) -> Sequence[Var]:\n",
        "      params = []\n",
        "      for r in self.weights:\n",
        "        params += r\n",
        "\n",
        "      return params + self.bias\n",
        "\n",
        "    def forward(self, single_input: Sequence[Var]) -> Sequence[Var]:\n",
        "        # self.weights is a matrix with dimension n_in x n_out. We check that the dimensionality of the input \n",
        "        # to the current layer matches the number of nodes in the current layer\n",
        "        assert len(self.weights) == len(single_input), \"weights and single_input must match in first dimension\"\n",
        "        weights = self.weights\n",
        "        out = []\n",
        "        # For some given data point single_input, we now want to calculate the resulting value in each node in the current layer\n",
        "        # We therefore loop over the (number of) nodes in the current layer:\n",
        "        for j in range(len(weights[0])): \n",
        "            # Initialize the node value depending on its corresponding parameters.\n",
        "            #node = Var(0.0) # <- Insert code\n",
        "            node = self.bias[j] #bias\n",
        "            # We now finish the linear transformation corresponding to the parameters of the currently considered node.\n",
        "            for i in range(len(single_input)):\n",
        "                #node += Var(0.0)  # <- Insert code\n",
        "                node += weights[i][j] * single_input[i]   #j-th var* i-th weight\n",
        "            node = self.act_fn(node)\n",
        "            out.append(node)\n",
        "\n",
        "        return out"
      ]
    },
    {
      "cell_type": "markdown",
      "metadata": {
        "id": "jpIZPBpNI0pO"
      },
      "source": [
        "## Exercise f) Add more activation functions\n",
        "\n",
        "To have a full definition of the neural network, we must define an activation function for every layer. Several activation functions have been proposed and have different characteristics. In the Var class we have already defined the rectified linear init (relu). \n",
        " \n",
        "Implement the following activation functions in the Var class:\n",
        "\n",
        "* Identity: $$\\mathrm{identity}(x) = x$$\n",
        "* Hyperbolic tangent: $$\\tanh(x)$$\n",
        "* Sigmoid (or logistic function): $$\\mathrm{sigmoid}(x) = \\frac{1}{1.0 + \\exp(-x ) }$$  Hint: $\\mathrm{sigmoid}'(x)= \\mathrm{sigmoid}(x)(1-\\mathrm{sigmoid}(x))$.  \n",
        "\n",
        "Hint: You can seek inspiration in the relu method in the Var class."
      ]
    },
    {
      "cell_type": "markdown",
      "source": [
        "#**Answer:**\n",
        "See vars class"
      ],
      "metadata": {
        "id": "ze8IpqZo7Pj-"
      }
    },
    {
      "cell_type": "markdown",
      "metadata": {
        "id": "p_8n_SKnIW2F"
      },
      "source": [
        "## Exercise g) Complete the forward pass\n",
        "\n",
        "In the code below we initialize a 1-5-1 network and pass the training set through it. *The forward method in DenseLayer is **not** complete*. It just outputs zeros right now. The method forward should perform an [affine transformation](https://en.wikipedia.org/wiki/Affine_transformation) on the input followed by an application of the activation function."
      ]
    },
    {
      "cell_type": "markdown",
      "source": [
        "#**Answer:** \n",
        "See DenseLayer class"
      ],
      "metadata": {
        "id": "MNoyPhYs8mtI"
      }
    },
    {
      "cell_type": "code",
      "execution_count": 59,
      "metadata": {
        "colab": {
          "base_uri": "https://localhost:8080/"
        },
        "id": "xDEjtePxE7Mv",
        "outputId": "65d6eab6-96b4-4f0c-be98-28d8a35acfe2"
      },
      "outputs": [
        {
          "output_type": "stream",
          "name": "stdout",
          "text": [
            "[[Var(v=-0.0281, grad=0.0000)], [Var(v=-0.0564, grad=0.0000)], [Var(v=-0.0051, grad=0.0000)], [Var(v=-0.0173, grad=0.0000)], [Var(v=-0.0416, grad=0.0000)], [Var(v=-0.0384, grad=0.0000)], [Var(v=-0.0249, grad=0.0000)], [Var(v=-0.0042, grad=0.0000)], [Var(v=-0.0179, grad=0.0000)], [Var(v=-0.0155, grad=0.0000)], [Var(v=-0.0433, grad=0.0000)], [Var(v=-0.0110, grad=0.0000)], [Var(v=-0.0348, grad=0.0000)], [Var(v=-0.0126, grad=0.0000)], [Var(v=-0.0186, grad=0.0000)], [Var(v=-0.0362, grad=0.0000)], [Var(v=-0.0667, grad=0.0000)], [Var(v=-0.0317, grad=0.0000)], [Var(v=-0.0033, grad=0.0000)], [Var(v=-0.0110, grad=0.0000)], [Var(v=-0.0082, grad=0.0000)], [Var(v=-0.0036, grad=0.0000)], [Var(v=-0.0487, grad=0.0000)], [Var(v=-0.0492, grad=0.0000)], [Var(v=-0.0048, grad=0.0000)], [Var(v=-0.0130, grad=0.0000)], [Var(v=-0.0631, grad=0.0000)], [Var(v=-0.0694, grad=0.0000)], [Var(v=-0.0074, grad=0.0000)], [Var(v=-0.0438, grad=0.0000)], [Var(v=-0.0163, grad=0.0000)], [Var(v=-0.0105, grad=0.0000)], [Var(v=-0.0142, grad=0.0000)], [Var(v=-0.0154, grad=0.0000)], [Var(v=-0.0335, grad=0.0000)], [Var(v=-0.0028, grad=0.0000)], [Var(v=-0.0176, grad=0.0000)], [Var(v=-0.0067, grad=0.0000)], [Var(v=-0.0125, grad=0.0000)], [Var(v=-0.0089, grad=0.0000)], [Var(v=-0.0063, grad=0.0000)], [Var(v=-0.0085, grad=0.0000)], [Var(v=-0.0654, grad=0.0000)], [Var(v=-0.0106, grad=0.0000)], [Var(v=-0.0084, grad=0.0000)], [Var(v=-0.0102, grad=0.0000)], [Var(v=-0.0420, grad=0.0000)], [Var(v=-0.0398, grad=0.0000)], [Var(v=-0.0039, grad=0.0000)], [Var(v=-0.0407, grad=0.0000)], [Var(v=-0.0177, grad=0.0000)], [Var(v=-0.0015, grad=0.0000)], [Var(v=-0.0442, grad=0.0000)], [Var(v=-0.0086, grad=0.0000)], [Var(v=-0.0703, grad=0.0000)], [Var(v=-0.0618, grad=0.0000)], [Var(v=-0.0057, grad=0.0000)], [Var(v=-0.0064, grad=0.0000)], [Var(v=-0.0231, grad=0.0000)], [Var(v=-0.0152, grad=0.0000)], [Var(v=-0.0411, grad=0.0000)], [Var(v=-0.0107, grad=0.0000)], [Var(v=-0.0177, grad=0.0000)], [Var(v=-0.0200, grad=0.0000)], [Var(v=-0.0146, grad=0.0000)], [Var(v=-0.0146, grad=0.0000)], [Var(v=-0.0156, grad=0.0000)], [Var(v=-0.0519, grad=0.0000)], [Var(v=-0.0111, grad=0.0000)], [Var(v=-0.0204, grad=0.0000)], [Var(v=-0.0043, grad=0.0000)], [Var(v=-0.0019, grad=0.0000)], [Var(v=-0.0402, grad=0.0000)], [Var(v=-0.0236, grad=0.0000)], [Var(v=-0.0015, grad=0.0000)], [Var(v=-0.0636, grad=0.0000)], [Var(v=-0.0077, grad=0.0000)], [Var(v=-0.0075, grad=0.0000)], [Var(v=-0.0098, grad=0.0000)], [Var(v=-0.0663, grad=0.0000)], [Var(v=-0.0101, grad=0.0000)], [Var(v=-0.0060, grad=0.0000)], [Var(v=-0.0160, grad=0.0000)], [Var(v=-0.0022, grad=0.0000)], [Var(v=-0.0081, grad=0.0000)], [Var(v=-0.0035, grad=0.0000)], [Var(v=-0.0030, grad=0.0000)], [Var(v=-0.0090, grad=0.0000)], [Var(v=-0.0165, grad=0.0000)], [Var(v=-0.0172, grad=0.0000)], [Var(v=-0.0240, grad=0.0000)], [Var(v=-0.0052, grad=0.0000)], [Var(v=-0.0096, grad=0.0000)], [Var(v=-0.0375, grad=0.0000)], [Var(v=-0.0136, grad=0.0000)], [Var(v=-0.0164, grad=0.0000)], [Var(v=-0.0173, grad=0.0000)], [Var(v=-0.0029, grad=0.0000)], [Var(v=-0.0600, grad=0.0000)], [Var(v=-0.0097, grad=0.0000)], [Var(v=-0.0393, grad=0.0000)], [Var(v=-0.0094, grad=0.0000)], [Var(v=-0.0144, grad=0.0000)], [Var(v=-0.0191, grad=0.0000)], [Var(v=-0.0559, grad=0.0000)]]\n"
          ]
        }
      ],
      "source": [
        "NN = [\n",
        "    DenseLayer(1, 5, lambda x: x.relu()),\n",
        "    DenseLayer(5, 1, lambda x: x.identity())\n",
        "]\n",
        "\n",
        "def forward(input, network):\n",
        "\n",
        "  def forward_single(x, network):\n",
        "    for layer in network:\n",
        "        x = layer.forward(x)\n",
        "    return x\n",
        "\n",
        "  output = [ forward_single(input[n], network) for n in range(len(input))]\n",
        "  return output\n",
        "\n",
        "print(forward(x_train, NN))\n"
      ]
    },
    {
      "cell_type": "markdown",
      "metadata": {
        "id": "oLrGJytZFtGm"
      },
      "source": [
        "## Exercise h) Print all network parameters\n",
        "\n",
        "Make a function that prints all the parameters of the network (weights and biases) with information about in which layer the appear. In the object oriented spirit you should introduce a method in the DenseLayer class to print the parameters of a layer. Hint: You can take inspiration from the corresponding method in Var. "
      ]
    },
    {
      "cell_type": "code",
      "execution_count": 60,
      "metadata": {
        "id": "iac-VwYGFtGm",
        "outputId": "a428dbe1-e1ad-493a-d6ed-4cc6830c700f",
        "colab": {
          "base_uri": "https://localhost:8080/"
        }
      },
      "outputs": [
        {
          "output_type": "stream",
          "name": "stdout",
          "text": [
            "Weights: [[Var(v=0.2836, grad=0.0000), Var(v=0.1923, grad=0.0000), Var(v=-0.1799, grad=0.0000), Var(v=-0.0232, grad=0.0000), Var(v=-0.1182, grad=0.0000)]] Biases: [Var(v=0.0000, grad=0.0000), Var(v=0.0000, grad=0.0000), Var(v=0.0000, grad=0.0000), Var(v=0.0000, grad=0.0000), Var(v=0.0000, grad=0.0000)]\n",
            "Weights: [[Var(v=-0.0009, grad=0.0000)], [Var(v=-0.2010, grad=0.0000)], [Var(v=-0.0309, grad=0.0000)], [Var(v=0.0118, grad=0.0000)], [Var(v=-0.0515, grad=0.0000)]] Biases: [Var(v=0.0000, grad=0.0000)]\n"
          ]
        }
      ],
      "source": [
        "# Insert code here and in the DenseLayer class\n",
        "# It's incorported in the print function of each layer, so check print in DenseLayer class\n",
        "for layer in NN:\n",
        "    print(layer)"
      ]
    },
    {
      "cell_type": "markdown",
      "metadata": {
        "id": "_79HOAXrFtHK"
      },
      "source": [
        "## Visualization\n",
        "\n",
        "Now that we have defined our activation functions we can visualize them to see what they look like:"
      ]
    },
    {
      "cell_type": "code",
      "execution_count": 81,
      "metadata": {
        "id": "1FcylHqLTl-Z",
        "outputId": "cd1ab8ec-6494-4428-9df7-39d0417236e5",
        "colab": {
          "base_uri": "https://localhost:8080/",
          "height": 282
        }
      },
      "outputs": [
        {
          "output_type": "execute_result",
          "data": {
            "text/plain": [
              "[<matplotlib.lines.Line2D at 0x7f928aeb0710>]"
            ]
          },
          "metadata": {},
          "execution_count": 81
        },
        {
          "output_type": "display_data",
          "data": {
            "text/plain": [
              "<Figure size 432x288 with 1 Axes>"
            ],
            "image/png": "[encoded data removed]"
          },
          "metadata": {
            "needs_background": "light"
          }
        }
      ],
      "source": [
        "x = np.linspace(-6, 6, 100)\n",
        "\n",
        "# convert from Var to ndarray  \n",
        "def Var_to_nparray(x):\n",
        "  y = np.zeros((len(x),len(x[0])))\n",
        "  for i in range(len(x)):\n",
        "    for j in range(len(x[0])):\n",
        "      y[i,j] = x[i][j].v\n",
        "  return y\n",
        "\n",
        "# define 1-1 network with weight = 1 and relu activation \n",
        "NN = [ DenseLayer(1, 1, lambda x: x.relu(), initializer = ConstantInitializer(1.0)) ] \n",
        "y = Var_to_nparray(forward(nparray_to_Var(x), NN))\n",
        "\n",
        "#y = Var_to_nparray(relu(nparray_to_Var(x)))\n",
        "plt.plot(x,y)"
      ]
    },
    {
      "cell_type": "code",
      "execution_count": 82,
      "metadata": {
        "id": "oOL2UolJFtHL",
        "outputId": "edbb334c-e95e-4e54-986d-353bcbf2c9fe",
        "colab": {
          "base_uri": "https://localhost:8080/",
          "height": 341
        }
      },
      "outputs": [
        {
          "output_type": "display_data",
          "data": {
            "text/plain": [
              "<Figure size 360x360 with 1 Axes>"
            ],
            "image/png": "[encoded data removed]"
          },
          "metadata": {
            "needs_background": "light"
          }
        }
      ],
      "source": [
        "# Testing all activation layers\n",
        "\n",
        "x = np.linspace(-6, 6, 100)\n",
        "units = {\n",
        "    \"identity\": lambda x: x.identity(),\n",
        "    #\"sigmoid\": lambda x: x.sigmoid(),  <- uncomment before sharing\n",
        "    \"relu\": lambda x: x.relu(),\n",
        "    #\"tanh\": lambda x: x.tanh() <- uncomment before sharing\n",
        "}\n",
        "\n",
        "plt.figure(figsize=(5, 5))\n",
        "[plt.plot(x, Var_to_nparray(forward(nparray_to_Var(x), [DenseLayer(1, 1, unit, initializer = ConstantInitializer(1.0))]) ), label=unit_name, lw=2) for unit_name, unit in units.items()] # unit(nparray_to_Var(x))), label=unit_name, lw=2) for unit_name, unit in units.items()]\n",
        "plt.legend(loc=2, fontsize=16)\n",
        "plt.title('Our activation functions', fontsize=20)\n",
        "plt.ylim([-2, 5])\n",
        "plt.xlim([-6, 6])\n",
        "plt.show()"
      ]
    },
    {
      "cell_type": "markdown",
      "metadata": {
        "id": "b-jdEl-7FtGs"
      },
      "source": [
        "# Advanced initialization schemes\n",
        "\n",
        "If we are not careful with initialization, the signals we propagate forward ($a^{(l)}$, $l=1,\\ldots,L$) and backward ($\\delta^l$, $l=L,L-1,\\ldots,1$) can blow up or shrink to zero. A statistical analysis of the variance of the signals for different activation functions can be found in these two papers: [Glorot initialization](http://proceedings.mlr.press/v9/glorot10a/glorot10a.pdf) and [He initialization](https://arxiv.org/pdf/1502.01852v1.pdf). \n",
        "\n",
        "The result of the analyses are proposals for how to make the initialization such that the variance of the signals (forward and backward) are kept approxmimatly constant when propagating from layer to layer. The exact expressions depend upon the non-linear activation function used. In Glorot initialization, the aim is to keep both the forward and backward variances constant whereas He only aims at keeping the variance in the forward pass constant.\n",
        "\n",
        "We define $n_{in}$ and $n_{out}$ as the number of input units and output units of a particular layer. \n",
        "\n",
        "The Glorot initialization has the form: \n",
        "\n",
        "$$w_{ij} \\sim N \\bigg( 0, \\, \\frac{2 \\alpha }{n_{in} + n_{out}} \\bigg) \\ . $$\n",
        "\n",
        "where $N(\\mu,\\sigma^2)$ is a Gaussian distribution with mean $\\mu$ and variance $\\sigma^2$ and $\\alpha$ is a parameter that depends upon the activation function used. For $\\tanh$, $\\alpha=1$ and for Rectified Linear Unit (ReLU) activations, $\\alpha=2$. (It is also possible to use a uniform distribution for initialization, see [this blog post](https://mmuratarat.github.io/2019-02-25/xavier-glorot-he-weight-init).) \n",
        "\n",
        "The He initialization is very similar\n",
        "\n",
        "$$w_{ij} \\sim N \\bigg( 0, \\, \\frac{\\alpha}{n_{in}} \\bigg) \\ . $$"
      ]
    },
    {
      "cell_type": "markdown",
      "metadata": {
        "id": "mqeyab9qFtGs"
      },
      "source": [
        "## Exercise i) Glorot and He initialization\n",
        " \n",
        "Using the Initializer class, implement functions that implement Glorot and He \n",
        "\n",
        "Explain briefly how you would test numerically that these initializations have the sought after property. Hint: See plots in Glorot paper.\n",
        "\n",
        "Comment: If you want to be more advanced then try to make a universal initializer taking both the activation function and type (Glorot or He) as argument."
      ]
    },
    {
      "cell_type": "code",
      "execution_count": 84,
      "metadata": {
        "id": "Qyk01CgaFtGt"
      },
      "outputs": [],
      "source": [
        "## Glorot\n",
        "import random\n",
        "def DenseLayer_Glorot_tanh(n_in: int, n_out: int):\n",
        "  #std = 0.0 # <- replace with proper initialization\n",
        "  std = 2*1/(n_in + n_out)\n",
        "  return DenseLayer(n_in, n_out, lambda x: x.tanh(), initializer = NormalInitializer(std))\n",
        "\n",
        "## He\n",
        "def DenseLayer_He_relu(n_in: int, n_out: int):\n",
        "  #std = 0.0 # <- replace with proper initialization\n",
        "  std = 2/n_in\n",
        "  return DenseLayer(n_in, n_out, lambda x: x.relu(), initializer = NormalInitializer(std))"
      ]
    },
    {
      "cell_type": "markdown",
      "source": [
        "#**Answer:**\n",
        "\n",
        "Instead of using fixed limits like -0.01 and +0.01, Glorot uniform initialization uses limits that are based on the number of nodes in the network, and so does He initialization.\n",
        "\n",
        "They both can be tested by plotting the Back-propagated gradients for every layer and comparing the initializations to standard initializations\n"
      ],
      "metadata": {
        "id": "EXxds_5TBCOd"
      }
    },
    {
      "cell_type": "markdown",
      "metadata": {
        "id": "-XyXBD37FtHk"
      },
      "source": [
        "## Exercise j) Forward pass unit test\n",
        "\n",
        "Write a bit of code to make a unit test that the forward pass works. This can be done by defining a simple network with for example all weights equal to one (using the ConstantInitializer method) and identity activation functions. \n",
        "\n",
        "Hints: Use the [assert](https://www.w3schools.com/python/ref_keyword_assert.asp), the nparray_to_Var and the Var_to_nparray commands. "
      ]
    },
    {
      "cell_type": "code",
      "execution_count": 85,
      "metadata": {
        "id": "k0miqRUAFtHl"
      },
      "outputs": [],
      "source": [
        "# Insert code here\n",
        "NN = [ DenseLayer(1, 3, lambda x: x.identity(), initializer = ConstantInitializer()),\n",
        "       DenseLayer(3, 1, lambda x: x.identity(), initializer = ConstantInitializer())]\n",
        "\n",
        "input = np.array([[5]])\n",
        "assert Var_to_nparray(forward(nparray_to_Var(input), NN)) == [[15.]], \"Test failed\""
      ]
    },
    {
      "cell_type": "markdown",
      "metadata": {
        "id": "faCxhfFnFtHp"
      },
      "source": [
        "# Loss functions\n",
        "\n",
        "We are only missing a loss function to we need to define a loss function and its derivative with respect to the output of the neural network $y$"
      ]
    },
    {
      "cell_type": "code",
      "execution_count": 65,
      "metadata": {
        "id": "I2eDYKvAFtHq"
      },
      "outputs": [],
      "source": [
        "def squared_loss(t, y):\n",
        "  \n",
        "  # add check that sizes agree\n",
        "  \n",
        "  def squared_loss_single(t, y):\n",
        "    Loss = Var(0.0)\n",
        "    for i in range(len(t)): # sum over outputs\n",
        "      Loss += (t[i]-y[i]) ** 2\n",
        "    return Loss\n",
        "\n",
        "  Loss = Var(0.0)\n",
        "  for n in range(len(t)): # sum over training data\n",
        "    Loss += squared_loss_single(t[n],y[n])\n",
        "  return Loss"
      ]
    },
    {
      "cell_type": "markdown",
      "metadata": {
        "id": "SrwSJ2UWFtHu"
      },
      "source": [
        "## Exercise j) Implement cross entropy loss\n",
        "\n",
        "Insert code below to implement cross-entropy loss for general dimensionality of $t$. Use a logits formulation:\n",
        "$$\n",
        "\\rm{Loss} = - \\sum_i t_i \\, log \\, p_i \n",
        "$$\n",
        "with $p$ given by the the softmax function in terms of the logits $h$:\n",
        "$$\n",
        "p_i = \\frac{\\exp(h_i)}{\\sum_{i'} \\exp(h_{i'})} .\n",
        "$$\n",
        "Inserting $p$ in the expression for the loss gives\n",
        "$$\n",
        "\\rm{Loss} = - \\sum_i t_i h_i + \\rm{LogSumExp}(h) \\ ,\n",
        "$$\n",
        "where \n",
        "$$\n",
        "\\rm{LogSumExp}(h) = \\log \\sum_i \\exp h_i \\ .\n",
        "$$\n",
        "This is true for $t$ being a one-hot vector. \n",
        "\n",
        "Call the function to convince yourself it works. \n",
        "\n",
        "In practice you want to implement a [numerically stable](https://leimao.github.io/blog/LogSumExp/) version of LogSumExp. But we will not bother about that here.\n",
        "\n",
        "Help: You can add these methods in the Var class:\n",
        "\n",
        "    def exp(self):\n",
        "        return Var(exp(self.v), lambda: [(self, exp(self.v))])\n",
        "    \n",
        "    def log(self):\n",
        "        return Var(log(self.v), lambda: [(self, self.v ** -1)])"
      ]
    },
    {
      "cell_type": "code",
      "execution_count": 66,
      "metadata": {
        "id": "6nMuxyfzFtHv"
      },
      "outputs": [],
      "source": [
        "def cross_entropy_loss(t, h):\n",
        "     \n",
        "    Loss = Var(0.0)\n",
        "    # Insert code here\n",
        "    return Loss"
      ]
    },
    {
      "cell_type": "markdown",
      "metadata": {
        "id": "8fAF5ew4FtHy"
      },
      "source": [
        "# Backward pass\n",
        "\n",
        "Now the magic happens! We get the calculation of the gradients for free. Just do:"
      ]
    },
    {
      "cell_type": "code",
      "execution_count": 67,
      "metadata": {
        "id": "iHyfPPI9Qqwu"
      },
      "outputs": [],
      "source": [
        "NN = [\n",
        "    DenseLayer(1, 5, lambda x: x.relu()),\n",
        "    DenseLayer(5, 1, lambda x: x.identity())\n",
        "]\n",
        "\n",
        "output = forward(x_train, NN)\n",
        "\n",
        "Loss = squared_loss(y_train,output)\n",
        "Loss.backward()"
      ]
    },
    {
      "cell_type": "markdown",
      "metadata": {
        "id": "49biIAYKQ1oG"
      },
      "source": [
        "and the gradients will be calculated:"
      ]
    },
    {
      "cell_type": "code",
      "execution_count": 68,
      "metadata": {
        "id": "_rGt1bq_Q7uk",
        "outputId": "c1448aae-f1a2-43af-91c0-388b24a9112e",
        "colab": {
          "base_uri": "https://localhost:8080/"
        }
      },
      "outputs": [
        {
          "output_type": "stream",
          "name": "stdout",
          "text": [
            "Layer 0 \n",
            " Weights: [[Var(v=0.0697, grad=-2.9308), Var(v=0.0379, grad=-4.6698), Var(v=-0.1046, grad=10.0445), Var(v=0.1297, grad=-4.9696), Var(v=0.2057, grad=6.0074)]] Biases: [Var(v=0.0000, grad=-2.5174), Var(v=0.0000, grad=-4.0112), Var(v=0.0000, grad=-9.1281), Var(v=0.0000, grad=-4.2687), Var(v=0.0000, grad=5.1602)]\n",
            "Layer 1 \n",
            " Weights: [[Var(v=0.0288, grad=-7.0994)], [Var(v=0.0459, grad=-3.8594)], [Var(v=-0.1058, grad=9.9258)], [Var(v=0.0488, grad=-13.2082)], [Var(v=-0.0590, grad=-20.9457)]] Biases: [Var(v=0.0000, grad=-1.2160)]\n"
          ]
        },
        {
          "output_type": "execute_result",
          "data": {
            "text/plain": [
              "[None, None]"
            ]
          },
          "metadata": {},
          "execution_count": 68
        }
      ],
      "source": [
        "[print('Layer', i, '\\n', NN[i]) for i in range(len(NN))] "
      ]
    },
    {
      "cell_type": "markdown",
      "metadata": {
        "id": "D7d7qK0uFtH9"
      },
      "source": [
        "# Backward pass unit test\n",
        "\n",
        "Above we used finite differences to test that Nanograd is actually doing what it is supposed to do. We can in principle try the same for the neural network. But we will trust that the test above is enough."
      ]
    },
    {
      "cell_type": "markdown",
      "metadata": {
        "id": "WgBi8GOSFtIN"
      },
      "source": [
        "# Training and validation\n",
        "\n",
        "We are ready to train some neural networks!\n",
        "\n",
        "We initialize again:"
      ]
    },
    {
      "cell_type": "code",
      "execution_count": 69,
      "metadata": {
        "id": "01ePmzBzRtdh"
      },
      "outputs": [],
      "source": [
        "NN = [\n",
        "    DenseLayer(1, 15, lambda x: x.relu()),\n",
        "    DenseLayer(15, 50, lambda x: x.relu()),\n",
        "    DenseLayer(50, 1, lambda x: x.identity())\n",
        "]\n",
        "\n",
        "output = forward(x_train, NN)\n",
        "\n",
        "Loss = squared_loss(y_train,output)\n",
        "Loss.backward()"
      ]
    },
    {
      "cell_type": "markdown",
      "metadata": {
        "id": "10iRPiQ1ISHw"
      },
      "source": [
        "and make an update:\n",
        "\n",
        "We introduce a help function parameters to have a handle in all parameters in the network."
      ]
    },
    {
      "cell_type": "code",
      "execution_count": 70,
      "metadata": {
        "id": "dhAI7eyeznia",
        "outputId": "2bfe4cab-cc65-4036-f46b-81ed7f431dfc",
        "colab": {
          "base_uri": "https://localhost:8080/"
        }
      },
      "outputs": [
        {
          "output_type": "stream",
          "name": "stdout",
          "text": [
            "Network before update:\n",
            "Layer 0 \n",
            " Weights: [[Var(v=0.0025, grad=6.5223), Var(v=-0.0031, grad=-6.5652), Var(v=0.0196, grad=0.9217), Var(v=-0.0601, grad=3.3309), Var(v=-0.0253, grad=-11.5594), Var(v=-0.0689, grad=0.1457), Var(v=-0.0753, grad=0.5537), Var(v=0.0405, grad=2.9334), Var(v=0.0737, grad=6.3266), Var(v=-0.1421, grad=-2.3893), Var(v=-0.1179, grad=2.4930), Var(v=0.0575, grad=-0.2408), Var(v=-0.0188, grad=-6.7086), Var(v=-0.0428, grad=5.1948), Var(v=-0.0803, grad=2.9888)]] Biases: [Var(v=0.0000, grad=5.6020), Var(v=0.0000, grad=5.9671), Var(v=0.0000, grad=0.7916), Var(v=0.0000, grad=-3.0275), Var(v=0.0000, grad=10.5064), Var(v=0.0000, grad=-0.1325), Var(v=0.0000, grad=-0.5033), Var(v=0.0000, grad=2.5195), Var(v=0.0000, grad=5.4339), Var(v=0.0000, grad=2.1716), Var(v=0.0000, grad=-2.2659), Var(v=0.0000, grad=-0.2068), Var(v=0.0000, grad=6.0976), Var(v=0.0000, grad=-4.7216), Var(v=0.0000, grad=-2.7165)]\n",
            "Layer 1 \n",
            " Weights: [[Var(v=0.0025, grad=0.0000), Var(v=0.0738, grad=0.0507), Var(v=0.0228, grad=0.0000), Var(v=0.0731, grad=0.0000), Var(v=-0.0567, grad=-0.0594), Var(v=0.0889, grad=-0.0097), Var(v=0.0263, grad=0.0000), Var(v=-0.0959, grad=0.0000), Var(v=-0.0021, grad=0.0000), Var(v=-0.1011, grad=-0.0315), Var(v=-0.1398, grad=0.0000), Var(v=-0.0408, grad=0.0337), Var(v=0.0309, grad=0.0000), Var(v=-0.0456, grad=-0.0118), Var(v=0.1024, grad=0.0000), Var(v=-0.1173, grad=-0.0019), Var(v=0.0267, grad=-0.0607), Var(v=-0.1975, grad=0.0000), Var(v=0.2160, grad=0.0000), Var(v=0.1184, grad=0.0000), Var(v=0.1292, grad=0.0206), Var(v=-0.0653, grad=0.0000), Var(v=-0.1774, grad=0.0000), Var(v=-0.2917, grad=0.0095), Var(v=-0.1175, grad=0.0000), Var(v=-0.0199, grad=0.0000), Var(v=0.1890, grad=0.0000), Var(v=0.0465, grad=0.0000), Var(v=-0.1520, grad=0.0000), Var(v=-0.0082, grad=0.0000), Var(v=0.0932, grad=0.0228), Var(v=-0.1984, grad=0.0000), Var(v=-0.0363, grad=0.0000), Var(v=0.0557, grad=0.0000), Var(v=-0.1030, grad=-0.0205), Var(v=0.1047, grad=0.0240), Var(v=0.0452, grad=0.0000), Var(v=-0.0045, grad=0.0361), Var(v=-0.1271, grad=-0.0172), Var(v=-0.0628, grad=0.0000), Var(v=0.0785, grad=0.0000), Var(v=0.1660, grad=0.0000), Var(v=0.0524, grad=0.0000), Var(v=0.0422, grad=-0.0133), Var(v=-0.0083, grad=0.0196), Var(v=0.0040, grad=0.0000), Var(v=-0.0331, grad=0.0000), Var(v=0.0516, grad=0.0280), Var(v=-0.0523, grad=0.0000), Var(v=-0.0774, grad=0.0000)], [Var(v=-0.1512, grad=0.0000), Var(v=0.0962, grad=0.0000), Var(v=0.0409, grad=0.0076), Var(v=0.1194, grad=0.0000), Var(v=0.0304, grad=0.0669), Var(v=-0.0884, grad=0.0110), Var(v=0.0082, grad=0.0000), Var(v=0.2058, grad=0.0463), Var(v=0.0381, grad=0.0327), Var(v=-0.0080, grad=0.0355), Var(v=0.0707, grad=-0.0147), Var(v=0.0348, grad=0.0000), Var(v=0.0076, grad=0.0253), Var(v=0.0952, grad=0.0000), Var(v=0.0395, grad=-0.0356), Var(v=0.0542, grad=0.0022), Var(v=0.0485, grad=0.0684), Var(v=0.0116, grad=0.0000), Var(v=0.1128, grad=0.0000), Var(v=-0.0491, grad=0.0000), Var(v=0.1253, grad=-0.0232), Var(v=-0.0398, grad=0.0000), Var(v=0.0819, grad=0.0065), Var(v=0.1240, grad=-0.0107), Var(v=-0.0558, grad=0.0000), Var(v=0.1942, grad=0.0000), Var(v=-0.2110, grad=-0.0138), Var(v=0.0280, grad=-0.0339), Var(v=-0.0169, grad=0.0000), Var(v=0.0610, grad=-0.0291), Var(v=-0.0133, grad=0.0000), Var(v=-0.0082, grad=-0.0381), Var(v=-0.0959, grad=0.0000), Var(v=0.0242, grad=0.0516), Var(v=0.0768, grad=0.0000), Var(v=-0.0288, grad=-0.0270), Var(v=0.0110, grad=-0.0241), Var(v=-0.0979, grad=-0.0406), Var(v=0.1488, grad=0.0193), Var(v=-0.0260, grad=-0.0019), Var(v=-0.0561, grad=0.0303), Var(v=-0.0586, grad=-0.0104), Var(v=-0.0588, grad=-0.0216), Var(v=0.1010, grad=0.0150), Var(v=-0.0963, grad=-0.0221), Var(v=-0.0706, grad=0.0000), Var(v=0.1074, grad=-0.0215), Var(v=0.0247, grad=0.0000), Var(v=0.0358, grad=0.0000), Var(v=0.0760, grad=0.0000)], [Var(v=0.0026, grad=0.0000), Var(v=0.0424, grad=0.3911), Var(v=-0.0817, grad=0.0000), Var(v=-0.0573, grad=0.0000), Var(v=0.0745, grad=-0.4580), Var(v=0.0817, grad=-0.0751), Var(v=-0.0505, grad=0.0000), Var(v=0.0275, grad=0.0000), Var(v=-0.0158, grad=0.0000), Var(v=0.0758, grad=-0.2428), Var(v=-0.1013, grad=0.0000), Var(v=0.0707, grad=0.2599), Var(v=0.0141, grad=0.0000), Var(v=-0.1170, grad=-0.0913), Var(v=0.1262, grad=0.0000), Var(v=0.1076, grad=-0.0150), Var(v=0.0295, grad=-0.4680), Var(v=0.1498, grad=0.0000), Var(v=-0.1796, grad=0.0000), Var(v=-0.0366, grad=0.0000), Var(v=0.2108, grad=0.1588), Var(v=-0.0057, grad=0.0000), Var(v=0.2416, grad=0.0000), Var(v=0.2319, grad=0.0733), Var(v=-0.0573, grad=0.0000), Var(v=0.0209, grad=0.0000), Var(v=-0.1843, grad=0.0000), Var(v=-0.1641, grad=0.0000), Var(v=-0.0598, grad=0.0000), Var(v=-0.0423, grad=0.0000), Var(v=-0.1442, grad=0.1758), Var(v=0.0976, grad=0.0000), Var(v=0.0268, grad=0.0000), Var(v=-0.1118, grad=0.0000), Var(v=0.0045, grad=-0.1579), Var(v=0.2025, grad=0.1851), Var(v=0.0486, grad=0.0000), Var(v=0.0097, grad=0.2782), Var(v=0.2026, grad=-0.1323), Var(v=0.0325, grad=0.0000), Var(v=0.0320, grad=0.0000), Var(v=0.0200, grad=0.0000), Var(v=-0.0278, grad=0.0000), Var(v=-0.0208, grad=-0.1027), Var(v=-0.0875, grad=0.1515), Var(v=-0.1438, grad=0.0000), Var(v=0.1171, grad=0.0000), Var(v=0.0917, grad=0.2160), Var(v=0.1457, grad=0.0000), Var(v=-0.0433, grad=0.0000)], [Var(v=-0.0930, grad=0.0000), Var(v=0.0318, grad=0.0000), Var(v=-0.1654, grad=0.1497), Var(v=-0.1319, grad=0.0000), Var(v=-0.1564, grad=1.3158), Var(v=0.2074, grad=0.2157), Var(v=-0.0003, grad=0.0000), Var(v=0.2566, grad=0.9113), Var(v=0.0016, grad=0.6433), Var(v=-0.0180, grad=0.6975), Var(v=0.1273, grad=-0.2884), Var(v=-0.0391, grad=0.0000), Var(v=-0.0494, grad=0.4983), Var(v=-0.1231, grad=0.0000), Var(v=0.1127, grad=-0.7003), Var(v=-0.1521, grad=0.0430), Var(v=0.1069, grad=1.3443), Var(v=-0.0201, grad=0.0000), Var(v=-0.1450, grad=0.0000), Var(v=0.1339, grad=0.0000), Var(v=0.0951, grad=-0.4561), Var(v=0.0446, grad=0.0000), Var(v=-0.0414, grad=0.1286), Var(v=0.0154, grad=-0.2107), Var(v=-0.1259, grad=0.0000), Var(v=0.1421, grad=0.0000), Var(v=-0.0877, grad=-0.2718), Var(v=0.0388, grad=-0.6662), Var(v=-0.0576, grad=0.0000), Var(v=0.1111, grad=-0.5715), Var(v=-0.1041, grad=0.0000), Var(v=-0.0509, grad=-0.7497), Var(v=-0.0334, grad=0.0000), Var(v=0.0086, grad=1.0141), Var(v=0.0173, grad=0.0000), Var(v=0.0435, grad=-0.5318), Var(v=0.1483, grad=-0.4733), Var(v=-0.0824, grad=-0.7993), Var(v=-0.2697, grad=0.3801), Var(v=0.0113, grad=-0.0376), Var(v=-0.0635, grad=0.5948), Var(v=0.0940, grad=-0.2046), Var(v=-0.1357, grad=-0.4240), Var(v=0.0067, grad=0.2950), Var(v=-0.0416, grad=-0.4353), Var(v=-0.0248, grad=0.0000), Var(v=0.1258, grad=-0.4229), Var(v=-0.0716, grad=0.0000), Var(v=-0.1909, grad=0.0000), Var(v=0.0485, grad=0.0000)], [Var(v=-0.0228, grad=0.0000), Var(v=0.1589, grad=0.0000), Var(v=0.0616, grad=0.0630), Var(v=0.0191, grad=0.0000), Var(v=0.1291, grad=0.5537), Var(v=0.0246, grad=0.0908), Var(v=0.0274, grad=0.0000), Var(v=0.0746, grad=0.3835), Var(v=0.1138, grad=0.2707), Var(v=-0.1151, grad=0.2935), Var(v=-0.1021, grad=-0.1214), Var(v=-0.0234, grad=0.0000), Var(v=-0.0974, grad=0.2097), Var(v=0.1525, grad=0.0000), Var(v=-0.1776, grad=-0.2947), Var(v=-0.0013, grad=0.0181), Var(v=0.0736, grad=0.5657), Var(v=-0.1579, grad=0.0000), Var(v=0.0905, grad=0.0000), Var(v=-0.0804, grad=0.0000), Var(v=0.0594, grad=-0.1919), Var(v=0.0533, grad=0.0000), Var(v=0.0230, grad=0.0541), Var(v=-0.0458, grad=-0.0887), Var(v=-0.2172, grad=0.0000), Var(v=0.0174, grad=0.0000), Var(v=-0.0156, grad=-0.1144), Var(v=-0.0673, grad=-0.2803), Var(v=-0.0487, grad=0.0000), Var(v=0.0403, grad=-0.2405), Var(v=0.0679, grad=0.0000), Var(v=-0.1780, grad=-0.3155), Var(v=-0.0845, grad=0.0000), Var(v=-0.0387, grad=0.4267), Var(v=-0.0007, grad=0.0000), Var(v=0.0348, grad=-0.2238), Var(v=-0.1273, grad=-0.1992), Var(v=-0.0579, grad=-0.3364), Var(v=0.0508, grad=0.1599), Var(v=-0.1121, grad=-0.0158), Var(v=-0.0882, grad=0.2503), Var(v=0.1606, grad=-0.0861), Var(v=-0.1027, grad=-0.1784), Var(v=0.1767, grad=0.1241), Var(v=-0.0983, grad=-0.1832), Var(v=-0.0442, grad=0.0000), Var(v=0.0603, grad=-0.1780), Var(v=-0.0849, grad=0.0000), Var(v=-0.0783, grad=0.0000), Var(v=-0.0119, grad=0.0000)], [Var(v=0.2070, grad=0.0000), Var(v=0.0715, grad=0.0000), Var(v=0.0510, grad=0.1717), Var(v=0.0503, grad=0.0000), Var(v=-0.0262, grad=1.5090), Var(v=-0.0549, grad=0.2474), Var(v=-0.1080, grad=0.0000), Var(v=0.1771, grad=1.0451), Var(v=-0.1642, grad=0.7377), Var(v=-0.0932, grad=0.7999), Var(v=0.0575, grad=-0.3308), Var(v=-0.0968, grad=0.0000), Var(v=0.2057, grad=0.5715), Var(v=-0.0224, grad=0.0000), Var(v=0.0659, grad=-0.8031), Var(v=0.0804, grad=0.0494), Var(v=0.0571, grad=1.5417), Var(v=-0.2226, grad=0.0000), Var(v=-0.1848, grad=0.0000), Var(v=-0.0215, grad=0.0000), Var(v=-0.1151, grad=-0.5231), Var(v=-0.0338, grad=0.0000), Var(v=0.1676, grad=0.1475), Var(v=0.0441, grad=-0.2416), Var(v=-0.0485, grad=0.0000), Var(v=-0.2642, grad=0.0000), Var(v=0.2174, grad=-0.3117), Var(v=0.0213, grad=-0.7640), Var(v=-0.0769, grad=0.0000), Var(v=-0.1476, grad=-0.6555), Var(v=0.0841, grad=0.0000), Var(v=-0.0733, grad=-0.8598), Var(v=-0.0102, grad=0.0000), Var(v=-0.1067, grad=1.1630), Var(v=0.1534, grad=0.0000), Var(v=-0.0716, grad=-0.6099), Var(v=-0.0413, grad=-0.5428), Var(v=-0.0106, grad=-0.9167), Var(v=-0.1591, grad=0.4359), Var(v=0.0123, grad=-0.0431), Var(v=-0.0708, grad=0.6822), Var(v=-0.2015, grad=-0.2347), Var(v=0.1739, grad=-0.4863), Var(v=-0.1278, grad=0.3383), Var(v=0.0081, grad=-0.4992), Var(v=0.1161, grad=0.0000), Var(v=-0.0170, grad=-0.4850), Var(v=0.0076, grad=0.0000), Var(v=-0.0614, grad=0.0000), Var(v=0.1330, grad=0.0000)], [Var(v=-0.1539, grad=0.0000), Var(v=-0.2295, grad=0.0000), Var(v=-0.0085, grad=0.1877), Var(v=-0.0897, grad=0.0000), Var(v=0.1068, grad=1.6499), Var(v=-0.0909, grad=0.2705), Var(v=0.0985, grad=0.0000), Var(v=-0.0803, grad=1.1427), Var(v=-0.0107, grad=0.8066), Var(v=0.0496, grad=0.8746), Var(v=-0.0275, grad=-0.3617), Var(v=-0.1367, grad=0.0000), Var(v=0.0872, grad=0.6248), Var(v=-0.2057, grad=0.0000), Var(v=0.1472, grad=-0.8781), Var(v=0.1066, grad=0.0540), Var(v=-0.0130, grad=1.6857), Var(v=-0.1258, grad=0.0000), Var(v=-0.0244, grad=0.0000), Var(v=0.0047, grad=0.0000), Var(v=0.1229, grad=-0.5720), Var(v=-0.0972, grad=0.0000), Var(v=0.0334, grad=0.1613), Var(v=-0.1899, grad=-0.2642), Var(v=0.0761, grad=0.0000), Var(v=0.0365, grad=0.0000), Var(v=0.0010, grad=-0.3408), Var(v=-0.0073, grad=-0.8353), Var(v=-0.1072, grad=0.0000), Var(v=0.0241, grad=-0.7167), Var(v=-0.0868, grad=0.0000), Var(v=-0.0743, grad=-0.9401), Var(v=-0.0937, grad=0.0000), Var(v=-0.0200, grad=1.2716), Var(v=0.1572, grad=0.0000), Var(v=0.0409, grad=-0.6668), Var(v=0.0720, grad=-0.5935), Var(v=-0.1194, grad=-1.0023), Var(v=0.2624, grad=0.4766), Var(v=-0.1188, grad=-0.0472), Var(v=-0.1781, grad=0.7459), Var(v=0.0490, grad=-0.2566), Var(v=-0.0819, grad=-0.5317), Var(v=-0.0500, grad=0.3699), Var(v=0.1197, grad=-0.5458), Var(v=0.1288, grad=0.0000), Var(v=0.1254, grad=-0.5303), Var(v=-0.1128, grad=0.0000), Var(v=-0.0028, grad=0.0000), Var(v=-0.1658, grad=0.0000)], [Var(v=0.2150, grad=0.0000), Var(v=0.1646, grad=0.8078), Var(v=-0.0586, grad=0.0000), Var(v=-0.1305, grad=0.0000), Var(v=-0.0521, grad=-0.9459), Var(v=-0.0279, grad=-0.1551), Var(v=0.1166, grad=0.0000), Var(v=-0.2202, grad=0.0000), Var(v=0.2209, grad=0.0000), Var(v=0.1291, grad=-0.5014), Var(v=0.0901, grad=0.0000), Var(v=-0.0443, grad=0.5367), Var(v=-0.0541, grad=0.0000), Var(v=0.1040, grad=-0.1885), Var(v=0.1758, grad=0.0000), Var(v=-0.0017, grad=-0.0309), Var(v=0.0146, grad=-0.9665), Var(v=0.1137, grad=0.0000), Var(v=-0.0953, grad=0.0000), Var(v=-0.1100, grad=0.0000), Var(v=0.1329, grad=0.3279), Var(v=0.1029, grad=0.0000), Var(v=-0.1125, grad=0.0000), Var(v=-0.0869, grad=0.1515), Var(v=0.1366, grad=0.0000), Var(v=0.1970, grad=0.0000), Var(v=-0.0034, grad=0.0000), Var(v=-0.1491, grad=0.0000), Var(v=-0.1231, grad=0.0000), Var(v=0.1801, grad=0.0000), Var(v=0.0431, grad=0.3630), Var(v=-0.1175, grad=0.0000), Var(v=-0.1395, grad=0.0000), Var(v=-0.0299, grad=0.0000), Var(v=-0.0133, grad=-0.3261), Var(v=0.0185, grad=0.3823), Var(v=-0.0440, grad=0.0000), Var(v=-0.0071, grad=0.5746), Var(v=0.0901, grad=-0.2732), Var(v=-0.1312, grad=0.0000), Var(v=-0.0479, grad=0.0000), Var(v=-0.1179, grad=0.0000), Var(v=-0.0016, grad=0.0000), Var(v=0.1079, grad=-0.2121), Var(v=0.0976, grad=0.3129), Var(v=0.0292, grad=0.0000), Var(v=-0.0540, grad=0.0000), Var(v=0.0399, grad=0.4462), Var(v=-0.1558, grad=0.0000), Var(v=-0.0355, grad=0.0000)], [Var(v=-0.1216, grad=0.0000), Var(v=0.2402, grad=1.4712), Var(v=-0.0041, grad=0.0000), Var(v=-0.0083, grad=0.0000), Var(v=0.0644, grad=-1.7228), Var(v=0.0548, grad=-0.2824), Var(v=-0.1260, grad=0.0000), Var(v=-0.0184, grad=0.0000), Var(v=-0.2006, grad=0.0000), Var(v=0.0063, grad=-0.9132), Var(v=-0.1453, grad=0.0000), Var(v=0.1249, grad=0.9774), Var(v=-0.0535, grad=0.0000), Var(v=0.0549, grad=-0.3434), Var(v=-0.1754, grad=0.0000), Var(v=0.1630, grad=-0.0564), Var(v=0.0787, grad=-1.7602), Var(v=-0.0682, grad=0.0000), Var(v=-0.0344, grad=0.0000), Var(v=0.0261, grad=0.0000), Var(v=0.0220, grad=0.5972), Var(v=-0.0046, grad=0.0000), Var(v=0.0025, grad=0.0000), Var(v=0.0449, grad=0.2759), Var(v=-0.0989, grad=0.0000), Var(v=-0.0559, grad=0.0000), Var(v=0.0592, grad=0.0000), Var(v=-0.0271, grad=0.0000), Var(v=-0.0925, grad=0.0000), Var(v=-0.0194, grad=0.0000), Var(v=0.2546, grad=0.6611), Var(v=0.0236, grad=0.0000), Var(v=-0.0821, grad=0.0000), Var(v=-0.1347, grad=0.0000), Var(v=0.1278, grad=-0.5939), Var(v=0.1246, grad=0.6963), Var(v=-0.0259, grad=0.0000), Var(v=0.0550, grad=1.0465), Var(v=0.0683, grad=-0.4976), Var(v=-0.0119, grad=0.0000), Var(v=-0.1399, grad=0.0000), Var(v=-0.0372, grad=0.0000), Var(v=0.0585, grad=0.0000), Var(v=-0.0065, grad=-0.3862), Var(v=0.0751, grad=0.5699), Var(v=-0.0737, grad=0.0000), Var(v=-0.0351, grad=0.0000), Var(v=0.0194, grad=0.8126), Var(v=-0.0431, grad=0.0000), Var(v=-0.0606, grad=0.0000)], [Var(v=-0.0022, grad=0.0000), Var(v=-0.1773, grad=0.0000), Var(v=0.2652, grad=0.3540), Var(v=-0.1931, grad=0.0000), Var(v=0.0862, grad=3.1113), Var(v=0.0336, grad=0.5100), Var(v=-0.0232, grad=0.0000), Var(v=-0.0800, grad=2.1548), Var(v=0.0915, grad=1.5210), Var(v=0.0582, grad=1.6492), Var(v=-0.0652, grad=-0.6820), Var(v=0.1538, grad=0.0000), Var(v=0.1039, grad=1.1782), Var(v=-0.0094, grad=0.0000), Var(v=0.0570, grad=-1.6559), Var(v=0.1102, grad=0.1018), Var(v=0.1222, grad=3.1788), Var(v=0.0172, grad=0.0000), Var(v=-0.2380, grad=0.0000), Var(v=-0.2268, grad=0.0000), Var(v=-0.0415, grad=-1.0786), Var(v=0.0122, grad=0.0000), Var(v=0.0942, grad=0.3042), Var(v=0.1597, grad=-0.4982), Var(v=-0.0733, grad=0.0000), Var(v=-0.0175, grad=0.0000), Var(v=-0.0114, grad=-0.6427), Var(v=0.1252, grad=-1.5752), Var(v=-0.0318, grad=0.0000), Var(v=-0.0438, grad=-1.3515), Var(v=-0.1596, grad=0.0000), Var(v=0.1439, grad=-1.7728), Var(v=-0.0963, grad=0.0000), Var(v=-0.0122, grad=2.3978), Var(v=-0.1452, grad=0.0000), Var(v=0.1351, grad=-1.2574), Var(v=0.0213, grad=-1.1191), Var(v=0.1381, grad=-1.8900), Var(v=0.0663, grad=0.8987), Var(v=-0.0067, grad=-0.0889), Var(v=0.1814, grad=1.4066), Var(v=0.1769, grad=-0.4839), Var(v=0.0104, grad=-1.0026), Var(v=0.2082, grad=0.6975), Var(v=0.0459, grad=-1.0292), Var(v=-0.0874, grad=0.0000), Var(v=0.0160, grad=-1.0000), Var(v=0.0478, grad=0.0000), Var(v=-0.0004, grad=0.0000), Var(v=-0.2828, grad=0.0000)], [Var(v=-0.0198, grad=0.0000), Var(v=-0.0595, grad=0.0000), Var(v=-0.0655, grad=0.2938), Var(v=0.0921, grad=0.0000), Var(v=0.1508, grad=2.5823), Var(v=0.1121, grad=0.4233), Var(v=-0.0403, grad=0.0000), Var(v=-0.1527, grad=1.7885), Var(v=0.0460, grad=1.2625), Var(v=-0.0510, grad=1.3688), Var(v=0.1442, grad=-0.5661), Var(v=-0.2049, grad=0.0000), Var(v=0.0360, grad=0.9779), Var(v=0.0953, grad=0.0000), Var(v=0.1061, grad=-1.3744), Var(v=-0.0540, grad=0.0845), Var(v=0.0229, grad=2.6384), Var(v=-0.0164, grad=0.0000), Var(v=-0.0830, grad=0.0000), Var(v=0.0118, grad=0.0000), Var(v=0.1131, grad=-0.8952), Var(v=-0.0177, grad=0.0000), Var(v=-0.0805, grad=0.2525), Var(v=0.1425, grad=-0.4135), Var(v=0.0171, grad=0.0000), Var(v=0.0447, grad=0.0000), Var(v=0.1735, grad=-0.5334), Var(v=0.0076, grad=-1.3074), Var(v=0.1964, grad=0.0000), Var(v=0.0339, grad=-1.1217), Var(v=-0.0298, grad=0.0000), Var(v=0.0469, grad=-1.4714), Var(v=-0.0186, grad=0.0000), Var(v=0.1134, grad=1.9902), Var(v=-0.1365, grad=0.0000), Var(v=0.0601, grad=-1.0436), Var(v=-0.0043, grad=-0.9288), Var(v=0.1215, grad=-1.5687), Var(v=0.2087, grad=0.7459), Var(v=0.0903, grad=-0.0738), Var(v=0.0355, grad=1.1674), Var(v=0.0438, grad=-0.4016), Var(v=0.0905, grad=-0.8322), Var(v=-0.0207, grad=0.5789), Var(v=-0.0588, grad=-0.8542), Var(v=-0.0231, grad=0.0000), Var(v=0.0152, grad=-0.8300), Var(v=0.1383, grad=0.0000), Var(v=0.0880, grad=0.0000), Var(v=0.2257, grad=0.0000)], [Var(v=-0.0391, grad=0.0000), Var(v=-0.1082, grad=1.1488), Var(v=-0.0695, grad=0.0000), Var(v=-0.0190, grad=0.0000), Var(v=-0.0055, grad=-1.3452), Var(v=-0.0763, grad=-0.2205), Var(v=-0.0006, grad=0.0000), Var(v=-0.0959, grad=0.0000), Var(v=-0.0285, grad=0.0000), Var(v=-0.0333, grad=-0.7131), Var(v=-0.0254, grad=0.0000), Var(v=-0.0251, grad=0.7632), Var(v=-0.0328, grad=0.0000), Var(v=0.0406, grad=-0.2681), Var(v=-0.1630, grad=0.0000), Var(v=-0.0103, grad=-0.0440), Var(v=-0.0575, grad=-1.3744), Var(v=-0.0812, grad=0.0000), Var(v=-0.0193, grad=0.0000), Var(v=-0.1003, grad=0.0000), Var(v=-0.0060, grad=0.4664), Var(v=-0.1022, grad=0.0000), Var(v=-0.0011, grad=0.0000), Var(v=0.1498, grad=0.2154), Var(v=-0.0232, grad=0.0000), Var(v=-0.2066, grad=0.0000), Var(v=-0.0428, grad=0.0000), Var(v=-0.0963, grad=0.0000), Var(v=0.0420, grad=0.0000), Var(v=-0.0914, grad=0.0000), Var(v=0.1578, grad=0.5162), Var(v=-0.1960, grad=0.0000), Var(v=0.0154, grad=0.0000), Var(v=0.0522, grad=0.0000), Var(v=-0.0245, grad=-0.4638), Var(v=-0.1245, grad=0.5437), Var(v=-0.0051, grad=0.0000), Var(v=-0.0669, grad=0.8172), Var(v=-0.0241, grad=-0.3886), Var(v=-0.0822, grad=0.0000), Var(v=0.0868, grad=0.0000), Var(v=-0.0286, grad=0.0000), Var(v=-0.1433, grad=0.0000), Var(v=0.0514, grad=-0.3016), Var(v=-0.0009, grad=0.4450), Var(v=-0.0939, grad=0.0000), Var(v=-0.1065, grad=0.0000), Var(v=0.0309, grad=0.6345), Var(v=-0.0195, grad=0.0000), Var(v=0.0100, grad=0.0000)], [Var(v=-0.0728, grad=0.0000), Var(v=-0.0229, grad=0.0000), Var(v=0.0153, grad=0.0468), Var(v=0.0837, grad=0.0000), Var(v=0.0272, grad=0.4115), Var(v=-0.0989, grad=0.0675), Var(v=0.0549, grad=0.0000), Var(v=-0.0399, grad=0.2850), Var(v=0.0836, grad=0.2012), Var(v=-0.0474, grad=0.2181), Var(v=-0.1653, grad=-0.0902), Var(v=0.0495, grad=0.0000), Var(v=-0.0099, grad=0.1558), Var(v=0.1311, grad=0.0000), Var(v=0.0434, grad=-0.2190), Var(v=0.1034, grad=0.0135), Var(v=0.1628, grad=0.4204), Var(v=0.0184, grad=0.0000), Var(v=0.1001, grad=0.0000), Var(v=-0.0550, grad=0.0000), Var(v=-0.1038, grad=-0.1426), Var(v=-0.1263, grad=0.0000), Var(v=0.0411, grad=0.0402), Var(v=-0.0501, grad=-0.0659), Var(v=-0.1343, grad=0.0000), Var(v=-0.1319, grad=0.0000), Var(v=0.0048, grad=-0.0850), Var(v=0.0396, grad=-0.2083), Var(v=-0.0176, grad=0.0000), Var(v=-0.0360, grad=-0.1787), Var(v=-0.0985, grad=0.0000), Var(v=-0.1273, grad=-0.2345), Var(v=-0.2398, grad=0.0000), Var(v=0.1579, grad=0.3171), Var(v=-0.1155, grad=0.0000), Var(v=0.0171, grad=-0.1663), Var(v=0.0295, grad=-0.1480), Var(v=0.1506, grad=-0.2500), Var(v=-0.0091, grad=0.1189), Var(v=0.0146, grad=-0.0118), Var(v=0.0286, grad=0.1860), Var(v=0.0637, grad=-0.0640), Var(v=-0.0839, grad=-0.1326), Var(v=-0.0373, grad=0.0922), Var(v=0.0284, grad=-0.1361), Var(v=-0.0529, grad=0.0000), Var(v=0.0332, grad=-0.1323), Var(v=-0.0953, grad=0.0000), Var(v=-0.1104, grad=0.0000), Var(v=0.0486, grad=0.0000)], [Var(v=0.0887, grad=0.0000), Var(v=-0.1069, grad=0.0000), Var(v=0.0437, grad=0.1066), Var(v=0.0534, grad=0.0000), Var(v=-0.0756, grad=0.9367), Var(v=0.1289, grad=0.1536), Var(v=-0.0011, grad=0.0000), Var(v=0.0367, grad=0.6488), Var(v=-0.0430, grad=0.4580), Var(v=-0.0128, grad=0.4966), Var(v=-0.1322, grad=-0.2053), Var(v=0.0249, grad=0.0000), Var(v=-0.1459, grad=0.3547), Var(v=-0.1030, grad=0.0000), Var(v=0.0576, grad=-0.4986), Var(v=0.0150, grad=0.0306), Var(v=0.1184, grad=0.9571), Var(v=-0.0841, grad=0.0000), Var(v=-0.1101, grad=0.0000), Var(v=-0.1243, grad=0.0000), Var(v=-0.0108, grad=-0.3247), Var(v=0.0097, grad=0.0000), Var(v=-0.1729, grad=0.0916), Var(v=0.2366, grad=-0.1500), Var(v=-0.0829, grad=0.0000), Var(v=-0.0010, grad=0.0000), Var(v=-0.0053, grad=-0.1935), Var(v=0.0856, grad=-0.4743), Var(v=0.0292, grad=0.0000), Var(v=0.0730, grad=-0.4069), Var(v=0.0495, grad=0.0000), Var(v=-0.0811, grad=-0.5337), Var(v=0.0312, grad=0.0000), Var(v=0.0252, grad=0.7220), Var(v=-0.0921, grad=0.0000), Var(v=-0.0654, grad=-0.3786), Var(v=0.0335, grad=-0.3369), Var(v=0.0970, grad=-0.5690), Var(v=-0.0959, grad=0.2706), Var(v=0.0407, grad=-0.0268), Var(v=-0.1564, grad=0.4235), Var(v=-0.0218, grad=-0.1457), Var(v=0.0534, grad=-0.3019), Var(v=-0.0250, grad=0.2100), Var(v=0.0806, grad=-0.3099), Var(v=-0.0468, grad=0.0000), Var(v=0.0009, grad=-0.3011), Var(v=-0.0119, grad=0.0000), Var(v=0.1430, grad=0.0000), Var(v=0.0730, grad=0.0000)], [Var(v=-0.0061, grad=0.0000), Var(v=-0.2107, grad=0.0000), Var(v=-0.0522, grad=0.2000), Var(v=-0.1142, grad=0.0000), Var(v=-0.0230, grad=1.7577), Var(v=-0.0733, grad=0.2881), Var(v=-0.0977, grad=0.0000), Var(v=0.1859, grad=1.2174), Var(v=-0.0158, grad=0.8593), Var(v=0.1185, grad=0.9317), Var(v=0.0112, grad=-0.3853), Var(v=-0.1285, grad=0.0000), Var(v=0.1379, grad=0.6656), Var(v=-0.0166, grad=0.0000), Var(v=0.0535, grad=-0.9355), Var(v=0.0375, grad=0.0575), Var(v=-0.0984, grad=1.7958), Var(v=0.1210, grad=0.0000), Var(v=-0.0870, grad=0.0000), Var(v=-0.0360, grad=0.0000), Var(v=0.0508, grad=-0.6093), Var(v=-0.1048, grad=0.0000), Var(v=0.0502, grad=0.1719), Var(v=0.0473, grad=-0.2814), Var(v=-0.0166, grad=0.0000), Var(v=0.0447, grad=0.0000), Var(v=-0.0168, grad=-0.3631), Var(v=0.0622, grad=-0.8899), Var(v=-0.1204, grad=0.0000), Var(v=0.0035, grad=-0.7635), Var(v=-0.0880, grad=0.0000), Var(v=-0.0201, grad=-1.0015), Var(v=-0.0163, grad=0.0000), Var(v=-0.0604, grad=1.3547), Var(v=-0.1088, grad=0.0000), Var(v=0.1361, grad=-0.7104), Var(v=0.0791, grad=-0.6322), Var(v=0.1494, grad=-1.0678), Var(v=0.1063, grad=0.5077), Var(v=0.1050, grad=-0.0502), Var(v=0.0795, grad=0.7946), Var(v=-0.0310, grad=-0.2734), Var(v=-0.0801, grad=-0.5664), Var(v=0.0659, grad=0.3940), Var(v=0.0357, grad=-0.5814), Var(v=-0.2845, grad=0.0000), Var(v=0.1231, grad=-0.5650), Var(v=-0.0869, grad=0.0000), Var(v=-0.2073, grad=0.0000), Var(v=-0.0318, grad=0.0000)]] Biases: [Var(v=0.0000, grad=0.0000), Var(v=0.0000, grad=17.1490), Var(v=0.0000, grad=2.2646), Var(v=0.0000, grad=0.0000), Var(v=0.0000, grad=-0.1763), Var(v=0.0000, grad=-0.0289), Var(v=0.0000, grad=0.0000), Var(v=0.0000, grad=13.7861), Var(v=0.0000, grad=9.7315), Var(v=0.0000, grad=-0.0935), Var(v=0.0000, grad=-4.3633), Var(v=0.0000, grad=11.3935), Var(v=0.0000, grad=7.5381), Var(v=0.0000, grad=-4.0028), Var(v=0.0000, grad=-10.5941), Var(v=0.0000, grad=-0.0058), Var(v=0.0000, grad=-0.1802), Var(v=0.0000, grad=0.0000), Var(v=0.0000, grad=0.0000), Var(v=0.0000, grad=0.0000), Var(v=0.0000, grad=0.0611), Var(v=0.0000, grad=0.0000), Var(v=0.0000, grad=1.9462), Var(v=0.0000, grad=0.0282), Var(v=0.0000, grad=0.0000), Var(v=0.0000, grad=0.0000), Var(v=0.0000, grad=-4.1117), Var(v=0.0000, grad=-10.0778), Var(v=0.0000, grad=0.0000), Var(v=0.0000, grad=-8.6465), Var(v=0.0000, grad=7.7058), Var(v=0.0000, grad=-11.3419), Var(v=0.0000, grad=0.0000), Var(v=0.0000, grad=15.3411), Var(v=0.0000, grad=-6.9233), Var(v=0.0000, grad=0.0713), Var(v=0.0000, grad=-7.1596), Var(v=0.0000, grad=0.1071), Var(v=0.0000, grad=-0.0509), Var(v=0.0000, grad=-0.5688), Var(v=0.0000, grad=8.9990), Var(v=0.0000, grad=-3.0958), Var(v=0.0000, grad=-6.4146), Var(v=0.0000, grad=-0.0395), Var(v=0.0000, grad=0.0583), Var(v=0.0000, grad=0.0000), Var(v=0.0000, grad=-6.3981), Var(v=0.0000, grad=9.4720), Var(v=0.0000, grad=0.0000), Var(v=0.0000, grad=0.0000)]\n",
            "Layer 2 \n",
            " Weights: [[Var(v=-0.0842, grad=0.0000)], [Var(v=-0.1953, grad=-1.9577)], [Var(v=0.0260, grad=2.1590)], [Var(v=-0.0976, grad=0.0000)], [Var(v=0.2287, grad=2.0856)], [Var(v=0.0375, grad=1.6843)], [Var(v=0.0861, grad=0.0000)], [Var(v=0.1584, grad=1.0017)], [Var(v=0.1118, grad=0.7531)], [Var(v=0.1212, grad=-0.1628)], [Var(v=-0.0501, grad=0.6747)], [Var(v=-0.1297, grad=-0.7413)], [Var(v=0.0866, grad=3.7345)], [Var(v=0.0456, grad=-0.8364)], [Var(v=-0.1217, grad=4.4258)], [Var(v=0.0075, grad=0.5176)], [Var(v=0.2336, grad=2.6523)], [Var(v=-0.0375, grad=0.0000)], [Var(v=-0.0869, grad=0.0000)], [Var(v=0.1750, grad=0.0000)], [Var(v=-0.0793, grad=0.5909)], [Var(v=0.1352, grad=0.0000)], [Var(v=0.0224, grad=1.3117)], [Var(v=-0.0366, grad=2.7107)], [Var(v=0.1724, grad=0.0000)], [Var(v=-0.0908, grad=0.0000)], [Var(v=-0.0472, grad=2.4999)], [Var(v=-0.1158, grad=2.8459)], [Var(v=0.1575, grad=0.0000)], [Var(v=-0.0993, grad=0.0030)], [Var(v=-0.0877, grad=-2.7606)], [Var(v=-0.1303, grad=0.0250)], [Var(v=-0.1713, grad=0.0000)], [Var(v=0.1762, grad=0.1519)], [Var(v=0.0788, grad=-0.7454)], [Var(v=-0.0924, grad=2.7582)], [Var(v=-0.0823, grad=1.8349)], [Var(v=-0.1389, grad=3.4836)], [Var(v=0.0661, grad=2.0058)], [Var(v=-0.0065, grad=0.9381)], [Var(v=0.1034, grad=0.5433)], [Var(v=-0.0356, grad=2.6247)], [Var(v=-0.0737, grad=0.1251)], [Var(v=0.0513, grad=1.5583)], [Var(v=-0.0756, grad=0.2405)], [Var(v=-0.1886, grad=0.0000)], [Var(v=-0.0735, grad=3.0926)], [Var(v=-0.1079, grad=-0.6897)], [Var(v=-0.2315, grad=0.0000)], [Var(v=-0.0102, grad=0.0000)]] Biases: [Var(v=0.0000, grad=-0.7711)]\n",
            "\n",
            "Network after update:\n",
            "Layer 0 \n",
            " Weights: [[Var(v=-0.0627, grad=6.5223), Var(v=0.0626, grad=-6.5652), Var(v=0.0104, grad=0.9217), Var(v=-0.0934, grad=3.3309), Var(v=0.0903, grad=-11.5594), Var(v=-0.0704, grad=0.1457), Var(v=-0.0809, grad=0.5537), Var(v=0.0111, grad=2.9334), Var(v=0.0104, grad=6.3266), Var(v=-0.1182, grad=-2.3893), Var(v=-0.1428, grad=2.4930), Var(v=0.0599, grad=-0.2408), Var(v=0.0483, grad=-6.7086), Var(v=-0.0947, grad=5.1948), Var(v=-0.1101, grad=2.9888)]] Biases: [Var(v=-0.0560, grad=5.6020), Var(v=-0.0597, grad=5.9671), Var(v=-0.0079, grad=0.7916), Var(v=0.0303, grad=-3.0275), Var(v=-0.1051, grad=10.5064), Var(v=0.0013, grad=-0.1325), Var(v=0.0050, grad=-0.5033), Var(v=-0.0252, grad=2.5195), Var(v=-0.0543, grad=5.4339), Var(v=-0.0217, grad=2.1716), Var(v=0.0227, grad=-2.2659), Var(v=0.0021, grad=-0.2068), Var(v=-0.0610, grad=6.0976), Var(v=0.0472, grad=-4.7216), Var(v=0.0272, grad=-2.7165)]\n",
            "Layer 1 \n",
            " Weights: [[Var(v=0.0025, grad=0.0000), Var(v=0.0733, grad=0.0507), Var(v=0.0228, grad=0.0000), Var(v=0.0731, grad=0.0000), Var(v=-0.0561, grad=-0.0594), Var(v=0.0890, grad=-0.0097), Var(v=0.0263, grad=0.0000), Var(v=-0.0959, grad=0.0000), Var(v=-0.0021, grad=0.0000), Var(v=-0.1008, grad=-0.0315), Var(v=-0.1398, grad=0.0000), Var(v=-0.0412, grad=0.0337), Var(v=0.0309, grad=0.0000), Var(v=-0.0455, grad=-0.0118), Var(v=0.1024, grad=0.0000), Var(v=-0.1173, grad=-0.0019), Var(v=0.0273, grad=-0.0607), Var(v=-0.1975, grad=0.0000), Var(v=0.2160, grad=0.0000), Var(v=0.1184, grad=0.0000), Var(v=0.1290, grad=0.0206), Var(v=-0.0653, grad=0.0000), Var(v=-0.1774, grad=0.0000), Var(v=-0.2918, grad=0.0095), Var(v=-0.1175, grad=0.0000), Var(v=-0.0199, grad=0.0000), Var(v=0.1890, grad=0.0000), Var(v=0.0465, grad=0.0000), Var(v=-0.1520, grad=0.0000), Var(v=-0.0082, grad=0.0000), Var(v=0.0930, grad=0.0228), Var(v=-0.1984, grad=0.0000), Var(v=-0.0363, grad=0.0000), Var(v=0.0557, grad=0.0000), Var(v=-0.1028, grad=-0.0205), Var(v=0.1045, grad=0.0240), Var(v=0.0452, grad=0.0000), Var(v=-0.0048, grad=0.0361), Var(v=-0.1269, grad=-0.0172), Var(v=-0.0628, grad=0.0000), Var(v=0.0785, grad=0.0000), Var(v=0.1660, grad=0.0000), Var(v=0.0524, grad=0.0000), Var(v=0.0423, grad=-0.0133), Var(v=-0.0085, grad=0.0196), Var(v=0.0040, grad=0.0000), Var(v=-0.0331, grad=0.0000), Var(v=0.0513, grad=0.0280), Var(v=-0.0523, grad=0.0000), Var(v=-0.0774, grad=0.0000)], [Var(v=-0.1512, grad=0.0000), Var(v=0.0962, grad=0.0000), Var(v=0.0408, grad=0.0076), Var(v=0.1194, grad=0.0000), Var(v=0.0298, grad=0.0669), Var(v=-0.0885, grad=0.0110), Var(v=0.0082, grad=0.0000), Var(v=0.2054, grad=0.0463), Var(v=0.0378, grad=0.0327), Var(v=-0.0083, grad=0.0355), Var(v=0.0708, grad=-0.0147), Var(v=0.0348, grad=0.0000), Var(v=0.0074, grad=0.0253), Var(v=0.0952, grad=0.0000), Var(v=0.0399, grad=-0.0356), Var(v=0.0542, grad=0.0022), Var(v=0.0479, grad=0.0684), Var(v=0.0116, grad=0.0000), Var(v=0.1128, grad=0.0000), Var(v=-0.0491, grad=0.0000), Var(v=0.1255, grad=-0.0232), Var(v=-0.0398, grad=0.0000), Var(v=0.0819, grad=0.0065), Var(v=0.1241, grad=-0.0107), Var(v=-0.0558, grad=0.0000), Var(v=0.1942, grad=0.0000), Var(v=-0.2109, grad=-0.0138), Var(v=0.0283, grad=-0.0339), Var(v=-0.0169, grad=0.0000), Var(v=0.0613, grad=-0.0291), Var(v=-0.0133, grad=0.0000), Var(v=-0.0078, grad=-0.0381), Var(v=-0.0959, grad=0.0000), Var(v=0.0236, grad=0.0516), Var(v=0.0768, grad=0.0000), Var(v=-0.0285, grad=-0.0270), Var(v=0.0112, grad=-0.0241), Var(v=-0.0975, grad=-0.0406), Var(v=0.1486, grad=0.0193), Var(v=-0.0260, grad=-0.0019), Var(v=-0.0564, grad=0.0303), Var(v=-0.0585, grad=-0.0104), Var(v=-0.0585, grad=-0.0216), Var(v=0.1009, grad=0.0150), Var(v=-0.0960, grad=-0.0221), Var(v=-0.0706, grad=0.0000), Var(v=0.1076, grad=-0.0215), Var(v=0.0247, grad=0.0000), Var(v=0.0358, grad=0.0000), Var(v=0.0760, grad=0.0000)], [Var(v=0.0026, grad=0.0000), Var(v=0.0385, grad=0.3911), Var(v=-0.0817, grad=0.0000), Var(v=-0.0573, grad=0.0000), Var(v=0.0790, grad=-0.4580), Var(v=0.0825, grad=-0.0751), Var(v=-0.0505, grad=0.0000), Var(v=0.0275, grad=0.0000), Var(v=-0.0158, grad=0.0000), Var(v=0.0782, grad=-0.2428), Var(v=-0.1013, grad=0.0000), Var(v=0.0681, grad=0.2599), Var(v=0.0141, grad=0.0000), Var(v=-0.1161, grad=-0.0913), Var(v=0.1262, grad=0.0000), Var(v=0.1078, grad=-0.0150), Var(v=0.0342, grad=-0.4680), Var(v=0.1498, grad=0.0000), Var(v=-0.1796, grad=0.0000), Var(v=-0.0366, grad=0.0000), Var(v=0.2092, grad=0.1588), Var(v=-0.0057, grad=0.0000), Var(v=0.2416, grad=0.0000), Var(v=0.2312, grad=0.0733), Var(v=-0.0573, grad=0.0000), Var(v=0.0209, grad=0.0000), Var(v=-0.1843, grad=0.0000), Var(v=-0.1641, grad=0.0000), Var(v=-0.0598, grad=0.0000), Var(v=-0.0423, grad=0.0000), Var(v=-0.1459, grad=0.1758), Var(v=0.0976, grad=0.0000), Var(v=0.0268, grad=0.0000), Var(v=-0.1118, grad=0.0000), Var(v=0.0060, grad=-0.1579), Var(v=0.2006, grad=0.1851), Var(v=0.0486, grad=0.0000), Var(v=0.0069, grad=0.2782), Var(v=0.2039, grad=-0.1323), Var(v=0.0325, grad=0.0000), Var(v=0.0320, grad=0.0000), Var(v=0.0200, grad=0.0000), Var(v=-0.0278, grad=0.0000), Var(v=-0.0197, grad=-0.1027), Var(v=-0.0890, grad=0.1515), Var(v=-0.1438, grad=0.0000), Var(v=0.1171, grad=0.0000), Var(v=0.0895, grad=0.2160), Var(v=0.1457, grad=0.0000), Var(v=-0.0433, grad=0.0000)], [Var(v=-0.0930, grad=0.0000), Var(v=0.0318, grad=0.0000), Var(v=-0.1669, grad=0.1497), Var(v=-0.1319, grad=0.0000), Var(v=-0.1696, grad=1.3158), Var(v=0.2052, grad=0.2157), Var(v=-0.0003, grad=0.0000), Var(v=0.2475, grad=0.9113), Var(v=-0.0049, grad=0.6433), Var(v=-0.0250, grad=0.6975), Var(v=0.1302, grad=-0.2884), Var(v=-0.0391, grad=0.0000), Var(v=-0.0544, grad=0.4983), Var(v=-0.1231, grad=0.0000), Var(v=0.1197, grad=-0.7003), Var(v=-0.1526, grad=0.0430), Var(v=0.0935, grad=1.3443), Var(v=-0.0201, grad=0.0000), Var(v=-0.1450, grad=0.0000), Var(v=0.1339, grad=0.0000), Var(v=0.0996, grad=-0.4561), Var(v=0.0446, grad=0.0000), Var(v=-0.0427, grad=0.1286), Var(v=0.0175, grad=-0.2107), Var(v=-0.1259, grad=0.0000), Var(v=0.1421, grad=0.0000), Var(v=-0.0849, grad=-0.2718), Var(v=0.0455, grad=-0.6662), Var(v=-0.0576, grad=0.0000), Var(v=0.1168, grad=-0.5715), Var(v=-0.1041, grad=0.0000), Var(v=-0.0434, grad=-0.7497), Var(v=-0.0334, grad=0.0000), Var(v=-0.0015, grad=1.0141), Var(v=0.0173, grad=0.0000), Var(v=0.0489, grad=-0.5318), Var(v=0.1530, grad=-0.4733), Var(v=-0.0744, grad=-0.7993), Var(v=-0.2735, grad=0.3801), Var(v=0.0117, grad=-0.0376), Var(v=-0.0694, grad=0.5948), Var(v=0.0960, grad=-0.2046), Var(v=-0.1315, grad=-0.4240), Var(v=0.0037, grad=0.2950), Var(v=-0.0372, grad=-0.4353), Var(v=-0.0248, grad=0.0000), Var(v=0.1301, grad=-0.4229), Var(v=-0.0716, grad=0.0000), Var(v=-0.1909, grad=0.0000), Var(v=0.0485, grad=0.0000)], [Var(v=-0.0228, grad=0.0000), Var(v=0.1589, grad=0.0000), Var(v=0.0610, grad=0.0630), Var(v=0.0191, grad=0.0000), Var(v=0.1236, grad=0.5537), Var(v=0.0237, grad=0.0908), Var(v=0.0274, grad=0.0000), Var(v=0.0708, grad=0.3835), Var(v=0.1111, grad=0.2707), Var(v=-0.1180, grad=0.2935), Var(v=-0.1009, grad=-0.1214), Var(v=-0.0234, grad=0.0000), Var(v=-0.0995, grad=0.2097), Var(v=0.1525, grad=0.0000), Var(v=-0.1747, grad=-0.2947), Var(v=-0.0015, grad=0.0181), Var(v=0.0679, grad=0.5657), Var(v=-0.1579, grad=0.0000), Var(v=0.0905, grad=0.0000), Var(v=-0.0804, grad=0.0000), Var(v=0.0614, grad=-0.1919), Var(v=0.0533, grad=0.0000), Var(v=0.0224, grad=0.0541), Var(v=-0.0449, grad=-0.0887), Var(v=-0.2172, grad=0.0000), Var(v=0.0174, grad=0.0000), Var(v=-0.0145, grad=-0.1144), Var(v=-0.0645, grad=-0.2803), Var(v=-0.0487, grad=0.0000), Var(v=0.0427, grad=-0.2405), Var(v=0.0679, grad=0.0000), Var(v=-0.1749, grad=-0.3155), Var(v=-0.0845, grad=0.0000), Var(v=-0.0430, grad=0.4267), Var(v=-0.0007, grad=0.0000), Var(v=0.0370, grad=-0.2238), Var(v=-0.1253, grad=-0.1992), Var(v=-0.0545, grad=-0.3364), Var(v=0.0492, grad=0.1599), Var(v=-0.1119, grad=-0.0158), Var(v=-0.0907, grad=0.2503), Var(v=0.1615, grad=-0.0861), Var(v=-0.1009, grad=-0.1784), Var(v=0.1755, grad=0.1241), Var(v=-0.0965, grad=-0.1832), Var(v=-0.0442, grad=0.0000), Var(v=0.0620, grad=-0.1780), Var(v=-0.0849, grad=0.0000), Var(v=-0.0783, grad=0.0000), Var(v=-0.0119, grad=0.0000)], [Var(v=0.2070, grad=0.0000), Var(v=0.0715, grad=0.0000), Var(v=0.0493, grad=0.1717), Var(v=0.0503, grad=0.0000), Var(v=-0.0413, grad=1.5090), Var(v=-0.0573, grad=0.2474), Var(v=-0.1080, grad=0.0000), Var(v=0.1666, grad=1.0451), Var(v=-0.1715, grad=0.7377), Var(v=-0.1012, grad=0.7999), Var(v=0.0608, grad=-0.3308), Var(v=-0.0968, grad=0.0000), Var(v=0.2000, grad=0.5715), Var(v=-0.0224, grad=0.0000), Var(v=0.0739, grad=-0.8031), Var(v=0.0799, grad=0.0494), Var(v=0.0416, grad=1.5417), Var(v=-0.2226, grad=0.0000), Var(v=-0.1848, grad=0.0000), Var(v=-0.0215, grad=0.0000), Var(v=-0.1099, grad=-0.5231), Var(v=-0.0338, grad=0.0000), Var(v=0.1662, grad=0.1475), Var(v=0.0465, grad=-0.2416), Var(v=-0.0485, grad=0.0000), Var(v=-0.2642, grad=0.0000), Var(v=0.2205, grad=-0.3117), Var(v=0.0289, grad=-0.7640), Var(v=-0.0769, grad=0.0000), Var(v=-0.1410, grad=-0.6555), Var(v=0.0841, grad=0.0000), Var(v=-0.0647, grad=-0.8598), Var(v=-0.0102, grad=0.0000), Var(v=-0.1183, grad=1.1630), Var(v=0.1534, grad=0.0000), Var(v=-0.0655, grad=-0.6099), Var(v=-0.0358, grad=-0.5428), Var(v=-0.0014, grad=-0.9167), Var(v=-0.1634, grad=0.4359), Var(v=0.0128, grad=-0.0431), Var(v=-0.0777, grad=0.6822), Var(v=-0.1992, grad=-0.2347), Var(v=0.1788, grad=-0.4863), Var(v=-0.1312, grad=0.3383), Var(v=0.0131, grad=-0.4992), Var(v=0.1161, grad=0.0000), Var(v=-0.0122, grad=-0.4850), Var(v=0.0076, grad=0.0000), Var(v=-0.0614, grad=0.0000), Var(v=0.1330, grad=0.0000)], [Var(v=-0.1539, grad=0.0000), Var(v=-0.2295, grad=0.0000), Var(v=-0.0104, grad=0.1877), Var(v=-0.0897, grad=0.0000), Var(v=0.0903, grad=1.6499), Var(v=-0.0936, grad=0.2705), Var(v=0.0985, grad=0.0000), Var(v=-0.0917, grad=1.1427), Var(v=-0.0187, grad=0.8066), Var(v=0.0409, grad=0.8746), Var(v=-0.0239, grad=-0.3617), Var(v=-0.1367, grad=0.0000), Var(v=0.0810, grad=0.6248), Var(v=-0.2057, grad=0.0000), Var(v=0.1560, grad=-0.8781), Var(v=0.1061, grad=0.0540), Var(v=-0.0298, grad=1.6857), Var(v=-0.1258, grad=0.0000), Var(v=-0.0244, grad=0.0000), Var(v=0.0047, grad=0.0000), Var(v=0.1286, grad=-0.5720), Var(v=-0.0972, grad=0.0000), Var(v=0.0318, grad=0.1613), Var(v=-0.1873, grad=-0.2642), Var(v=0.0761, grad=0.0000), Var(v=0.0365, grad=0.0000), Var(v=0.0044, grad=-0.3408), Var(v=0.0011, grad=-0.8353), Var(v=-0.1072, grad=0.0000), Var(v=0.0313, grad=-0.7167), Var(v=-0.0868, grad=0.0000), Var(v=-0.0649, grad=-0.9401), Var(v=-0.0937, grad=0.0000), Var(v=-0.0328, grad=1.2716), Var(v=0.1572, grad=0.0000), Var(v=0.0475, grad=-0.6668), Var(v=0.0779, grad=-0.5935), Var(v=-0.1093, grad=-1.0023), Var(v=0.2576, grad=0.4766), Var(v=-0.1183, grad=-0.0472), Var(v=-0.1855, grad=0.7459), Var(v=0.0516, grad=-0.2566), Var(v=-0.0766, grad=-0.5317), Var(v=-0.0537, grad=0.3699), Var(v=0.1252, grad=-0.5458), Var(v=0.1288, grad=0.0000), Var(v=0.1308, grad=-0.5303), Var(v=-0.1128, grad=0.0000), Var(v=-0.0028, grad=0.0000), Var(v=-0.1658, grad=0.0000)], [Var(v=0.2150, grad=0.0000), Var(v=0.1565, grad=0.8078), Var(v=-0.0586, grad=0.0000), Var(v=-0.1305, grad=0.0000), Var(v=-0.0426, grad=-0.9459), Var(v=-0.0264, grad=-0.1551), Var(v=0.1166, grad=0.0000), Var(v=-0.2202, grad=0.0000), Var(v=0.2209, grad=0.0000), Var(v=0.1341, grad=-0.5014), Var(v=0.0901, grad=0.0000), Var(v=-0.0497, grad=0.5367), Var(v=-0.0541, grad=0.0000), Var(v=0.1059, grad=-0.1885), Var(v=0.1758, grad=0.0000), Var(v=-0.0014, grad=-0.0309), Var(v=0.0243, grad=-0.9665), Var(v=0.1137, grad=0.0000), Var(v=-0.0953, grad=0.0000), Var(v=-0.1100, grad=0.0000), Var(v=0.1297, grad=0.3279), Var(v=0.1029, grad=0.0000), Var(v=-0.1125, grad=0.0000), Var(v=-0.0884, grad=0.1515), Var(v=0.1366, grad=0.0000), Var(v=0.1970, grad=0.0000), Var(v=-0.0034, grad=0.0000), Var(v=-0.1491, grad=0.0000), Var(v=-0.1231, grad=0.0000), Var(v=0.1801, grad=0.0000), Var(v=0.0395, grad=0.3630), Var(v=-0.1175, grad=0.0000), Var(v=-0.1395, grad=0.0000), Var(v=-0.0299, grad=0.0000), Var(v=-0.0100, grad=-0.3261), Var(v=0.0147, grad=0.3823), Var(v=-0.0440, grad=0.0000), Var(v=-0.0128, grad=0.5746), Var(v=0.0928, grad=-0.2732), Var(v=-0.1312, grad=0.0000), Var(v=-0.0479, grad=0.0000), Var(v=-0.1179, grad=0.0000), Var(v=-0.0016, grad=0.0000), Var(v=0.1100, grad=-0.2121), Var(v=0.0945, grad=0.3129), Var(v=0.0292, grad=0.0000), Var(v=-0.0540, grad=0.0000), Var(v=0.0354, grad=0.4462), Var(v=-0.1558, grad=0.0000), Var(v=-0.0355, grad=0.0000)], [Var(v=-0.1216, grad=0.0000), Var(v=0.2254, grad=1.4712), Var(v=-0.0041, grad=0.0000), Var(v=-0.0083, grad=0.0000), Var(v=0.0816, grad=-1.7228), Var(v=0.0576, grad=-0.2824), Var(v=-0.1260, grad=0.0000), Var(v=-0.0184, grad=0.0000), Var(v=-0.2006, grad=0.0000), Var(v=0.0154, grad=-0.9132), Var(v=-0.1453, grad=0.0000), Var(v=0.1152, grad=0.9774), Var(v=-0.0535, grad=0.0000), Var(v=0.0584, grad=-0.3434), Var(v=-0.1754, grad=0.0000), Var(v=0.1636, grad=-0.0564), Var(v=0.0963, grad=-1.7602), Var(v=-0.0682, grad=0.0000), Var(v=-0.0344, grad=0.0000), Var(v=0.0261, grad=0.0000), Var(v=0.0161, grad=0.5972), Var(v=-0.0046, grad=0.0000), Var(v=0.0025, grad=0.0000), Var(v=0.0421, grad=0.2759), Var(v=-0.0989, grad=0.0000), Var(v=-0.0559, grad=0.0000), Var(v=0.0592, grad=0.0000), Var(v=-0.0271, grad=0.0000), Var(v=-0.0925, grad=0.0000), Var(v=-0.0194, grad=0.0000), Var(v=0.2480, grad=0.6611), Var(v=0.0236, grad=0.0000), Var(v=-0.0821, grad=0.0000), Var(v=-0.1347, grad=0.0000), Var(v=0.1337, grad=-0.5939), Var(v=0.1177, grad=0.6963), Var(v=-0.0259, grad=0.0000), Var(v=0.0446, grad=1.0465), Var(v=0.0733, grad=-0.4976), Var(v=-0.0119, grad=0.0000), Var(v=-0.1399, grad=0.0000), Var(v=-0.0372, grad=0.0000), Var(v=0.0585, grad=0.0000), Var(v=-0.0026, grad=-0.3862), Var(v=0.0694, grad=0.5699), Var(v=-0.0737, grad=0.0000), Var(v=-0.0351, grad=0.0000), Var(v=0.0112, grad=0.8126), Var(v=-0.0431, grad=0.0000), Var(v=-0.0606, grad=0.0000)], [Var(v=-0.0022, grad=0.0000), Var(v=-0.1773, grad=0.0000), Var(v=0.2616, grad=0.3540), Var(v=-0.1931, grad=0.0000), Var(v=0.0550, grad=3.1113), Var(v=0.0285, grad=0.5100), Var(v=-0.0232, grad=0.0000), Var(v=-0.1016, grad=2.1548), Var(v=0.0763, grad=1.5210), Var(v=0.0417, grad=1.6492), Var(v=-0.0584, grad=-0.6820), Var(v=0.1538, grad=0.0000), Var(v=0.0922, grad=1.1782), Var(v=-0.0094, grad=0.0000), Var(v=0.0736, grad=-1.6559), Var(v=0.1092, grad=0.1018), Var(v=0.0904, grad=3.1788), Var(v=0.0172, grad=0.0000), Var(v=-0.2380, grad=0.0000), Var(v=-0.2268, grad=0.0000), Var(v=-0.0307, grad=-1.0786), Var(v=0.0122, grad=0.0000), Var(v=0.0911, grad=0.3042), Var(v=0.1647, grad=-0.4982), Var(v=-0.0733, grad=0.0000), Var(v=-0.0175, grad=0.0000), Var(v=-0.0050, grad=-0.6427), Var(v=0.1410, grad=-1.5752), Var(v=-0.0318, grad=0.0000), Var(v=-0.0303, grad=-1.3515), Var(v=-0.1596, grad=0.0000), Var(v=0.1616, grad=-1.7728), Var(v=-0.0963, grad=0.0000), Var(v=-0.0362, grad=2.3978), Var(v=-0.1452, grad=0.0000), Var(v=0.1476, grad=-1.2574), Var(v=0.0325, grad=-1.1191), Var(v=0.1570, grad=-1.8900), Var(v=0.0573, grad=0.8987), Var(v=-0.0059, grad=-0.0889), Var(v=0.1673, grad=1.4066), Var(v=0.1817, grad=-0.4839), Var(v=0.0204, grad=-1.0026), Var(v=0.2012, grad=0.6975), Var(v=0.0561, grad=-1.0292), Var(v=-0.0874, grad=0.0000), Var(v=0.0260, grad=-1.0000), Var(v=0.0478, grad=0.0000), Var(v=-0.0004, grad=0.0000), Var(v=-0.2828, grad=0.0000)], [Var(v=-0.0198, grad=0.0000), Var(v=-0.0595, grad=0.0000), Var(v=-0.0684, grad=0.2938), Var(v=0.0921, grad=0.0000), Var(v=0.1250, grad=2.5823), Var(v=0.1079, grad=0.4233), Var(v=-0.0403, grad=0.0000), Var(v=-0.1705, grad=1.7885), Var(v=0.0334, grad=1.2625), Var(v=-0.0647, grad=1.3688), Var(v=0.1499, grad=-0.5661), Var(v=-0.2049, grad=0.0000), Var(v=0.0262, grad=0.9779), Var(v=0.0953, grad=0.0000), Var(v=0.1198, grad=-1.3744), Var(v=-0.0548, grad=0.0845), Var(v=-0.0035, grad=2.6384), Var(v=-0.0164, grad=0.0000), Var(v=-0.0830, grad=0.0000), Var(v=0.0118, grad=0.0000), Var(v=0.1221, grad=-0.8952), Var(v=-0.0177, grad=0.0000), Var(v=-0.0831, grad=0.2525), Var(v=0.1466, grad=-0.4135), Var(v=0.0171, grad=0.0000), Var(v=0.0447, grad=0.0000), Var(v=0.1788, grad=-0.5334), Var(v=0.0206, grad=-1.3074), Var(v=0.1964, grad=0.0000), Var(v=0.0451, grad=-1.1217), Var(v=-0.0298, grad=0.0000), Var(v=0.0617, grad=-1.4714), Var(v=-0.0186, grad=0.0000), Var(v=0.0935, grad=1.9902), Var(v=-0.1365, grad=0.0000), Var(v=0.0706, grad=-1.0436), Var(v=0.0050, grad=-0.9288), Var(v=0.1372, grad=-1.5687), Var(v=0.2012, grad=0.7459), Var(v=0.0910, grad=-0.0738), Var(v=0.0239, grad=1.1674), Var(v=0.0478, grad=-0.4016), Var(v=0.0988, grad=-0.8322), Var(v=-0.0265, grad=0.5789), Var(v=-0.0503, grad=-0.8542), Var(v=-0.0231, grad=0.0000), Var(v=0.0235, grad=-0.8300), Var(v=0.1383, grad=0.0000), Var(v=0.0880, grad=0.0000), Var(v=0.2257, grad=0.0000)], [Var(v=-0.0391, grad=0.0000), Var(v=-0.1197, grad=1.1488), Var(v=-0.0695, grad=0.0000), Var(v=-0.0190, grad=0.0000), Var(v=0.0079, grad=-1.3452), Var(v=-0.0741, grad=-0.2205), Var(v=-0.0006, grad=0.0000), Var(v=-0.0959, grad=0.0000), Var(v=-0.0285, grad=0.0000), Var(v=-0.0261, grad=-0.7131), Var(v=-0.0254, grad=0.0000), Var(v=-0.0327, grad=0.7632), Var(v=-0.0328, grad=0.0000), Var(v=0.0433, grad=-0.2681), Var(v=-0.1630, grad=0.0000), Var(v=-0.0099, grad=-0.0440), Var(v=-0.0438, grad=-1.3744), Var(v=-0.0812, grad=0.0000), Var(v=-0.0193, grad=0.0000), Var(v=-0.1003, grad=0.0000), Var(v=-0.0107, grad=0.4664), Var(v=-0.1022, grad=0.0000), Var(v=-0.0011, grad=0.0000), Var(v=0.1476, grad=0.2154), Var(v=-0.0232, grad=0.0000), Var(v=-0.2066, grad=0.0000), Var(v=-0.0428, grad=0.0000), Var(v=-0.0963, grad=0.0000), Var(v=0.0420, grad=0.0000), Var(v=-0.0914, grad=0.0000), Var(v=0.1526, grad=0.5162), Var(v=-0.1960, grad=0.0000), Var(v=0.0154, grad=0.0000), Var(v=0.0522, grad=0.0000), Var(v=-0.0199, grad=-0.4638), Var(v=-0.1300, grad=0.5437), Var(v=-0.0051, grad=0.0000), Var(v=-0.0750, grad=0.8172), Var(v=-0.0202, grad=-0.3886), Var(v=-0.0822, grad=0.0000), Var(v=0.0868, grad=0.0000), Var(v=-0.0286, grad=0.0000), Var(v=-0.1433, grad=0.0000), Var(v=0.0544, grad=-0.3016), Var(v=-0.0054, grad=0.4450), Var(v=-0.0939, grad=0.0000), Var(v=-0.1065, grad=0.0000), Var(v=0.0245, grad=0.6345), Var(v=-0.0195, grad=0.0000), Var(v=0.0100, grad=0.0000)], [Var(v=-0.0728, grad=0.0000), Var(v=-0.0229, grad=0.0000), Var(v=0.0148, grad=0.0468), Var(v=0.0837, grad=0.0000), Var(v=0.0231, grad=0.4115), Var(v=-0.0996, grad=0.0675), Var(v=0.0549, grad=0.0000), Var(v=-0.0428, grad=0.2850), Var(v=0.0816, grad=0.2012), Var(v=-0.0495, grad=0.2181), Var(v=-0.1643, grad=-0.0902), Var(v=0.0495, grad=0.0000), Var(v=-0.0114, grad=0.1558), Var(v=0.1311, grad=0.0000), Var(v=0.0456, grad=-0.2190), Var(v=0.1033, grad=0.0135), Var(v=0.1586, grad=0.4204), Var(v=0.0184, grad=0.0000), Var(v=0.1001, grad=0.0000), Var(v=-0.0550, grad=0.0000), Var(v=-0.1024, grad=-0.1426), Var(v=-0.1263, grad=0.0000), Var(v=0.0407, grad=0.0402), Var(v=-0.0495, grad=-0.0659), Var(v=-0.1343, grad=0.0000), Var(v=-0.1319, grad=0.0000), Var(v=0.0057, grad=-0.0850), Var(v=0.0417, grad=-0.2083), Var(v=-0.0176, grad=0.0000), Var(v=-0.0342, grad=-0.1787), Var(v=-0.0985, grad=0.0000), Var(v=-0.1250, grad=-0.2345), Var(v=-0.2398, grad=0.0000), Var(v=0.1547, grad=0.3171), Var(v=-0.1155, grad=0.0000), Var(v=0.0188, grad=-0.1663), Var(v=0.0309, grad=-0.1480), Var(v=0.1531, grad=-0.2500), Var(v=-0.0103, grad=0.1189), Var(v=0.0147, grad=-0.0118), Var(v=0.0268, grad=0.1860), Var(v=0.0644, grad=-0.0640), Var(v=-0.0826, grad=-0.1326), Var(v=-0.0382, grad=0.0922), Var(v=0.0297, grad=-0.1361), Var(v=-0.0529, grad=0.0000), Var(v=0.0346, grad=-0.1323), Var(v=-0.0953, grad=0.0000), Var(v=-0.1104, grad=0.0000), Var(v=0.0486, grad=0.0000)], [Var(v=0.0887, grad=0.0000), Var(v=-0.1069, grad=0.0000), Var(v=0.0426, grad=0.1066), Var(v=0.0534, grad=0.0000), Var(v=-0.0850, grad=0.9367), Var(v=0.1274, grad=0.1536), Var(v=-0.0011, grad=0.0000), Var(v=0.0302, grad=0.6488), Var(v=-0.0476, grad=0.4580), Var(v=-0.0178, grad=0.4966), Var(v=-0.1302, grad=-0.2053), Var(v=0.0249, grad=0.0000), Var(v=-0.1495, grad=0.3547), Var(v=-0.1030, grad=0.0000), Var(v=0.0626, grad=-0.4986), Var(v=0.0147, grad=0.0306), Var(v=0.1089, grad=0.9571), Var(v=-0.0841, grad=0.0000), Var(v=-0.1101, grad=0.0000), Var(v=-0.1243, grad=0.0000), Var(v=-0.0076, grad=-0.3247), Var(v=0.0097, grad=0.0000), Var(v=-0.1738, grad=0.0916), Var(v=0.2381, grad=-0.1500), Var(v=-0.0829, grad=0.0000), Var(v=-0.0010, grad=0.0000), Var(v=-0.0034, grad=-0.1935), Var(v=0.0904, grad=-0.4743), Var(v=0.0292, grad=0.0000), Var(v=0.0771, grad=-0.4069), Var(v=0.0495, grad=0.0000), Var(v=-0.0758, grad=-0.5337), Var(v=0.0312, grad=0.0000), Var(v=0.0180, grad=0.7220), Var(v=-0.0921, grad=0.0000), Var(v=-0.0617, grad=-0.3786), Var(v=0.0369, grad=-0.3369), Var(v=0.1027, grad=-0.5690), Var(v=-0.0986, grad=0.2706), Var(v=0.0410, grad=-0.0268), Var(v=-0.1606, grad=0.4235), Var(v=-0.0203, grad=-0.1457), Var(v=0.0564, grad=-0.3019), Var(v=-0.0271, grad=0.2100), Var(v=0.0837, grad=-0.3099), Var(v=-0.0468, grad=0.0000), Var(v=0.0039, grad=-0.3011), Var(v=-0.0119, grad=0.0000), Var(v=0.1430, grad=0.0000), Var(v=0.0730, grad=0.0000)], [Var(v=-0.0061, grad=0.0000), Var(v=-0.2107, grad=0.0000), Var(v=-0.0542, grad=0.2000), Var(v=-0.1142, grad=0.0000), Var(v=-0.0406, grad=1.7577), Var(v=-0.0761, grad=0.2881), Var(v=-0.0977, grad=0.0000), Var(v=0.1737, grad=1.2174), Var(v=-0.0244, grad=0.8593), Var(v=0.1092, grad=0.9317), Var(v=0.0150, grad=-0.3853), Var(v=-0.1285, grad=0.0000), Var(v=0.1313, grad=0.6656), Var(v=-0.0166, grad=0.0000), Var(v=0.0629, grad=-0.9355), Var(v=0.0369, grad=0.0575), Var(v=-0.1163, grad=1.7958), Var(v=0.1210, grad=0.0000), Var(v=-0.0870, grad=0.0000), Var(v=-0.0360, grad=0.0000), Var(v=0.0569, grad=-0.6093), Var(v=-0.1048, grad=0.0000), Var(v=0.0485, grad=0.1719), Var(v=0.0501, grad=-0.2814), Var(v=-0.0166, grad=0.0000), Var(v=0.0447, grad=0.0000), Var(v=-0.0131, grad=-0.3631), Var(v=0.0711, grad=-0.8899), Var(v=-0.1204, grad=0.0000), Var(v=0.0111, grad=-0.7635), Var(v=-0.0880, grad=0.0000), Var(v=-0.0101, grad=-1.0015), Var(v=-0.0163, grad=0.0000), Var(v=-0.0739, grad=1.3547), Var(v=-0.1088, grad=0.0000), Var(v=0.1432, grad=-0.7104), Var(v=0.0854, grad=-0.6322), Var(v=0.1600, grad=-1.0678), Var(v=0.1012, grad=0.5077), Var(v=0.1055, grad=-0.0502), Var(v=0.0715, grad=0.7946), Var(v=-0.0282, grad=-0.2734), Var(v=-0.0744, grad=-0.5664), Var(v=0.0620, grad=0.3940), Var(v=0.0416, grad=-0.5814), Var(v=-0.2845, grad=0.0000), Var(v=0.1287, grad=-0.5650), Var(v=-0.0869, grad=0.0000), Var(v=-0.2073, grad=0.0000), Var(v=-0.0318, grad=0.0000)]] Biases: [Var(v=0.0000, grad=0.0000), Var(v=-0.1715, grad=17.1490), Var(v=-0.0226, grad=2.2646), Var(v=0.0000, grad=0.0000), Var(v=0.0018, grad=-0.1763), Var(v=0.0003, grad=-0.0289), Var(v=0.0000, grad=0.0000), Var(v=-0.1379, grad=13.7861), Var(v=-0.0973, grad=9.7315), Var(v=0.0009, grad=-0.0935), Var(v=0.0436, grad=-4.3633), Var(v=-0.1139, grad=11.3935), Var(v=-0.0754, grad=7.5381), Var(v=0.0400, grad=-4.0028), Var(v=0.1059, grad=-10.5941), Var(v=0.0001, grad=-0.0058), Var(v=0.0018, grad=-0.1802), Var(v=0.0000, grad=0.0000), Var(v=0.0000, grad=0.0000), Var(v=0.0000, grad=0.0000), Var(v=-0.0006, grad=0.0611), Var(v=0.0000, grad=0.0000), Var(v=-0.0195, grad=1.9462), Var(v=-0.0003, grad=0.0282), Var(v=0.0000, grad=0.0000), Var(v=0.0000, grad=0.0000), Var(v=0.0411, grad=-4.1117), Var(v=0.1008, grad=-10.0778), Var(v=0.0000, grad=0.0000), Var(v=0.0865, grad=-8.6465), Var(v=-0.0771, grad=7.7058), Var(v=0.1134, grad=-11.3419), Var(v=0.0000, grad=0.0000), Var(v=-0.1534, grad=15.3411), Var(v=0.0692, grad=-6.9233), Var(v=-0.0007, grad=0.0713), Var(v=0.0716, grad=-7.1596), Var(v=-0.0011, grad=0.1071), Var(v=0.0005, grad=-0.0509), Var(v=0.0057, grad=-0.5688), Var(v=-0.0900, grad=8.9990), Var(v=0.0310, grad=-3.0958), Var(v=0.0641, grad=-6.4146), Var(v=0.0004, grad=-0.0395), Var(v=-0.0006, grad=0.0583), Var(v=0.0000, grad=0.0000), Var(v=0.0640, grad=-6.3981), Var(v=-0.0947, grad=9.4720), Var(v=0.0000, grad=0.0000), Var(v=0.0000, grad=0.0000)]\n",
            "Layer 2 \n",
            " Weights: [[Var(v=-0.0842, grad=0.0000)], [Var(v=-0.1757, grad=-1.9577)], [Var(v=0.0044, grad=2.1590)], [Var(v=-0.0976, grad=0.0000)], [Var(v=0.2078, grad=2.0856)], [Var(v=0.0206, grad=1.6843)], [Var(v=0.0861, grad=0.0000)], [Var(v=0.1484, grad=1.0017)], [Var(v=0.1043, grad=0.7531)], [Var(v=0.1228, grad=-0.1628)], [Var(v=-0.0569, grad=0.6747)], [Var(v=-0.1223, grad=-0.7413)], [Var(v=0.0493, grad=3.7345)], [Var(v=0.0539, grad=-0.8364)], [Var(v=-0.1660, grad=4.4258)], [Var(v=0.0023, grad=0.5176)], [Var(v=0.2071, grad=2.6523)], [Var(v=-0.0375, grad=0.0000)], [Var(v=-0.0869, grad=0.0000)], [Var(v=0.1750, grad=0.0000)], [Var(v=-0.0852, grad=0.5909)], [Var(v=0.1352, grad=0.0000)], [Var(v=0.0092, grad=1.3117)], [Var(v=-0.0637, grad=2.7107)], [Var(v=0.1724, grad=0.0000)], [Var(v=-0.0908, grad=0.0000)], [Var(v=-0.0722, grad=2.4999)], [Var(v=-0.1442, grad=2.8459)], [Var(v=0.1575, grad=0.0000)], [Var(v=-0.0994, grad=0.0030)], [Var(v=-0.0601, grad=-2.7606)], [Var(v=-0.1305, grad=0.0250)], [Var(v=-0.1713, grad=0.0000)], [Var(v=0.1747, grad=0.1519)], [Var(v=0.0863, grad=-0.7454)], [Var(v=-0.1200, grad=2.7582)], [Var(v=-0.1006, grad=1.8349)], [Var(v=-0.1738, grad=3.4836)], [Var(v=0.0460, grad=2.0058)], [Var(v=-0.0159, grad=0.9381)], [Var(v=0.0979, grad=0.5433)], [Var(v=-0.0618, grad=2.6247)], [Var(v=-0.0749, grad=0.1251)], [Var(v=0.0357, grad=1.5583)], [Var(v=-0.0781, grad=0.2405)], [Var(v=-0.1886, grad=0.0000)], [Var(v=-0.1044, grad=3.0926)], [Var(v=-0.1010, grad=-0.6897)], [Var(v=-0.2315, grad=0.0000)], [Var(v=-0.0102, grad=0.0000)]] Biases: [Var(v=0.0077, grad=-0.7711)]\n",
            "\n",
            "Network after zeroing gradients:\n",
            "Layer 0 \n",
            " Weights: [[Var(v=-0.0627, grad=0.0000), Var(v=0.0626, grad=0.0000), Var(v=0.0104, grad=0.0000), Var(v=-0.0934, grad=0.0000), Var(v=0.0903, grad=0.0000), Var(v=-0.0704, grad=0.0000), Var(v=-0.0809, grad=0.0000), Var(v=0.0111, grad=0.0000), Var(v=0.0104, grad=0.0000), Var(v=-0.1182, grad=0.0000), Var(v=-0.1428, grad=0.0000), Var(v=0.0599, grad=0.0000), Var(v=0.0483, grad=0.0000), Var(v=-0.0947, grad=0.0000), Var(v=-0.1101, grad=0.0000)]] Biases: [Var(v=-0.0560, grad=0.0000), Var(v=-0.0597, grad=0.0000), Var(v=-0.0079, grad=0.0000), Var(v=0.0303, grad=0.0000), Var(v=-0.1051, grad=0.0000), Var(v=0.0013, grad=0.0000), Var(v=0.0050, grad=0.0000), Var(v=-0.0252, grad=0.0000), Var(v=-0.0543, grad=0.0000), Var(v=-0.0217, grad=0.0000), Var(v=0.0227, grad=0.0000), Var(v=0.0021, grad=0.0000), Var(v=-0.0610, grad=0.0000), Var(v=0.0472, grad=0.0000), Var(v=0.0272, grad=0.0000)]\n",
            "Layer 1 \n",
            " Weights: [[Var(v=0.0025, grad=0.0000), Var(v=0.0733, grad=0.0000), Var(v=0.0228, grad=0.0000), Var(v=0.0731, grad=0.0000), Var(v=-0.0561, grad=0.0000), Var(v=0.0890, grad=0.0000), Var(v=0.0263, grad=0.0000), Var(v=-0.0959, grad=0.0000), Var(v=-0.0021, grad=0.0000), Var(v=-0.1008, grad=0.0000), Var(v=-0.1398, grad=0.0000), Var(v=-0.0412, grad=0.0000), Var(v=0.0309, grad=0.0000), Var(v=-0.0455, grad=0.0000), Var(v=0.1024, grad=0.0000), Var(v=-0.1173, grad=0.0000), Var(v=0.0273, grad=0.0000), Var(v=-0.1975, grad=0.0000), Var(v=0.2160, grad=0.0000), Var(v=0.1184, grad=0.0000), Var(v=0.1290, grad=0.0000), Var(v=-0.0653, grad=0.0000), Var(v=-0.1774, grad=0.0000), Var(v=-0.2918, grad=0.0000), Var(v=-0.1175, grad=0.0000), Var(v=-0.0199, grad=0.0000), Var(v=0.1890, grad=0.0000), Var(v=0.0465, grad=0.0000), Var(v=-0.1520, grad=0.0000), Var(v=-0.0082, grad=0.0000), Var(v=0.0930, grad=0.0000), Var(v=-0.1984, grad=0.0000), Var(v=-0.0363, grad=0.0000), Var(v=0.0557, grad=0.0000), Var(v=-0.1028, grad=0.0000), Var(v=0.1045, grad=0.0000), Var(v=0.0452, grad=0.0000), Var(v=-0.0048, grad=0.0000), Var(v=-0.1269, grad=0.0000), Var(v=-0.0628, grad=0.0000), Var(v=0.0785, grad=0.0000), Var(v=0.1660, grad=0.0000), Var(v=0.0524, grad=0.0000), Var(v=0.0423, grad=0.0000), Var(v=-0.0085, grad=0.0000), Var(v=0.0040, grad=0.0000), Var(v=-0.0331, grad=0.0000), Var(v=0.0513, grad=0.0000), Var(v=-0.0523, grad=0.0000), Var(v=-0.0774, grad=0.0000)], [Var(v=-0.1512, grad=0.0000), Var(v=0.0962, grad=0.0000), Var(v=0.0408, grad=0.0000), Var(v=0.1194, grad=0.0000), Var(v=0.0298, grad=0.0000), Var(v=-0.0885, grad=0.0000), Var(v=0.0082, grad=0.0000), Var(v=0.2054, grad=0.0000), Var(v=0.0378, grad=0.0000), Var(v=-0.0083, grad=0.0000), Var(v=0.0708, grad=0.0000), Var(v=0.0348, grad=0.0000), Var(v=0.0074, grad=0.0000), Var(v=0.0952, grad=0.0000), Var(v=0.0399, grad=0.0000), Var(v=0.0542, grad=0.0000), Var(v=0.0479, grad=0.0000), Var(v=0.0116, grad=0.0000), Var(v=0.1128, grad=0.0000), Var(v=-0.0491, grad=0.0000), Var(v=0.1255, grad=0.0000), Var(v=-0.0398, grad=0.0000), Var(v=0.0819, grad=0.0000), Var(v=0.1241, grad=0.0000), Var(v=-0.0558, grad=0.0000), Var(v=0.1942, grad=0.0000), Var(v=-0.2109, grad=0.0000), Var(v=0.0283, grad=0.0000), Var(v=-0.0169, grad=0.0000), Var(v=0.0613, grad=0.0000), Var(v=-0.0133, grad=0.0000), Var(v=-0.0078, grad=0.0000), Var(v=-0.0959, grad=0.0000), Var(v=0.0236, grad=0.0000), Var(v=0.0768, grad=0.0000), Var(v=-0.0285, grad=0.0000), Var(v=0.0112, grad=0.0000), Var(v=-0.0975, grad=0.0000), Var(v=0.1486, grad=0.0000), Var(v=-0.0260, grad=0.0000), Var(v=-0.0564, grad=0.0000), Var(v=-0.0585, grad=0.0000), Var(v=-0.0585, grad=0.0000), Var(v=0.1009, grad=0.0000), Var(v=-0.0960, grad=0.0000), Var(v=-0.0706, grad=0.0000), Var(v=0.1076, grad=0.0000), Var(v=0.0247, grad=0.0000), Var(v=0.0358, grad=0.0000), Var(v=0.0760, grad=0.0000)], [Var(v=0.0026, grad=0.0000), Var(v=0.0385, grad=0.0000), Var(v=-0.0817, grad=0.0000), Var(v=-0.0573, grad=0.0000), Var(v=0.0790, grad=0.0000), Var(v=0.0825, grad=0.0000), Var(v=-0.0505, grad=0.0000), Var(v=0.0275, grad=0.0000), Var(v=-0.0158, grad=0.0000), Var(v=0.0782, grad=0.0000), Var(v=-0.1013, grad=0.0000), Var(v=0.0681, grad=0.0000), Var(v=0.0141, grad=0.0000), Var(v=-0.1161, grad=0.0000), Var(v=0.1262, grad=0.0000), Var(v=0.1078, grad=0.0000), Var(v=0.0342, grad=0.0000), Var(v=0.1498, grad=0.0000), Var(v=-0.1796, grad=0.0000), Var(v=-0.0366, grad=0.0000), Var(v=0.2092, grad=0.0000), Var(v=-0.0057, grad=0.0000), Var(v=0.2416, grad=0.0000), Var(v=0.2312, grad=0.0000), Var(v=-0.0573, grad=0.0000), Var(v=0.0209, grad=0.0000), Var(v=-0.1843, grad=0.0000), Var(v=-0.1641, grad=0.0000), Var(v=-0.0598, grad=0.0000), Var(v=-0.0423, grad=0.0000), Var(v=-0.1459, grad=0.0000), Var(v=0.0976, grad=0.0000), Var(v=0.0268, grad=0.0000), Var(v=-0.1118, grad=0.0000), Var(v=0.0060, grad=0.0000), Var(v=0.2006, grad=0.0000), Var(v=0.0486, grad=0.0000), Var(v=0.0069, grad=0.0000), Var(v=0.2039, grad=0.0000), Var(v=0.0325, grad=0.0000), Var(v=0.0320, grad=0.0000), Var(v=0.0200, grad=0.0000), Var(v=-0.0278, grad=0.0000), Var(v=-0.0197, grad=0.0000), Var(v=-0.0890, grad=0.0000), Var(v=-0.1438, grad=0.0000), Var(v=0.1171, grad=0.0000), Var(v=0.0895, grad=0.0000), Var(v=0.1457, grad=0.0000), Var(v=-0.0433, grad=0.0000)], [Var(v=-0.0930, grad=0.0000), Var(v=0.0318, grad=0.0000), Var(v=-0.1669, grad=0.0000), Var(v=-0.1319, grad=0.0000), Var(v=-0.1696, grad=0.0000), Var(v=0.2052, grad=0.0000), Var(v=-0.0003, grad=0.0000), Var(v=0.2475, grad=0.0000), Var(v=-0.0049, grad=0.0000), Var(v=-0.0250, grad=0.0000), Var(v=0.1302, grad=0.0000), Var(v=-0.0391, grad=0.0000), Var(v=-0.0544, grad=0.0000), Var(v=-0.1231, grad=0.0000), Var(v=0.1197, grad=0.0000), Var(v=-0.1526, grad=0.0000), Var(v=0.0935, grad=0.0000), Var(v=-0.0201, grad=0.0000), Var(v=-0.1450, grad=0.0000), Var(v=0.1339, grad=0.0000), Var(v=0.0996, grad=0.0000), Var(v=0.0446, grad=0.0000), Var(v=-0.0427, grad=0.0000), Var(v=0.0175, grad=0.0000), Var(v=-0.1259, grad=0.0000), Var(v=0.1421, grad=0.0000), Var(v=-0.0849, grad=0.0000), Var(v=0.0455, grad=0.0000), Var(v=-0.0576, grad=0.0000), Var(v=0.1168, grad=0.0000), Var(v=-0.1041, grad=0.0000), Var(v=-0.0434, grad=0.0000), Var(v=-0.0334, grad=0.0000), Var(v=-0.0015, grad=0.0000), Var(v=0.0173, grad=0.0000), Var(v=0.0489, grad=0.0000), Var(v=0.1530, grad=0.0000), Var(v=-0.0744, grad=0.0000), Var(v=-0.2735, grad=0.0000), Var(v=0.0117, grad=0.0000), Var(v=-0.0694, grad=0.0000), Var(v=0.0960, grad=0.0000), Var(v=-0.1315, grad=0.0000), Var(v=0.0037, grad=0.0000), Var(v=-0.0372, grad=0.0000), Var(v=-0.0248, grad=0.0000), Var(v=0.1301, grad=0.0000), Var(v=-0.0716, grad=0.0000), Var(v=-0.1909, grad=0.0000), Var(v=0.0485, grad=0.0000)], [Var(v=-0.0228, grad=0.0000), Var(v=0.1589, grad=0.0000), Var(v=0.0610, grad=0.0000), Var(v=0.0191, grad=0.0000), Var(v=0.1236, grad=0.0000), Var(v=0.0237, grad=0.0000), Var(v=0.0274, grad=0.0000), Var(v=0.0708, grad=0.0000), Var(v=0.1111, grad=0.0000), Var(v=-0.1180, grad=0.0000), Var(v=-0.1009, grad=0.0000), Var(v=-0.0234, grad=0.0000), Var(v=-0.0995, grad=0.0000), Var(v=0.1525, grad=0.0000), Var(v=-0.1747, grad=0.0000), Var(v=-0.0015, grad=0.0000), Var(v=0.0679, grad=0.0000), Var(v=-0.1579, grad=0.0000), Var(v=0.0905, grad=0.0000), Var(v=-0.0804, grad=0.0000), Var(v=0.0614, grad=0.0000), Var(v=0.0533, grad=0.0000), Var(v=0.0224, grad=0.0000), Var(v=-0.0449, grad=0.0000), Var(v=-0.2172, grad=0.0000), Var(v=0.0174, grad=0.0000), Var(v=-0.0145, grad=0.0000), Var(v=-0.0645, grad=0.0000), Var(v=-0.0487, grad=0.0000), Var(v=0.0427, grad=0.0000), Var(v=0.0679, grad=0.0000), Var(v=-0.1749, grad=0.0000), Var(v=-0.0845, grad=0.0000), Var(v=-0.0430, grad=0.0000), Var(v=-0.0007, grad=0.0000), Var(v=0.0370, grad=0.0000), Var(v=-0.1253, grad=0.0000), Var(v=-0.0545, grad=0.0000), Var(v=0.0492, grad=0.0000), Var(v=-0.1119, grad=0.0000), Var(v=-0.0907, grad=0.0000), Var(v=0.1615, grad=0.0000), Var(v=-0.1009, grad=0.0000), Var(v=0.1755, grad=0.0000), Var(v=-0.0965, grad=0.0000), Var(v=-0.0442, grad=0.0000), Var(v=0.0620, grad=0.0000), Var(v=-0.0849, grad=0.0000), Var(v=-0.0783, grad=0.0000), Var(v=-0.0119, grad=0.0000)], [Var(v=0.2070, grad=0.0000), Var(v=0.0715, grad=0.0000), Var(v=0.0493, grad=0.0000), Var(v=0.0503, grad=0.0000), Var(v=-0.0413, grad=0.0000), Var(v=-0.0573, grad=0.0000), Var(v=-0.1080, grad=0.0000), Var(v=0.1666, grad=0.0000), Var(v=-0.1715, grad=0.0000), Var(v=-0.1012, grad=0.0000), Var(v=0.0608, grad=0.0000), Var(v=-0.0968, grad=0.0000), Var(v=0.2000, grad=0.0000), Var(v=-0.0224, grad=0.0000), Var(v=0.0739, grad=0.0000), Var(v=0.0799, grad=0.0000), Var(v=0.0416, grad=0.0000), Var(v=-0.2226, grad=0.0000), Var(v=-0.1848, grad=0.0000), Var(v=-0.0215, grad=0.0000), Var(v=-0.1099, grad=0.0000), Var(v=-0.0338, grad=0.0000), Var(v=0.1662, grad=0.0000), Var(v=0.0465, grad=0.0000), Var(v=-0.0485, grad=0.0000), Var(v=-0.2642, grad=0.0000), Var(v=0.2205, grad=0.0000), Var(v=0.0289, grad=0.0000), Var(v=-0.0769, grad=0.0000), Var(v=-0.1410, grad=0.0000), Var(v=0.0841, grad=0.0000), Var(v=-0.0647, grad=0.0000), Var(v=-0.0102, grad=0.0000), Var(v=-0.1183, grad=0.0000), Var(v=0.1534, grad=0.0000), Var(v=-0.0655, grad=0.0000), Var(v=-0.0358, grad=0.0000), Var(v=-0.0014, grad=0.0000), Var(v=-0.1634, grad=0.0000), Var(v=0.0128, grad=0.0000), Var(v=-0.0777, grad=0.0000), Var(v=-0.1992, grad=0.0000), Var(v=0.1788, grad=0.0000), Var(v=-0.1312, grad=0.0000), Var(v=0.0131, grad=0.0000), Var(v=0.1161, grad=0.0000), Var(v=-0.0122, grad=0.0000), Var(v=0.0076, grad=0.0000), Var(v=-0.0614, grad=0.0000), Var(v=0.1330, grad=0.0000)], [Var(v=-0.1539, grad=0.0000), Var(v=-0.2295, grad=0.0000), Var(v=-0.0104, grad=0.0000), Var(v=-0.0897, grad=0.0000), Var(v=0.0903, grad=0.0000), Var(v=-0.0936, grad=0.0000), Var(v=0.0985, grad=0.0000), Var(v=-0.0917, grad=0.0000), Var(v=-0.0187, grad=0.0000), Var(v=0.0409, grad=0.0000), Var(v=-0.0239, grad=0.0000), Var(v=-0.1367, grad=0.0000), Var(v=0.0810, grad=0.0000), Var(v=-0.2057, grad=0.0000), Var(v=0.1560, grad=0.0000), Var(v=0.1061, grad=0.0000), Var(v=-0.0298, grad=0.0000), Var(v=-0.1258, grad=0.0000), Var(v=-0.0244, grad=0.0000), Var(v=0.0047, grad=0.0000), Var(v=0.1286, grad=0.0000), Var(v=-0.0972, grad=0.0000), Var(v=0.0318, grad=0.0000), Var(v=-0.1873, grad=0.0000), Var(v=0.0761, grad=0.0000), Var(v=0.0365, grad=0.0000), Var(v=0.0044, grad=0.0000), Var(v=0.0011, grad=0.0000), Var(v=-0.1072, grad=0.0000), Var(v=0.0313, grad=0.0000), Var(v=-0.0868, grad=0.0000), Var(v=-0.0649, grad=0.0000), Var(v=-0.0937, grad=0.0000), Var(v=-0.0328, grad=0.0000), Var(v=0.1572, grad=0.0000), Var(v=0.0475, grad=0.0000), Var(v=0.0779, grad=0.0000), Var(v=-0.1093, grad=0.0000), Var(v=0.2576, grad=0.0000), Var(v=-0.1183, grad=0.0000), Var(v=-0.1855, grad=0.0000), Var(v=0.0516, grad=0.0000), Var(v=-0.0766, grad=0.0000), Var(v=-0.0537, grad=0.0000), Var(v=0.1252, grad=0.0000), Var(v=0.1288, grad=0.0000), Var(v=0.1308, grad=0.0000), Var(v=-0.1128, grad=0.0000), Var(v=-0.0028, grad=0.0000), Var(v=-0.1658, grad=0.0000)], [Var(v=0.2150, grad=0.0000), Var(v=0.1565, grad=0.0000), Var(v=-0.0586, grad=0.0000), Var(v=-0.1305, grad=0.0000), Var(v=-0.0426, grad=0.0000), Var(v=-0.0264, grad=0.0000), Var(v=0.1166, grad=0.0000), Var(v=-0.2202, grad=0.0000), Var(v=0.2209, grad=0.0000), Var(v=0.1341, grad=0.0000), Var(v=0.0901, grad=0.0000), Var(v=-0.0497, grad=0.0000), Var(v=-0.0541, grad=0.0000), Var(v=0.1059, grad=0.0000), Var(v=0.1758, grad=0.0000), Var(v=-0.0014, grad=0.0000), Var(v=0.0243, grad=0.0000), Var(v=0.1137, grad=0.0000), Var(v=-0.0953, grad=0.0000), Var(v=-0.1100, grad=0.0000), Var(v=0.1297, grad=0.0000), Var(v=0.1029, grad=0.0000), Var(v=-0.1125, grad=0.0000), Var(v=-0.0884, grad=0.0000), Var(v=0.1366, grad=0.0000), Var(v=0.1970, grad=0.0000), Var(v=-0.0034, grad=0.0000), Var(v=-0.1491, grad=0.0000), Var(v=-0.1231, grad=0.0000), Var(v=0.1801, grad=0.0000), Var(v=0.0395, grad=0.0000), Var(v=-0.1175, grad=0.0000), Var(v=-0.1395, grad=0.0000), Var(v=-0.0299, grad=0.0000), Var(v=-0.0100, grad=0.0000), Var(v=0.0147, grad=0.0000), Var(v=-0.0440, grad=0.0000), Var(v=-0.0128, grad=0.0000), Var(v=0.0928, grad=0.0000), Var(v=-0.1312, grad=0.0000), Var(v=-0.0479, grad=0.0000), Var(v=-0.1179, grad=0.0000), Var(v=-0.0016, grad=0.0000), Var(v=0.1100, grad=0.0000), Var(v=0.0945, grad=0.0000), Var(v=0.0292, grad=0.0000), Var(v=-0.0540, grad=0.0000), Var(v=0.0354, grad=0.0000), Var(v=-0.1558, grad=0.0000), Var(v=-0.0355, grad=0.0000)], [Var(v=-0.1216, grad=0.0000), Var(v=0.2254, grad=0.0000), Var(v=-0.0041, grad=0.0000), Var(v=-0.0083, grad=0.0000), Var(v=0.0816, grad=0.0000), Var(v=0.0576, grad=0.0000), Var(v=-0.1260, grad=0.0000), Var(v=-0.0184, grad=0.0000), Var(v=-0.2006, grad=0.0000), Var(v=0.0154, grad=0.0000), Var(v=-0.1453, grad=0.0000), Var(v=0.1152, grad=0.0000), Var(v=-0.0535, grad=0.0000), Var(v=0.0584, grad=0.0000), Var(v=-0.1754, grad=0.0000), Var(v=0.1636, grad=0.0000), Var(v=0.0963, grad=0.0000), Var(v=-0.0682, grad=0.0000), Var(v=-0.0344, grad=0.0000), Var(v=0.0261, grad=0.0000), Var(v=0.0161, grad=0.0000), Var(v=-0.0046, grad=0.0000), Var(v=0.0025, grad=0.0000), Var(v=0.0421, grad=0.0000), Var(v=-0.0989, grad=0.0000), Var(v=-0.0559, grad=0.0000), Var(v=0.0592, grad=0.0000), Var(v=-0.0271, grad=0.0000), Var(v=-0.0925, grad=0.0000), Var(v=-0.0194, grad=0.0000), Var(v=0.2480, grad=0.0000), Var(v=0.0236, grad=0.0000), Var(v=-0.0821, grad=0.0000), Var(v=-0.1347, grad=0.0000), Var(v=0.1337, grad=0.0000), Var(v=0.1177, grad=0.0000), Var(v=-0.0259, grad=0.0000), Var(v=0.0446, grad=0.0000), Var(v=0.0733, grad=0.0000), Var(v=-0.0119, grad=0.0000), Var(v=-0.1399, grad=0.0000), Var(v=-0.0372, grad=0.0000), Var(v=0.0585, grad=0.0000), Var(v=-0.0026, grad=0.0000), Var(v=0.0694, grad=0.0000), Var(v=-0.0737, grad=0.0000), Var(v=-0.0351, grad=0.0000), Var(v=0.0112, grad=0.0000), Var(v=-0.0431, grad=0.0000), Var(v=-0.0606, grad=0.0000)], [Var(v=-0.0022, grad=0.0000), Var(v=-0.1773, grad=0.0000), Var(v=0.2616, grad=0.0000), Var(v=-0.1931, grad=0.0000), Var(v=0.0550, grad=0.0000), Var(v=0.0285, grad=0.0000), Var(v=-0.0232, grad=0.0000), Var(v=-0.1016, grad=0.0000), Var(v=0.0763, grad=0.0000), Var(v=0.0417, grad=0.0000), Var(v=-0.0584, grad=0.0000), Var(v=0.1538, grad=0.0000), Var(v=0.0922, grad=0.0000), Var(v=-0.0094, grad=0.0000), Var(v=0.0736, grad=0.0000), Var(v=0.1092, grad=0.0000), Var(v=0.0904, grad=0.0000), Var(v=0.0172, grad=0.0000), Var(v=-0.2380, grad=0.0000), Var(v=-0.2268, grad=0.0000), Var(v=-0.0307, grad=0.0000), Var(v=0.0122, grad=0.0000), Var(v=0.0911, grad=0.0000), Var(v=0.1647, grad=0.0000), Var(v=-0.0733, grad=0.0000), Var(v=-0.0175, grad=0.0000), Var(v=-0.0050, grad=0.0000), Var(v=0.1410, grad=0.0000), Var(v=-0.0318, grad=0.0000), Var(v=-0.0303, grad=0.0000), Var(v=-0.1596, grad=0.0000), Var(v=0.1616, grad=0.0000), Var(v=-0.0963, grad=0.0000), Var(v=-0.0362, grad=0.0000), Var(v=-0.1452, grad=0.0000), Var(v=0.1476, grad=0.0000), Var(v=0.0325, grad=0.0000), Var(v=0.1570, grad=0.0000), Var(v=0.0573, grad=0.0000), Var(v=-0.0059, grad=0.0000), Var(v=0.1673, grad=0.0000), Var(v=0.1817, grad=0.0000), Var(v=0.0204, grad=0.0000), Var(v=0.2012, grad=0.0000), Var(v=0.0561, grad=0.0000), Var(v=-0.0874, grad=0.0000), Var(v=0.0260, grad=0.0000), Var(v=0.0478, grad=0.0000), Var(v=-0.0004, grad=0.0000), Var(v=-0.2828, grad=0.0000)], [Var(v=-0.0198, grad=0.0000), Var(v=-0.0595, grad=0.0000), Var(v=-0.0684, grad=0.0000), Var(v=0.0921, grad=0.0000), Var(v=0.1250, grad=0.0000), Var(v=0.1079, grad=0.0000), Var(v=-0.0403, grad=0.0000), Var(v=-0.1705, grad=0.0000), Var(v=0.0334, grad=0.0000), Var(v=-0.0647, grad=0.0000), Var(v=0.1499, grad=0.0000), Var(v=-0.2049, grad=0.0000), Var(v=0.0262, grad=0.0000), Var(v=0.0953, grad=0.0000), Var(v=0.1198, grad=0.0000), Var(v=-0.0548, grad=0.0000), Var(v=-0.0035, grad=0.0000), Var(v=-0.0164, grad=0.0000), Var(v=-0.0830, grad=0.0000), Var(v=0.0118, grad=0.0000), Var(v=0.1221, grad=0.0000), Var(v=-0.0177, grad=0.0000), Var(v=-0.0831, grad=0.0000), Var(v=0.1466, grad=0.0000), Var(v=0.0171, grad=0.0000), Var(v=0.0447, grad=0.0000), Var(v=0.1788, grad=0.0000), Var(v=0.0206, grad=0.0000), Var(v=0.1964, grad=0.0000), Var(v=0.0451, grad=0.0000), Var(v=-0.0298, grad=0.0000), Var(v=0.0617, grad=0.0000), Var(v=-0.0186, grad=0.0000), Var(v=0.0935, grad=0.0000), Var(v=-0.1365, grad=0.0000), Var(v=0.0706, grad=0.0000), Var(v=0.0050, grad=0.0000), Var(v=0.1372, grad=0.0000), Var(v=0.2012, grad=0.0000), Var(v=0.0910, grad=0.0000), Var(v=0.0239, grad=0.0000), Var(v=0.0478, grad=0.0000), Var(v=0.0988, grad=0.0000), Var(v=-0.0265, grad=0.0000), Var(v=-0.0503, grad=0.0000), Var(v=-0.0231, grad=0.0000), Var(v=0.0235, grad=0.0000), Var(v=0.1383, grad=0.0000), Var(v=0.0880, grad=0.0000), Var(v=0.2257, grad=0.0000)], [Var(v=-0.0391, grad=0.0000), Var(v=-0.1197, grad=0.0000), Var(v=-0.0695, grad=0.0000), Var(v=-0.0190, grad=0.0000), Var(v=0.0079, grad=0.0000), Var(v=-0.0741, grad=0.0000), Var(v=-0.0006, grad=0.0000), Var(v=-0.0959, grad=0.0000), Var(v=-0.0285, grad=0.0000), Var(v=-0.0261, grad=0.0000), Var(v=-0.0254, grad=0.0000), Var(v=-0.0327, grad=0.0000), Var(v=-0.0328, grad=0.0000), Var(v=0.0433, grad=0.0000), Var(v=-0.1630, grad=0.0000), Var(v=-0.0099, grad=0.0000), Var(v=-0.0438, grad=0.0000), Var(v=-0.0812, grad=0.0000), Var(v=-0.0193, grad=0.0000), Var(v=-0.1003, grad=0.0000), Var(v=-0.0107, grad=0.0000), Var(v=-0.1022, grad=0.0000), Var(v=-0.0011, grad=0.0000), Var(v=0.1476, grad=0.0000), Var(v=-0.0232, grad=0.0000), Var(v=-0.2066, grad=0.0000), Var(v=-0.0428, grad=0.0000), Var(v=-0.0963, grad=0.0000), Var(v=0.0420, grad=0.0000), Var(v=-0.0914, grad=0.0000), Var(v=0.1526, grad=0.0000), Var(v=-0.1960, grad=0.0000), Var(v=0.0154, grad=0.0000), Var(v=0.0522, grad=0.0000), Var(v=-0.0199, grad=0.0000), Var(v=-0.1300, grad=0.0000), Var(v=-0.0051, grad=0.0000), Var(v=-0.0750, grad=0.0000), Var(v=-0.0202, grad=0.0000), Var(v=-0.0822, grad=0.0000), Var(v=0.0868, grad=0.0000), Var(v=-0.0286, grad=0.0000), Var(v=-0.1433, grad=0.0000), Var(v=0.0544, grad=0.0000), Var(v=-0.0054, grad=0.0000), Var(v=-0.0939, grad=0.0000), Var(v=-0.1065, grad=0.0000), Var(v=0.0245, grad=0.0000), Var(v=-0.0195, grad=0.0000), Var(v=0.0100, grad=0.0000)], [Var(v=-0.0728, grad=0.0000), Var(v=-0.0229, grad=0.0000), Var(v=0.0148, grad=0.0000), Var(v=0.0837, grad=0.0000), Var(v=0.0231, grad=0.0000), Var(v=-0.0996, grad=0.0000), Var(v=0.0549, grad=0.0000), Var(v=-0.0428, grad=0.0000), Var(v=0.0816, grad=0.0000), Var(v=-0.0495, grad=0.0000), Var(v=-0.1643, grad=0.0000), Var(v=0.0495, grad=0.0000), Var(v=-0.0114, grad=0.0000), Var(v=0.1311, grad=0.0000), Var(v=0.0456, grad=0.0000), Var(v=0.1033, grad=0.0000), Var(v=0.1586, grad=0.0000), Var(v=0.0184, grad=0.0000), Var(v=0.1001, grad=0.0000), Var(v=-0.0550, grad=0.0000), Var(v=-0.1024, grad=0.0000), Var(v=-0.1263, grad=0.0000), Var(v=0.0407, grad=0.0000), Var(v=-0.0495, grad=0.0000), Var(v=-0.1343, grad=0.0000), Var(v=-0.1319, grad=0.0000), Var(v=0.0057, grad=0.0000), Var(v=0.0417, grad=0.0000), Var(v=-0.0176, grad=0.0000), Var(v=-0.0342, grad=0.0000), Var(v=-0.0985, grad=0.0000), Var(v=-0.1250, grad=0.0000), Var(v=-0.2398, grad=0.0000), Var(v=0.1547, grad=0.0000), Var(v=-0.1155, grad=0.0000), Var(v=0.0188, grad=0.0000), Var(v=0.0309, grad=0.0000), Var(v=0.1531, grad=0.0000), Var(v=-0.0103, grad=0.0000), Var(v=0.0147, grad=0.0000), Var(v=0.0268, grad=0.0000), Var(v=0.0644, grad=0.0000), Var(v=-0.0826, grad=0.0000), Var(v=-0.0382, grad=0.0000), Var(v=0.0297, grad=0.0000), Var(v=-0.0529, grad=0.0000), Var(v=0.0346, grad=0.0000), Var(v=-0.0953, grad=0.0000), Var(v=-0.1104, grad=0.0000), Var(v=0.0486, grad=0.0000)], [Var(v=0.0887, grad=0.0000), Var(v=-0.1069, grad=0.0000), Var(v=0.0426, grad=0.0000), Var(v=0.0534, grad=0.0000), Var(v=-0.0850, grad=0.0000), Var(v=0.1274, grad=0.0000), Var(v=-0.0011, grad=0.0000), Var(v=0.0302, grad=0.0000), Var(v=-0.0476, grad=0.0000), Var(v=-0.0178, grad=0.0000), Var(v=-0.1302, grad=0.0000), Var(v=0.0249, grad=0.0000), Var(v=-0.1495, grad=0.0000), Var(v=-0.1030, grad=0.0000), Var(v=0.0626, grad=0.0000), Var(v=0.0147, grad=0.0000), Var(v=0.1089, grad=0.0000), Var(v=-0.0841, grad=0.0000), Var(v=-0.1101, grad=0.0000), Var(v=-0.1243, grad=0.0000), Var(v=-0.0076, grad=0.0000), Var(v=0.0097, grad=0.0000), Var(v=-0.1738, grad=0.0000), Var(v=0.2381, grad=0.0000), Var(v=-0.0829, grad=0.0000), Var(v=-0.0010, grad=0.0000), Var(v=-0.0034, grad=0.0000), Var(v=0.0904, grad=0.0000), Var(v=0.0292, grad=0.0000), Var(v=0.0771, grad=0.0000), Var(v=0.0495, grad=0.0000), Var(v=-0.0758, grad=0.0000), Var(v=0.0312, grad=0.0000), Var(v=0.0180, grad=0.0000), Var(v=-0.0921, grad=0.0000), Var(v=-0.0617, grad=0.0000), Var(v=0.0369, grad=0.0000), Var(v=0.1027, grad=0.0000), Var(v=-0.0986, grad=0.0000), Var(v=0.0410, grad=0.0000), Var(v=-0.1606, grad=0.0000), Var(v=-0.0203, grad=0.0000), Var(v=0.0564, grad=0.0000), Var(v=-0.0271, grad=0.0000), Var(v=0.0837, grad=0.0000), Var(v=-0.0468, grad=0.0000), Var(v=0.0039, grad=0.0000), Var(v=-0.0119, grad=0.0000), Var(v=0.1430, grad=0.0000), Var(v=0.0730, grad=0.0000)], [Var(v=-0.0061, grad=0.0000), Var(v=-0.2107, grad=0.0000), Var(v=-0.0542, grad=0.0000), Var(v=-0.1142, grad=0.0000), Var(v=-0.0406, grad=0.0000), Var(v=-0.0761, grad=0.0000), Var(v=-0.0977, grad=0.0000), Var(v=0.1737, grad=0.0000), Var(v=-0.0244, grad=0.0000), Var(v=0.1092, grad=0.0000), Var(v=0.0150, grad=0.0000), Var(v=-0.1285, grad=0.0000), Var(v=0.1313, grad=0.0000), Var(v=-0.0166, grad=0.0000), Var(v=0.0629, grad=0.0000), Var(v=0.0369, grad=0.0000), Var(v=-0.1163, grad=0.0000), Var(v=0.1210, grad=0.0000), Var(v=-0.0870, grad=0.0000), Var(v=-0.0360, grad=0.0000), Var(v=0.0569, grad=0.0000), Var(v=-0.1048, grad=0.0000), Var(v=0.0485, grad=0.0000), Var(v=0.0501, grad=0.0000), Var(v=-0.0166, grad=0.0000), Var(v=0.0447, grad=0.0000), Var(v=-0.0131, grad=0.0000), Var(v=0.0711, grad=0.0000), Var(v=-0.1204, grad=0.0000), Var(v=0.0111, grad=0.0000), Var(v=-0.0880, grad=0.0000), Var(v=-0.0101, grad=0.0000), Var(v=-0.0163, grad=0.0000), Var(v=-0.0739, grad=0.0000), Var(v=-0.1088, grad=0.0000), Var(v=0.1432, grad=0.0000), Var(v=0.0854, grad=0.0000), Var(v=0.1600, grad=0.0000), Var(v=0.1012, grad=0.0000), Var(v=0.1055, grad=0.0000), Var(v=0.0715, grad=0.0000), Var(v=-0.0282, grad=0.0000), Var(v=-0.0744, grad=0.0000), Var(v=0.0620, grad=0.0000), Var(v=0.0416, grad=0.0000), Var(v=-0.2845, grad=0.0000), Var(v=0.1287, grad=0.0000), Var(v=-0.0869, grad=0.0000), Var(v=-0.2073, grad=0.0000), Var(v=-0.0318, grad=0.0000)]] Biases: [Var(v=0.0000, grad=0.0000), Var(v=-0.1715, grad=0.0000), Var(v=-0.0226, grad=0.0000), Var(v=0.0000, grad=0.0000), Var(v=0.0018, grad=0.0000), Var(v=0.0003, grad=0.0000), Var(v=0.0000, grad=0.0000), Var(v=-0.1379, grad=0.0000), Var(v=-0.0973, grad=0.0000), Var(v=0.0009, grad=0.0000), Var(v=0.0436, grad=0.0000), Var(v=-0.1139, grad=0.0000), Var(v=-0.0754, grad=0.0000), Var(v=0.0400, grad=0.0000), Var(v=0.1059, grad=0.0000), Var(v=0.0001, grad=0.0000), Var(v=0.0018, grad=0.0000), Var(v=0.0000, grad=0.0000), Var(v=0.0000, grad=0.0000), Var(v=0.0000, grad=0.0000), Var(v=-0.0006, grad=0.0000), Var(v=0.0000, grad=0.0000), Var(v=-0.0195, grad=0.0000), Var(v=-0.0003, grad=0.0000), Var(v=0.0000, grad=0.0000), Var(v=0.0000, grad=0.0000), Var(v=0.0411, grad=0.0000), Var(v=0.1008, grad=0.0000), Var(v=0.0000, grad=0.0000), Var(v=0.0865, grad=0.0000), Var(v=-0.0771, grad=0.0000), Var(v=0.1134, grad=0.0000), Var(v=0.0000, grad=0.0000), Var(v=-0.1534, grad=0.0000), Var(v=0.0692, grad=0.0000), Var(v=-0.0007, grad=0.0000), Var(v=0.0716, grad=0.0000), Var(v=-0.0011, grad=0.0000), Var(v=0.0005, grad=0.0000), Var(v=0.0057, grad=0.0000), Var(v=-0.0900, grad=0.0000), Var(v=0.0310, grad=0.0000), Var(v=0.0641, grad=0.0000), Var(v=0.0004, grad=0.0000), Var(v=-0.0006, grad=0.0000), Var(v=0.0000, grad=0.0000), Var(v=0.0640, grad=0.0000), Var(v=-0.0947, grad=0.0000), Var(v=0.0000, grad=0.0000), Var(v=0.0000, grad=0.0000)]\n",
            "Layer 2 \n",
            " Weights: [[Var(v=-0.0842, grad=0.0000)], [Var(v=-0.1757, grad=0.0000)], [Var(v=0.0044, grad=0.0000)], [Var(v=-0.0976, grad=0.0000)], [Var(v=0.2078, grad=0.0000)], [Var(v=0.0206, grad=0.0000)], [Var(v=0.0861, grad=0.0000)], [Var(v=0.1484, grad=0.0000)], [Var(v=0.1043, grad=0.0000)], [Var(v=0.1228, grad=0.0000)], [Var(v=-0.0569, grad=0.0000)], [Var(v=-0.1223, grad=0.0000)], [Var(v=0.0493, grad=0.0000)], [Var(v=0.0539, grad=0.0000)], [Var(v=-0.1660, grad=0.0000)], [Var(v=0.0023, grad=0.0000)], [Var(v=0.2071, grad=0.0000)], [Var(v=-0.0375, grad=0.0000)], [Var(v=-0.0869, grad=0.0000)], [Var(v=0.1750, grad=0.0000)], [Var(v=-0.0852, grad=0.0000)], [Var(v=0.1352, grad=0.0000)], [Var(v=0.0092, grad=0.0000)], [Var(v=-0.0637, grad=0.0000)], [Var(v=0.1724, grad=0.0000)], [Var(v=-0.0908, grad=0.0000)], [Var(v=-0.0722, grad=0.0000)], [Var(v=-0.1442, grad=0.0000)], [Var(v=0.1575, grad=0.0000)], [Var(v=-0.0994, grad=0.0000)], [Var(v=-0.0601, grad=0.0000)], [Var(v=-0.1305, grad=0.0000)], [Var(v=-0.1713, grad=0.0000)], [Var(v=0.1747, grad=0.0000)], [Var(v=0.0863, grad=0.0000)], [Var(v=-0.1200, grad=0.0000)], [Var(v=-0.1006, grad=0.0000)], [Var(v=-0.1738, grad=0.0000)], [Var(v=0.0460, grad=0.0000)], [Var(v=-0.0159, grad=0.0000)], [Var(v=0.0979, grad=0.0000)], [Var(v=-0.0618, grad=0.0000)], [Var(v=-0.0749, grad=0.0000)], [Var(v=0.0357, grad=0.0000)], [Var(v=-0.0781, grad=0.0000)], [Var(v=-0.1886, grad=0.0000)], [Var(v=-0.1044, grad=0.0000)], [Var(v=-0.1010, grad=0.0000)], [Var(v=-0.2315, grad=0.0000)], [Var(v=-0.0102, grad=0.0000)]] Biases: [Var(v=0.0077, grad=0.0000)]\n"
          ]
        },
        {
          "output_type": "execute_result",
          "data": {
            "text/plain": [
              "[None, None, None]"
            ]
          },
          "metadata": {},
          "execution_count": 70
        }
      ],
      "source": [
        "print('Network before update:')\n",
        "[print('Layer', i, '\\n', NN[i]) for i in range(len(NN))] \n",
        "\n",
        "def parameters(network):\n",
        "  params = []\n",
        "  for layer in range(len(network)):\n",
        "    params += network[layer].parameters()\n",
        "  return params\n",
        "\n",
        "def update_parameters(params, learning_rate=0.01):\n",
        "  for p in params:\n",
        "    p.v -= learning_rate*p.grad\n",
        "\n",
        "def zero_gradients(params):\n",
        "  for p in params:\n",
        "    p.grad = 0.0\n",
        "\n",
        "update_parameters(parameters(NN))\n",
        "\n",
        "print('\\nNetwork after update:')\n",
        "[print('Layer', i, '\\n', NN[i]) for i in range(len(NN))] \n",
        "\n",
        "zero_gradients(parameters(NN))\n",
        "\n",
        "print('\\nNetwork after zeroing gradients:')\n",
        "[print('Layer', i, '\\n', NN[i]) for i in range(len(NN))] "
      ]
    },
    {
      "cell_type": "code",
      "execution_count": 71,
      "metadata": {
        "id": "woWYpdw6FtIO"
      },
      "outputs": [],
      "source": [
        "# Initialize an arbitrary neural network\n",
        "NN = [\n",
        "    DenseLayer(1, 8, lambda x: x.relu()),\n",
        "    DenseLayer(8, 1, lambda x: x.identity())\n",
        "]\n",
        "\n",
        "# Recommended hyper-parameters for 3-D: \n",
        "#NN = [\n",
        "#    DenseLayer(3, 16, lambda x: x.relu()),\n",
        "#    DenseLayer(16, 1, lambda x: x.identity())\n",
        "#]\n",
        "\n",
        "\n",
        "### Notice that, when we switch from tanh to relu activation, we decrease the learning rate. This is due the stability of the gradients \n",
        "## of the activation functions."
      ]
    },
    {
      "cell_type": "code",
      "execution_count": 72,
      "metadata": {
        "id": "mdqaqYBVFtIR"
      },
      "outputs": [],
      "source": [
        "# Initialize training hyperparameters\n",
        "EPOCHS = 200\n",
        "LEARN_R = 2e-3 "
      ]
    },
    {
      "cell_type": "code",
      "execution_count": 73,
      "metadata": {
        "id": "5kfg76GMFtIW",
        "scrolled": true,
        "outputId": "5bb13427-c5bd-46cd-c2ac-2568586f398c",
        "colab": {
          "base_uri": "https://localhost:8080/"
        }
      },
      "outputs": [
        {
          "output_type": "stream",
          "name": "stdout",
          "text": [
            "   0 ( 0.00%) Train loss: 109.135 \t Validation loss: 102.201\n",
            "  10 ( 5.00%) Train loss: 15.077 \t Validation loss: 11.471\n",
            "  20 (10.00%) Train loss: 13.579 \t Validation loss: 10.294\n",
            "  30 (15.00%) Train loss: 13.103 \t Validation loss: 9.883\n",
            "  40 (20.00%) Train loss: 12.769 \t Validation loss: 9.560\n",
            "  50 (25.00%) Train loss: 12.562 \t Validation loss: 9.326\n",
            "  60 (30.00%) Train loss: 12.387 \t Validation loss: 9.155\n",
            "  70 (35.00%) Train loss: 12.241 \t Validation loss: 9.011\n",
            "  80 (40.00%) Train loss: 12.117 \t Validation loss: 8.926\n",
            "  90 (45.00%) Train loss: 12.002 \t Validation loss: 8.872\n",
            " 100 (50.00%) Train loss: 11.956 \t Validation loss: 8.856\n",
            " 110 (55.00%) Train loss: 11.928 \t Validation loss: 8.867\n",
            " 120 (60.00%) Train loss: 11.910 \t Validation loss: 8.884\n",
            " 130 (65.00%) Train loss: 11.900 \t Validation loss: 8.900\n",
            " 140 (70.00%) Train loss: 11.895 \t Validation loss: 8.912\n",
            " 150 (75.00%) Train loss: 11.890 \t Validation loss: 8.918\n",
            " 160 (80.00%) Train loss: 11.883 \t Validation loss: 8.921\n",
            " 170 (85.00%) Train loss: 11.872 \t Validation loss: 8.920\n",
            " 180 (90.00%) Train loss: 11.862 \t Validation loss: 8.917\n",
            " 190 (95.00%) Train loss: 11.851 \t Validation loss: 8.915\n"
          ]
        }
      ],
      "source": [
        "train_loss = []\n",
        "val_loss = []\n",
        "\n",
        "for e in range(EPOCHS):\n",
        "     \n",
        "    # Forward pass and loss computation\n",
        "    Loss = squared_loss(y_train, forward(x_train, NN))\n",
        "\n",
        "    # Backward pass\n",
        "    Loss.backward()\n",
        "    \n",
        "    # gradient descent update\n",
        "    update_parameters(parameters(NN), LEARN_R)\n",
        "    zero_gradients(parameters(NN))\n",
        "    \n",
        "    # Training loss\n",
        "    train_loss.append(Loss.v)\n",
        "    \n",
        "    # Validation\n",
        "    Loss_validation = squared_loss(y_validation, forward(x_validation, NN))\n",
        "    val_loss.append(Loss_validation.v)\n",
        "    \n",
        "    if e%10==0:\n",
        "        print(\"{:4d}\".format(e),\n",
        "              \"({:5.2f}%)\".format(e/EPOCHS*100), \n",
        "              \"Train loss: {:4.3f} \\t Validation loss: {:4.3f}\".format(train_loss[-1], val_loss[-1]))\n",
        "        \n"
      ]
    },
    {
      "cell_type": "code",
      "execution_count": 74,
      "metadata": {
        "id": "VetyRWFwFtIY",
        "outputId": "0083f2dd-7797-4b86-fc3c-989404b6fbaa",
        "colab": {
          "base_uri": "https://localhost:8080/",
          "height": 265
        }
      },
      "outputs": [
        {
          "output_type": "display_data",
          "data": {
            "text/plain": [
              "<Figure size 432x288 with 1 Axes>"
            ],
            "image/png": "[encoded data removed]"
          },
          "metadata": {
            "needs_background": "light"
          }
        }
      ],
      "source": [
        "plt.plot(range(len(train_loss)), train_loss);\n",
        "plt.plot(range(len(val_loss)), val_loss);"
      ]
    },
    {
      "cell_type": "markdown",
      "metadata": {
        "id": "8OgmIrM9FtIb"
      },
      "source": [
        "# Testing\n",
        "\n",
        "We have kept the calculation of the test error separate in order to emphasize that you should not use the test set in optimization."
      ]
    },
    {
      "cell_type": "code",
      "execution_count": 75,
      "metadata": {
        "id": "HmNi7S-vFtIc"
      },
      "outputs": [],
      "source": [
        "output_test = forward(x_test, NN)"
      ]
    },
    {
      "cell_type": "code",
      "execution_count": 76,
      "metadata": {
        "id": "7mmJOTSEFtIf",
        "outputId": "766465f0-bf03-47d3-a0f3-9994125a6263",
        "colab": {
          "base_uri": "https://localhost:8080/",
          "height": 314
        }
      },
      "outputs": [
        {
          "output_type": "stream",
          "name": "stdout",
          "text": [
            "Test loss:  9.731\n"
          ]
        },
        {
          "output_type": "display_data",
          "data": {
            "text/plain": [
              "<Figure size 432x288 with 1 Axes>"
            ],
            "image/png": "[encoded data removed]"
          },
          "metadata": {
            "needs_background": "light"
          }
        }
      ],
      "source": [
        "y_test_np = Var_to_nparray(y_test)\n",
        "plt.scatter(y_test_np, Var_to_nparray(output_test));\n",
        "plt.plot([np.min(y_test_np), np.max(y_test_np)], [np.min(y_test_np), np.max(y_test_np)], color='k');\n",
        "plt.xlabel(\"y\");\n",
        "plt.ylabel(\"$\\hat{y}$\");\n",
        "plt.title(\"Model prediction vs real in the test set, the close to the line the better\")\n",
        "plt.grid(True);\n",
        "plt.axis('equal');\n",
        "plt.tight_layout();\n",
        "\n",
        "Loss_test = squared_loss(y_test, forward(x_test, NN))\n",
        "\n",
        "print(\"Test loss:  {:4.3f}\".format(Loss_test.v))"
      ]
    },
    {
      "cell_type": "code",
      "execution_count": 77,
      "metadata": {
        "id": "ODi0WlmQFtIh",
        "outputId": "f7a00380-6677-4f21-b2df-68894b59a572",
        "colab": {
          "base_uri": "https://localhost:8080/",
          "height": 279
        }
      },
      "outputs": [
        {
          "output_type": "display_data",
          "data": {
            "text/plain": [
              "<Figure size 432x288 with 1 Axes>"
            ],
            "image/png": "[encoded data removed]"
          },
          "metadata": {
            "needs_background": "light"
          }
        }
      ],
      "source": [
        "x_test_np = Var_to_nparray(x_test)\n",
        "x_train_np = Var_to_nparray(x_train)\n",
        "y_train_np = Var_to_nparray(y_train)\n",
        "if D1:\n",
        "    plt.scatter(x_train_np, y_train_np, label=\"train data\");\n",
        "    plt.scatter(x_test_np, Var_to_nparray(output_test), label=\"test prediction\");\n",
        "    plt.scatter(x_test_np, y_test_np, label=\"test data\");\n",
        "    plt.legend();\n",
        "    plt.xlabel(\"x\");\n",
        "    plt.ylabel(\"y\");\n",
        "else:\n",
        "    plt.scatter(x_train_np[:,1], y_train, label=\"train data\");\n",
        "    plt.scatter(x_test_np[:,1], Var_to_nparray(output_test), label=\"test data prediction\");\n",
        "    plt.scatter(x_test_np[:,1], y_test_np, label=\"test data\");\n",
        "    plt.legend();\n",
        "    plt.xlabel(\"x\");\n",
        "    plt.ylabel(\"y\");"
      ]
    },
    {
      "cell_type": "markdown",
      "metadata": {
        "id": "zTBAmjsAFtIk"
      },
      "source": [
        "## Exercise k) Show overfitting, underfitting and just right fitting\n",
        "\n",
        "Vary the architecture and other things to show clear signs of overfitting (=training loss significantly lower than test loss) and underfitting (=not fitting enoung to training data so that test performance is also hurt).\n",
        "\n",
        "See also if you can get a good compromise which leads to a low validation loss. \n",
        "\n",
        "For this problem do you see any big difference between validation and test loss? The answer here will probably be no. Discuss cases where it is important to keep the two separate.\n",
        "\n",
        "_Insert written answer here._\n"
      ]
    },
    {
      "cell_type": "code",
      "execution_count": 78,
      "metadata": {
        "id": "tQZCn2dxFtIl"
      },
      "outputs": [],
      "source": [
        "# Insert your code for getting overfitting, underfitting and just right fitting"
      ]
    },
    {
      "cell_type": "markdown",
      "metadata": {
        "id": "fYPZP-eTFtIo"
      },
      "source": [
        "# Next steps - classification\n",
        "\n",
        "It is straight forward to extend what we have done to classification. \n",
        "\n",
        "For numerical stability it is better to make softmax and cross-entropy as one function so we write the cross entropy loss as a function of the logits we talked about last week. \n",
        "\n",
        "Next week we will see how to perform classification in PyTorch."
      ]
    },
    {
      "cell_type": "markdown",
      "metadata": {
        "id": "qsVPul3QFtIo"
      },
      "source": [
        "## Exercise l) optional - Implement backpropagation for classification\n",
        "\n",
        "Should be possible with very few lines of code. :-)"
      ]
    },
    {
      "cell_type": "code",
      "execution_count": 79,
      "metadata": {
        "id": "oC8QrI2tFtIp"
      },
      "outputs": [],
      "source": [
        "# Just add code."
      ]
    },
    {
      "cell_type": "markdown",
      "metadata": {
        "id": "APqhJv3tta1O"
      },
      "source": [
        "## Exercise m) optional - Introduce a NeuralNetwork class\n",
        "\n",
        "The functions we applied on the neural network (parameters, update_parameters and zero_gradients) can more naturally be included as methods in a NeuralNetwork class. Make such a class and modify the code to use it. "
      ]
    },
    {
      "cell_type": "code",
      "execution_count": 80,
      "metadata": {
        "id": "Dqfnor1ouMLq"
      },
      "outputs": [],
      "source": [
        "# just add some code"
      ]
    }
  ],
  "metadata": {
    "anaconda-cloud": {},
    "colab": {
      "collapsed_sections": [
        "U4057_ljNvWB",
        "p_8n_SKnIW2F",
        "oLrGJytZFtGm",
        "jpIZPBpNI0pO",
        "_79HOAXrFtHK",
        "mqeyab9qFtGs",
        "-XyXBD37FtHk",
        "SrwSJ2UWFtHu",
        "zTBAmjsAFtIk",
        "qsVPul3QFtIo",
        "APqhJv3tta1O"
      ],
      "name": "2.1-EXE-FNN-AutoDif-Nanograd.ipynb",
      "provenance": []
    },
    "kernelspec": {
      "display_name": "Python 3",
      "language": "python",
      "name": "python3"
    },
    "language_info": {
      "codemirror_mode": {
        "name": "ipython",
        "version": 3
      },
      "file_extension": ".py",
      "mimetype": "text/x-python",
      "name": "python",
      "nbconvert_exporter": "python",
      "pygments_lexer": "ipython3",
      "version": "3.9.12"
    }
  },
  "nbformat": 4,
  "nbformat_minor": 0
}